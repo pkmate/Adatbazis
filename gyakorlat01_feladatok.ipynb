{
    "metadata": {
        "kernelspec": {
            "name": "SQL",
            "display_name": "SQL",
            "language": "sql"
        },
        "language_info": {
            "name": "sql",
            "version": ""
        },
        "extensions": {
            "azuredatastudio": {
                "version": 1,
                "views": []
            }
        }
    },
    "nbformat_minor": 2,
    "nbformat": 4,
    "cells": [
        {
            "cell_type": "markdown",
            "source": [
                "1. Listázzuk a <span style=\"color: #800000;\">`kolcsonzes`</span> tábla következő oszlopait: ID, ki\\_datum, vissza\\_datum! \n",
                "\n",
                "  \n",
                "\n",
                "a.  Az ID oszlop neve legyen Azonosító\n",
                "\n",
                "b.  A ki\\_datum oszlop neve legyen Kölcsönzés\\_dátuma\n",
                "\n",
                "c.  A vissza\\_datum oszlop neve legyen Visszahozatal\\_dátuma"
            ],
            "metadata": {
                "azdata_cell_guid": "77f2d5b3-38e9-41cc-893f-f5afd02b97ef"
            },
            "attachments": {}
        },
        {
            "cell_type": "code",
            "source": [
                "SELECT ID AS 'Azonosító', \r\n",
                "        ki_datum AS 'A kölcsönzés dátuma',\r\n",
                "        vissza_datum 'Visszahozatal dátuma'\r\n",
                "        FROM kolcsonzesek;"
            ],
            "metadata": {
                "azdata_cell_guid": "bd3cef1a-4e6e-4ece-9dc3-aaa9d2b5d66d",
                "language": "sql"
            },
            "outputs": [
                {
                    "output_type": "display_data",
                    "data": {
                        "text/html": "(5 rows affected)"
                    },
                    "metadata": {}
                },
                {
                    "output_type": "display_data",
                    "data": {
                        "text/html": "Total execution time: 00:00:00.055"
                    },
                    "metadata": {}
                },
                {
                    "output_type": "execute_result",
                    "metadata": {},
                    "execution_count": 2,
                    "data": {
                        "application/vnd.dataresource+json": {
                            "schema": {
                                "fields": [
                                    {
                                        "name": "Azonosító"
                                    },
                                    {
                                        "name": "A kölcsönzés dátuma"
                                    },
                                    {
                                        "name": "Visszahozatal dátuma"
                                    }
                                ]
                            },
                            "data": [
                                {
                                    "Azonosító": "10",
                                    "A kölcsönzés dátuma": "2003-12-11",
                                    "Visszahozatal dátuma": "NULL"
                                },
                                {
                                    "Azonosító": "11",
                                    "A kölcsönzés dátuma": "2003-12-11",
                                    "Visszahozatal dátuma": "NULL"
                                },
                                {
                                    "Azonosító": "12",
                                    "A kölcsönzés dátuma": "2003-12-11",
                                    "Visszahozatal dátuma": "NULL"
                                },
                                {
                                    "Azonosító": "13",
                                    "A kölcsönzés dátuma": "2006-10-01",
                                    "Visszahozatal dátuma": "2006-10-10"
                                },
                                {
                                    "Azonosító": "14",
                                    "A kölcsönzés dátuma": "2006-10-02",
                                    "Visszahozatal dátuma": "2006-10-09"
                                }
                            ]
                        },
                        "text/html": [
                            "<table>",
                            "<tr><th>Azonosító</th><th>A kölcsönzés dátuma</th><th>Visszahozatal dátuma</th></tr>",
                            "<tr><td>10</td><td>2003-12-11</td><td>NULL</td></tr>",
                            "<tr><td>11</td><td>2003-12-11</td><td>NULL</td></tr>",
                            "<tr><td>12</td><td>2003-12-11</td><td>NULL</td></tr>",
                            "<tr><td>13</td><td>2006-10-01</td><td>2006-10-10</td></tr>",
                            "<tr><td>14</td><td>2006-10-02</td><td>2006-10-09</td></tr>",
                            "</table>"
                        ]
                    }
                }
            ],
            "execution_count": 2
        },
        {
            "cell_type": "markdown",
            "source": [
                "2. Melyek azok a kölcsönzések, amelyek 2005.01.01 és 2007.01.01 között történtek?"
            ],
            "metadata": {
                "azdata_cell_guid": "88f5b4bb-f4c1-4bad-a0c7-b2592687b422"
            },
            "attachments": {}
        },
        {
            "cell_type": "code",
            "source": [
                "SELECT ki_datum\r\n",
                "FROM kolcsonzesek\r\n",
                "--WHERE ki_datum >= '2005.01.01' AND ki_datum <= '2007.01.01'\r\n",
                "WHERE ki_datum BETWEEN '2005.01.01' AND '2007.01.01'"
            ],
            "metadata": {
                "azdata_cell_guid": "e9de5726-f036-4fb9-8c33-a873955ed886",
                "language": "sql"
            },
            "outputs": [
                {
                    "output_type": "display_data",
                    "data": {
                        "text/html": "(2 rows affected)"
                    },
                    "metadata": {}
                },
                {
                    "output_type": "display_data",
                    "data": {
                        "text/html": "Total execution time: 00:00:00.010"
                    },
                    "metadata": {}
                },
                {
                    "output_type": "execute_result",
                    "execution_count": 3,
                    "data": {
                        "application/vnd.dataresource+json": {
                            "schema": {
                                "fields": [
                                    {
                                        "name": "ki_datum"
                                    }
                                ]
                            },
                            "data": [
                                {
                                    "ki_datum": "2006-10-01"
                                },
                                {
                                    "ki_datum": "2006-10-02"
                                }
                            ]
                        },
                        "text/html": "<table><tr><th>ki_datum</th></tr><tr><td>2006-10-01</td></tr><tr><td>2006-10-02</td></tr></table>"
                    },
                    "metadata": {}
                }
            ],
            "execution_count": 3
        },
        {
            "cell_type": "markdown",
            "source": [
                "3. Melyek azok a tagok, akiknek kedvenc stílusa a játék, és nevük a-ra végződik?\n",
                "\n",
                "  \n",
                "\n",
                "a.  Csak a tagok neve jelenjen meg, az oszlop neve Név legyen"
            ],
            "metadata": {
                "azdata_cell_guid": "9e7249de-1b59-43d8-84b1-26fa7d81fc5a"
            },
            "attachments": {}
        },
        {
            "cell_type": "code",
            "source": [
                "SELECT nev AS 'Név'\r\n",
                "FROM tagok\r\n",
                "WHERE kedvencstilus = 'játék'\r\n",
                "AND nev LIKE '%a';"
            ],
            "metadata": {
                "azdata_cell_guid": "6405d3e8-a9b1-45d7-aa76-3b1e785ef6cc",
                "language": "sql"
            },
            "outputs": [
                {
                    "output_type": "display_data",
                    "data": {
                        "text/html": "(2 rows affected)"
                    },
                    "metadata": {}
                },
                {
                    "output_type": "display_data",
                    "data": {
                        "text/html": "Total execution time: 00:00:00.020"
                    },
                    "metadata": {}
                },
                {
                    "output_type": "execute_result",
                    "execution_count": 10,
                    "data": {
                        "application/vnd.dataresource+json": {
                            "schema": {
                                "fields": [
                                    {
                                        "name": "Név"
                                    }
                                ]
                            },
                            "data": [
                                {
                                    "Név": "Bodó Kinga"
                                },
                                {
                                    "Név": "Garay Magdolna"
                                }
                            ]
                        },
                        "text/html": "<table><tr><th>Név</th></tr><tr><td>Bodó Kinga</td></tr><tr><td>Garay Magdolna</td></tr></table>"
                    },
                    "metadata": {}
                }
            ],
            "execution_count": 10
        },
        {
            "cell_type": "markdown",
            "source": [
                "4. Listázzuk egy oszlopban a tagok nevét, címét és kedvenc stílusát összefűzve! \n",
                "\n",
                "  \n",
                "\n",
                "a.  A nevet, címet és a stílust kötőjellel válasszuk el\n",
                "\n",
                "b.  A kötőjelek előtt és után legyen 1-1 szóköz\n",
                "\n",
                "c.  Az oszlop neve legyen TAG\n",
                "\n",
                "d.  Kinga keresztnevű tagok ne legyenek benne a listában"
            ],
            "metadata": {
                "azdata_cell_guid": "6478e469-c094-472c-a772-ccd5b5c61516"
            },
            "attachments": {}
        },
        {
            "cell_type": "code",
            "source": [
                ""
            ],
            "metadata": {
                "azdata_cell_guid": "02031ea2-3838-458d-839c-228e3b362b61",
                "language": "sql"
            },
            "outputs": [],
            "execution_count": null
        },
        {
            "cell_type": "markdown",
            "source": [
                "5. Mennyi lenne a dvd-k nettó ára, ha 20%-kal csökkenne? \n",
                "\n",
                "  \n",
                "\n",
                "a.  Csak a dvd-k címét és a csökkentett árat jelenítsük meg\n",
                "\n",
                "b.  A csökkentett árat nevezzük el diszkont\\_ar-nak"
            ],
            "metadata": {
                "azdata_cell_guid": "9edbbaf9-c276-4898-9a01-e1b2993c089f"
            },
            "attachments": {}
        },
        {
            "cell_type": "code",
            "source": [
                "SELECT cim, nettoar*0.8 AS 'diszkont_ar'\r\n",
                "FROM dvd"
            ],
            "metadata": {
                "azdata_cell_guid": "5ad5fdcb-2878-4111-861a-833bcd50e935",
                "language": "sql"
            },
            "outputs": [
                {
                    "output_type": "display_data",
                    "data": {
                        "text/html": "(318 rows affected)"
                    },
                    "metadata": {}
                },
                {
                    "output_type": "display_data",
                    "data": {
                        "text/html": "Total execution time: 00:00:00.101"
                    },
                    "metadata": {}
                },
                {
                    "output_type": "execute_result",
                    "execution_count": 12,
                    "data": {
                        "application/vnd.dataresource+json": {
                            "schema": {
                                "fields": [
                                    {
                                        "name": "cim"
                                    },
                                    {
                                        "name": "diszkont_ar"
                                    }
                                ]
                            },
                            "data": [
                                {
                                    "cim": "NULL",
                                    "diszkont_ar": "3087,2000000000003"
                                },
                                {
                                    "cim": "A II. világháború története (1999)",
                                    "diszkont_ar": "3395,2000000000003"
                                },
                                {
                                    "cim": "3D Dinosaur - adventure",
                                    "diszkont_ar": "4032,8"
                                },
                                {
                                    "cim": "3D virtuális origami (2000)",
                                    "diszkont_ar": "4284"
                                },
                                {
                                    "cim": "Az 1848-1849-iki szabadságharc története (2002)",
                                    "diszkont_ar": "4560"
                                },
                                {
                                    "cim": "Ablak zsiráf (1999)",
                                    "diszkont_ar": "2832"
                                },
                                {
                                    "cim": "Ady Endre összes művei (1999)",
                                    "diszkont_ar": "3392,8"
                                },
                                {
                                    "cim": "Afrika",
                                    "diszkont_ar": "4254,400000000001"
                                },
                                {
                                    "cim": "Age of Empires (2000)",
                                    "diszkont_ar": "3585,6000000000004"
                                },
                                {
                                    "cim": "Airport Inc.",
                                    "diszkont_ar": "3448,8"
                                },
                                {
                                    "cim": "American Rodeo : BullRider 2000 (2001)",
                                    "diszkont_ar": "4472,8"
                                },
                                {
                                    "cim": "Angol : 8-10 éveseknek (2002)",
                                    "diszkont_ar": "3882,4"
                                },
                                {
                                    "cim": "Angol és német nyelvtani gyakorlatok (2002)",
                                    "diszkont_ar": "3924,8"
                                },
                                {
                                    "cim": "Angol szótanító CD-ROM",
                                    "diszkont_ar": "3559,2000000000003"
                                },
                                {
                                    "cim": "Angol szótanító CD-ROM",
                                    "diszkont_ar": "3555,2000000000003"
                                },
                                {
                                    "cim": "Angol szótár (1996)",
                                    "diszkont_ar": "2807,2000000000003"
                                },
                                {
                                    "cim": "Angol-magyar, Magyar-angol hangosszótár",
                                    "diszkont_ar": "4120,8"
                                },
                                {
                                    "cim": "Angol-magyar nagyszótár (Halász Előd)",
                                    "diszkont_ar": "4510,400000000001"
                                },
                                {
                                    "cim": "Az áramvonalas fakanál",
                                    "diszkont_ar": "4564,8"
                                },
                                {
                                    "cim": "Arany János: A bajusz (2002)",
                                    "diszkont_ar": "2712,8"
                                },
                                {
                                    "cim": "Az Árpád-ház története",
                                    "diszkont_ar": "4017,6000000000004"
                                },
                                {
                                    "cim": "Art Attack (1998)",
                                    "diszkont_ar": "3131,2000000000003"
                                },
                                {
                                    "cim": "Art puzzle (1998)",
                                    "diszkont_ar": "4628,8"
                                },
                                {
                                    "cim": "Az ásványok világa",
                                    "diszkont_ar": "4499,2"
                                },
                                {
                                    "cim": "Ausztrália",
                                    "diszkont_ar": "4260,8"
                                },
                                {
                                    "cim": "Auto 2000 - Kerékvilág",
                                    "diszkont_ar": "3570,4"
                                },
                                {
                                    "cim": "Ázsia (2000)",
                                    "diszkont_ar": "2498,4"
                                },
                                {
                                    "cim": "Biblia (1995)",
                                    "diszkont_ar": "3552"
                                },
                                {
                                    "cim": "Biológia '97",
                                    "diszkont_ar": "4434,400000000001"
                                },
                                {
                                    "cim": "Biológia (2000)",
                                    "diszkont_ar": "3055,2000000000003"
                                },
                                {
                                    "cim": "Biológia (2001)",
                                    "diszkont_ar": "3033,6000000000004"
                                },
                                {
                                    "cim": "Biológia : 12-14 éveseknek (2003)",
                                    "diszkont_ar": "2785,6000000000004"
                                },
                                {
                                    "cim": "Blinky Bill : A fantasztikus léggömbkaland",
                                    "diszkont_ar": "3260,8"
                                },
                                {
                                    "cim": "Broken Sword II. (cop. 1997)",
                                    "diszkont_ar": "3601,6000000000004"
                                },
                                {
                                    "cim": "Budapest kalauz",
                                    "diszkont_ar": "3243,2000000000003"
                                },
                                {
                                    "cim": "Budapest Museum",
                                    "diszkont_ar": "4233,6"
                                },
                                {
                                    "cim": "Buggy",
                                    "diszkont_ar": "4664"
                                },
                                {
                                    "cim": "Byte Magyarország (2002)",
                                    "diszkont_ar": "2621,6000000000004"
                                },
                                {
                                    "cim": "Caesar III.",
                                    "diszkont_ar": "3308,8"
                                },
                                {
                                    "cim": "Capitalism II. (2001)",
                                    "diszkont_ar": "4849,6"
                                },
                                {
                                    "cim": "Capitalism Plus",
                                    "diszkont_ar": "4024"
                                },
                                {
                                    "cim": "Castle Explorer",
                                    "diszkont_ar": "2965,6000000000004"
                                },
                                {
                                    "cim": "CD Panoráma 1-4. (1998)",
                                    "diszkont_ar": "4337,6"
                                },
                                {
                                    "cim": "Computer iskola (1998)",
                                    "diszkont_ar": "4208"
                                },
                                {
                                    "cim": "Csizmás kandúr (1998)",
                                    "diszkont_ar": "4745,6"
                                },
                                {
                                    "cim": "Csodálatos univerzum (1997)",
                                    "diszkont_ar": "3269,6000000000004"
                                },
                                {
                                    "cim": "Dél-Amerika (1999)",
                                    "diszkont_ar": "3199,2000000000003"
                                },
                                {
                                    "cim": "Dementia 1-5. (1997)",
                                    "diszkont_ar": "4735,2"
                                },
                                {
                                    "cim": "Deutsch: Anfanger (kezdő) + Telepítő ",
                                    "diszkont_ar": "4506,400000000001"
                                },
                                {
                                    "cim": "Deutsch: Fortgeschrittene (haladó) + Installation",
                                    "diszkont_ar": "4627,2"
                                },
                                {
                                    "cim": "Deutsch: Mittelstufe (középhaladó)+ Telepítő",
                                    "diszkont_ar": "3501,6000000000004"
                                },
                                {
                                    "cim": "Diablo",
                                    "diszkont_ar": "4775,2"
                                },
                                {
                                    "cim": "Diablo II. (2000)",
                                    "diszkont_ar": "3920"
                                },
                                {
                                    "cim": "Dicső napok és hétköznapok 1848 - Digitális forrásgyűjtemény 1.",
                                    "diszkont_ar": "4488,8"
                                },
                                {
                                    "cim": "Dreams to Reality 1-2. (1997)",
                                    "diszkont_ar": "3759,2000000000003"
                                },
                                {
                                    "cim": "Duke Nukem 3D",
                                    "diszkont_ar": "4379,2"
                                },
                                {
                                    "cim": "Dungeon Keeper 2. (1999)",
                                    "diszkont_ar": "2695,2000000000003"
                                },
                                {
                                    "cim": "E-Games : Collector's Edition (2001)",
                                    "diszkont_ar": "4466,400000000001"
                                },
                                {
                                    "cim": "Éléstár (1998)",
                                    "diszkont_ar": "2606,4"
                                },
                                {
                                    "cim": "Élet a polgárosodó Magyarországon (2001)",
                                    "diszkont_ar": "4457,6"
                                },
                                {
                                    "cim": "Életképek 1848 (1998)",
                                    "diszkont_ar": "3368,8"
                                },
                                {
                                    "cim": "Az ember tragédiája",
                                    "diszkont_ar": "3436"
                                },
                                {
                                    "cim": "Encarta World Atlas '99 1-2. (1998)",
                                    "diszkont_ar": "4267,2"
                                },
                                {
                                    "cim": "Enemy Engaged RAH-66",
                                    "diszkont_ar": "4173,6"
                                },
                                {
                                    "cim": "English 1-2. + Telepítő",
                                    "diszkont_ar": "4172"
                                },
                                {
                                    "cim": "English: Intermediate (haladó)",
                                    "diszkont_ar": "2901,6000000000004"
                                },
                                {
                                    "cim": "English by Stealth  lásd: Lopva angolul",
                                    "diszkont_ar": "3582,4"
                                },
                                {
                                    "cim": "Erdély (1996)",
                                    "diszkont_ar": "3999,2000000000003"
                                },
                                {
                                    "cim": "Espanol: Intermedio + Telepítő",
                                    "diszkont_ar": "3131,2000000000003"
                                },
                                {
                                    "cim": "Espanol: Principiante + Telepítő",
                                    "diszkont_ar": "4705,6"
                                },
                                {
                                    "cim": "Észak-Amerika",
                                    "diszkont_ar": "3195,2000000000003"
                                },
                                {
                                    "cim": "Európa",
                                    "diszkont_ar": "4216"
                                },
                                {
                                    "cim": "The F.A. Premier League Stars 2001",
                                    "diszkont_ar": "3096,8"
                                },
                                {
                                    "cim": "Felvételi példatár : Angol",
                                    "diszkont_ar": "3100,8"
                                },
                                {
                                    "cim": "Felvételi példatár : Biológia, földrajz",
                                    "diszkont_ar": "2572"
                                },
                                {
                                    "cim": "Felvételi példatár : Kémia, fizika",
                                    "diszkont_ar": "4680,8"
                                },
                                {
                                    "cim": "Felvételi példatár : Magyar nyelv és irodalom",
                                    "diszkont_ar": "4764"
                                },
                                {
                                    "cim": "Felvételi példatár : Matematika",
                                    "diszkont_ar": "4007,2000000000003"
                                },
                                {
                                    "cim": "Felvételi példatár : Német",
                                    "diszkont_ar": "2481,6000000000004"
                                },
                                {
                                    "cim": "FIFA, 2000 (1999)",
                                    "diszkont_ar": "4047,2000000000003"
                                },
                                {
                                    "cim": "Fighting Force (1998)",
                                    "diszkont_ar": "3840"
                                },
                                {
                                    "cim": "Final Liberation (1997)",
                                    "diszkont_ar": "3705,6000000000004"
                                },
                                {
                                    "cim": "Fitness mesterfokon / Béres Alexandra (2001)",
                                    "diszkont_ar": "3685,6000000000004"
                                },
                                {
                                    "cim": "Fizika : 12-14 éveseknek (2002)",
                                    "diszkont_ar": "2987,2000000000003"
                                },
                                {
                                    "cim": "Fizika felkészítő az érettségi és felvételi vizsgára",
                                    "diszkont_ar": "3848"
                                },
                                {
                                    "cim": "Fizika világa (2001)",
                                    "diszkont_ar": "4610,400000000001"
                                },
                                {
                                    "cim": "A Föld élővilága",
                                    "diszkont_ar": "4720"
                                },
                                {
                                    "cim": "Földrajz: 10-14 éveseknek (2002)",
                                    "diszkont_ar": "3144"
                                },
                                {
                                    "cim": "Földrajz: érettségi előkészítő (2002)",
                                    "diszkont_ar": "2538,4"
                                },
                                {
                                    "cim": "Francais 1-2. + Telepítő",
                                    "diszkont_ar": "3230,4"
                                },
                                {
                                    "cim": "Francais: Débutan (kezdő) + Telepítő",
                                    "diszkont_ar": "3016"
                                },
                                {
                                    "cim": "Francais: Moyen + Telepítő",
                                    "diszkont_ar": "4495,2"
                                },
                                {
                                    "cim": "Francia-magyar szótár",
                                    "diszkont_ar": "2852,8"
                                },
                                {
                                    "cim": "Funschool in Dreamland (1995)",
                                    "diszkont_ar": "3812,8"
                                },
                                {
                                    "cim": "Geolexikon 4.2 : földtani adatbázis (2002)",
                                    "diszkont_ar": "3681,6000000000004"
                                },
                                {
                                    "cim": "Gépírás 2000",
                                    "diszkont_ar": "3148,8"
                                },
                                {
                                    "cim": "Gondolattár: aforizmák, szállóigék",
                                    "diszkont_ar": "4276,8"
                                },
                                {
                                    "cim": "GTA 2",
                                    "diszkont_ar": "4004"
                                },
                                {
                                    "cim": "Hadiflották I. (2002)",
                                    "diszkont_ar": "4099,2"
                                },
                                {
                                    "cim": "Hadtudományi lexikon (1998)",
                                    "diszkont_ar": "2812"
                                },
                                {
                                    "cim": "Hajdúböszörmény",
                                    "diszkont_ar": "3024,8"
                                },
                                {
                                    "cim": "Halak, kétéltűek, hüllők",
                                    "diszkont_ar": "3322,4"
                                },
                                {
                                    "cim": "Half-Life (1996)",
                                    "diszkont_ar": "4324"
                                },
                                {
                                    "cim": "Half-Life Generation: Game of the Year Edition (2002)",
                                    "diszkont_ar": "2964"
                                },
                                {
                                    "cim": "Half-Life Generation: Counter Strike (2002)",
                                    "diszkont_ar": "4595,2"
                                },
                                {
                                    "cim": "Half-Life Generation: Blue Shift (2002)",
                                    "diszkont_ar": "4582,400000000001"
                                },
                                {
                                    "cim": "Harry Potter és a bölcsek köve (2001)",
                                    "diszkont_ar": "3577,6000000000004"
                                },
                                {
                                    "cim": "Haza és haladás",
                                    "diszkont_ar": "2784,8"
                                },
                                {
                                    "cim": "A hét világcsoda (2001)",
                                    "diszkont_ar": "2529,6000000000004"
                                },
                                {
                                    "cim": "Home Desing 3D (1998)",
                                    "diszkont_ar": "3429,6000000000004"
                                },
                                {
                                    "cim": "Hupikék törpikék: teletransportörp (1999)",
                                    "diszkont_ar": "2488"
                                },
                                {
                                    "cim": "Informatika - Internet - Iskola",
                                    "diszkont_ar": "2986,4"
                                },
                                {
                                    "cim": "Interaktív angol nyelvész kurzus haladó szint 1-5.",
                                    "diszkont_ar": "3673,6000000000004"
                                },
                                {
                                    "cim": "Interaktív angol nyelvész kurzus kezdő szint",
                                    "diszkont_ar": "3346,4"
                                },
                                {
                                    "cim": "Interaktív angol nyelvész kurzus középhaladó szint",
                                    "diszkont_ar": "2492"
                                },
                                {
                                    "cim": "Interaktív magyar nyelvtan",
                                    "diszkont_ar": "3823,2000000000003"
                                },
                                {
                                    "cim": "International Rally Championship",
                                    "diszkont_ar": "3112"
                                },
                                {
                                    "cim": "Internet (1996)",
                                    "diszkont_ar": "3947,2000000000003"
                                },
                                {
                                    "cim": "Introduction to Archeology",
                                    "diszkont_ar": "3018,4"
                                },
                                {
                                    "cim": "Investigating 20th Century Art (1994)",
                                    "diszkont_ar": "3515,2000000000003"
                                },
                                {
                                    "cim": "Az ipari forradalom kora (2000)",
                                    "diszkont_ar": "4065,6000000000004"
                                },
                                {
                                    "cim": "Irodalmi arcképcsarnok",
                                    "diszkont_ar": "3092,8"
                                },
                                {
                                    "cim": "Irodalom  felkészítő az érettségi és felvételi vizsgára",
                                    "diszkont_ar": "4523,2"
                                },
                                {
                                    "cim": "Irodalom (1998)",
                                    "diszkont_ar": "4500"
                                },
                                {
                                    "cim": "Italiano (1998) + Installation",
                                    "diszkont_ar": "4348,8"
                                },
                                {
                                    "cim": "Italiano 1-2. (1998) + Installation",
                                    "diszkont_ar": "4865,6"
                                },
                                {
                                    "cim": "Italiano 1-2. (1998) + Installation",
                                    "diszkont_ar": "2735,2000000000003"
                                },
                                {
                                    "cim": "Jancsó",
                                    "diszkont_ar": "3363,2000000000003"
                                },
                                {
                                    "cim": "Japán : képes kulturális atlasz (2001)",
                                    "diszkont_ar": "3567,2000000000003"
                                },
                                {
                                    "cim": "Játékfilmek 1963-tól napjainkig",
                                    "diszkont_ar": "2510,4"
                                },
                                {
                                    "cim": "Játszóház (1998)",
                                    "diszkont_ar": "4239,2"
                                },
                                {
                                    "cim": "Jókai összes művei (2001)",
                                    "diszkont_ar": "3814,4"
                                },
                                {
                                    "cim": "József Attila (1998)",
                                    "diszkont_ar": "3096"
                                },
                                {
                                    "cim": "A jövő titkai - Interaktív horoszkóp (1998)",
                                    "diszkont_ar": "4857,6"
                                },
                                {
                                    "cim": "Kártyaváros",
                                    "diszkont_ar": "2485,6000000000004"
                                },
                                {
                                    "cim": "Kémia Kalauz 2.",
                                    "diszkont_ar": "4075,2000000000003"
                                },
                                {
                                    "cim": "A kémkedés és a hírszerzés története (2002)",
                                    "diszkont_ar": "4676"
                                },
                                {
                                    "cim": "Képes krónika (1996)",
                                    "diszkont_ar": "3144,8"
                                },
                                {
                                    "cim": "Képtárak (1995)",
                                    "diszkont_ar": "4326,400000000001"
                                },
                                {
                                    "cim": "Kereszt és félhold",
                                    "diszkont_ar": "3441,6000000000004"
                                },
                                {
                                    "cim": "Kétfejű sas: A Habsburg-uralom Magyarországon (1699-1790)",
                                    "diszkont_ar": "4367,2"
                                },
                                {
                                    "cim": "Kettős kötődés: Az Osztrák-Magyar Monarchia (1867-1918)",
                                    "diszkont_ar": "3863,2000000000003"
                                },
                                {
                                    "cim": "Kínai falatok",
                                    "diszkont_ar": "3640"
                                },
                                {
                                    "cim": "Királyi könyvek 1-9. kötet",
                                    "diszkont_ar": "2604,8"
                                },
                                {
                                    "cim": "Királyi könyvek 18-26. kötet",
                                    "diszkont_ar": "4405,6"
                                },
                                {
                                    "cim": "Királyi könyvek 27-38. kötet : 1703-1740 (2002)",
                                    "diszkont_ar": "4380,8"
                                },
                                {
                                    "cim": "Kispál és a borz (1998)",
                                    "diszkont_ar": "4584"
                                },
                                {
                                    "cim": "Kossuth Lajos összes munkái (2002)",
                                    "diszkont_ar": "3671,2000000000003"
                                },
                                {
                                    "cim": "Környezetvédelmi kalauz (1999)",
                                    "diszkont_ar": "4406,400000000001"
                                },
                                {
                                    "cim": "Kötelező olvasmányok könyvtára 1. (2002)",
                                    "diszkont_ar": "2875,2000000000003"
                                },
                                {
                                    "cim": "A kőszívű ember fiai - Egri csillagok",
                                    "diszkont_ar": "4430,400000000001"
                                },
                                {
                                    "cim": "A kutyák: A család kedvencei",
                                    "diszkont_ar": "3970,4"
                                },
                                {
                                    "cim": "Kutyatár",
                                    "diszkont_ar": "4188"
                                },
                                {
                                    "cim": "KvízIQ : A hét világcsoda (2001)",
                                    "diszkont_ar": "2760,8"
                                },
                                {
                                    "cim": "Lakáskultúra 2000 (2000)",
                                    "diszkont_ar": "4677,6"
                                },
                                {
                                    "cim": "Lakáskultúra 1999 (1999)",
                                    "diszkont_ar": "4331,2"
                                },
                                {
                                    "cim": "Lakáskultúra 1998 (1998)",
                                    "diszkont_ar": "4392,8"
                                },
                                {
                                    "cim": "Lakáskultúra 1997 (1997)",
                                    "diszkont_ar": "2735,2000000000003"
                                },
                                {
                                    "cim": "Lakáskultúra 1996 (1996)",
                                    "diszkont_ar": "3367,2000000000003"
                                },
                                {
                                    "cim": "Lands of Lore II. 1-4. (1997)",
                                    "diszkont_ar": "3449,6000000000004"
                                },
                                {
                                    "cim": "Landscape Design 3D (1998)",
                                    "diszkont_ar": "3960,8"
                                },
                                {
                                    "cim": "Legféltettebb természeti értékeink",
                                    "diszkont_ar": "4066,4"
                                },
                                {
                                    "cim": "Legszebb vadnövényeink",
                                    "diszkont_ar": "3550,4"
                                },
                                {
                                    "cim": "Leonardo da Vinci",
                                    "diszkont_ar": "4094,4"
                                },
                                {
                                    "cim": "Lilenthal Andor sakkjátszmái",
                                    "diszkont_ar": "2915,2000000000003"
                                },
                                {
                                    "cim": "Lopva angolul /English by Stealth 1.",
                                    "diszkont_ar": "4344,8"
                                },
                                {
                                    "cim": "Lopva angolul /English by Stealth 2.",
                                    "diszkont_ar": "3677,6000000000004"
                                },
                                {
                                    "cim": "Lopva angolul /English by Stealth 3.",
                                    "diszkont_ar": "3880,8"
                                },
                                {
                                    "cim": "Lovagkirályok (1301-1437) (1997)",
                                    "diszkont_ar": "3494,4"
                                },
                                {
                                    "cim": "LoveQ, SexQ : szerelmi intelligencia (2001)",
                                    "diszkont_ar": "2900,8"
                                },
                                {
                                    "cim": "M1 Tank (1998)",
                                    "diszkont_ar": "4784,8"
                                },
                                {
                                    "cim": "Mackó úr (2002)",
                                    "diszkont_ar": "3705,6000000000004"
                                },
                                {
                                    "cim": "Madárdalos kirándulások - Madártani oktató CD-ROM (1999)",
                                    "diszkont_ar": "2726,4"
                                },
                                {
                                    "cim": "Magyar bélyegek katalógusa",
                                    "diszkont_ar": "3228"
                                },
                                {
                                    "cim": "Magyar fontok '97",
                                    "diszkont_ar": "3076"
                                },
                                {
                                    "cim": "A Magyar Koronázási Jelvények",
                                    "diszkont_ar": "3297,6000000000004"
                                },
                                {
                                    "cim": "Magyar nyelv és irodalom",
                                    "diszkont_ar": "3763,2000000000003"
                                },
                                {
                                    "cim": "Magyar színházművészet a világban",
                                    "diszkont_ar": "4126,400000000001"
                                },
                                {
                                    "cim": "Magyarország, 1944-1956 (2001)",
                                    "diszkont_ar": "3936,8"
                                },
                                {
                                    "cim": "Magyarország, 1944-1956 (2001)",
                                    "diszkont_ar": "2938,4"
                                },
                                {
                                    "cim": "Magyarország Nemzeti Parkjai I.",
                                    "diszkont_ar": "2678,4"
                                },
                                {
                                    "cim": "Magyarország Nemzeti Parkjai II.",
                                    "diszkont_ar": "2701,6000000000004"
                                },
                                {
                                    "cim": "Magyarországi várak (1998)",
                                    "diszkont_ar": "4367,2"
                                },
                                {
                                    "cim": "Mahjongg Master (1998)",
                                    "diszkont_ar": "4338,400000000001"
                                },
                                {
                                    "cim": "Manó Angol 1.",
                                    "diszkont_ar": "4681,6"
                                },
                                {
                                    "cim": "Manó Angol 1. (2002)",
                                    "diszkont_ar": "4840,8"
                                },
                                {
                                    "cim": "Manó Angol 2.",
                                    "diszkont_ar": "4282,400000000001"
                                },
                                {
                                    "cim": "Manó Angol 2. (2000)",
                                    "diszkont_ar": "4854,400000000001"
                                },
                                {
                                    "cim": "Manó Élővilág",
                                    "diszkont_ar": "2779,2000000000003"
                                },
                                {
                                    "cim": "Manó Élővilág (2002)",
                                    "diszkont_ar": "3904,8"
                                },
                                {
                                    "cim": "Manó IQ (2001)",
                                    "diszkont_ar": "4306,400000000001"
                                },
                                {
                                    "cim": "Manó Kaland (2002)",
                                    "diszkont_ar": "4773,6"
                                },
                                {
                                    "cim": "Manó Magyarország (2002)",
                                    "diszkont_ar": "3320"
                                },
                                {
                                    "cim": "Manó Matek 1.",
                                    "diszkont_ar": "4796"
                                },
                                {
                                    "cim": "Manó Matek 1. (2002)",
                                    "diszkont_ar": "4316,8"
                                },
                                {
                                    "cim": "Manó Matek 2. (1999)",
                                    "diszkont_ar": "4454,400000000001"
                                },
                                {
                                    "cim": "Manó Matek 2. (1999)",
                                    "diszkont_ar": "2828,8"
                                },
                                {
                                    "cim": "Manó Matek 3.",
                                    "diszkont_ar": "3842,4"
                                },
                                {
                                    "cim": "Manó Muzsika",
                                    "diszkont_ar": "3996,8"
                                },
                                {
                                    "cim": "Manó Muzsika",
                                    "diszkont_ar": "2712,8"
                                },
                                {
                                    "cim": "Manó Német 2.",
                                    "diszkont_ar": "3713,6000000000004"
                                },
                                {
                                    "cim": "Manó Olvasás 1.",
                                    "diszkont_ar": "4676"
                                },
                                {
                                    "cim": "Manó Puzzle (2002)",
                                    "diszkont_ar": "4862,400000000001"
                                },
                                {
                                    "cim": "Matematika (1998)",
                                    "diszkont_ar": "2484"
                                },
                                {
                                    "cim": "Matematika felkészítő az érettségi és felvételi vizsgára",
                                    "diszkont_ar": "3692,8"
                                },
                                {
                                    "cim": "Matematika kalauz (1997)",
                                    "diszkont_ar": "2652"
                                },
                                {
                                    "cim": "Mig-29 (1998)",
                                    "diszkont_ar": "4032"
                                },
                                {
                                    "cim": "Mikszáth Kálmán összes művei",
                                    "diszkont_ar": "3828,8"
                                },
                                {
                                    "cim": "Mini Manó Tavasz",
                                    "diszkont_ar": "3781,6000000000004"
                                },
                                {
                                    "cim": "MoBi Mouse: A fordító egér",
                                    "diszkont_ar": "4028,8"
                                },
                                {
                                    "cim": "Monopoly Junior",
                                    "diszkont_ar": "3179,2000000000003"
                                },
                                {
                                    "cim": "Mons Sacer Pannoniae (2001)",
                                    "diszkont_ar": "3528"
                                },
                                {
                                    "cim": "Moving Puzzle Action Flight (2000)",
                                    "diszkont_ar": "4381,6"
                                },
                                {
                                    "cim": "Multimédiás Menedzsment Könyvtár 1. - Változásmenedzsment",
                                    "diszkont_ar": "4845,6"
                                },
                                {
                                    "cim": "Multimédiás Menedzsment Könyvtár 2. - Önszervezés",
                                    "diszkont_ar": "2623,2000000000003"
                                },
                                {
                                    "cim": "Musique! (1997)",
                                    "diszkont_ar": "4268,8"
                                },
                                {
                                    "cim": "Művészet és mesterség",
                                    "diszkont_ar": "4878,400000000001"
                                },
                                {
                                    "cim": "Művészet és művészek (2002)",
                                    "diszkont_ar": "2792"
                                },
                                {
                                    "cim": "Nagy képes világtörténet (Matczáli Henrik) (1998)",
                                    "diszkont_ar": "3509,6000000000004"
                                },
                                {
                                    "cim": "Nagy vicc tár",
                                    "diszkont_ar": "4458,400000000001"
                                },
                                {
                                    "cim": "A Nagybányai Festőiskola (1998)",
                                    "diszkont_ar": "3901,6000000000004"
                                },
                                {
                                    "cim": "NASA 1.",
                                    "diszkont_ar": "4774,400000000001"
                                },
                                {
                                    "cim": "NASA 2.",
                                    "diszkont_ar": "3317,6000000000004"
                                },
                                {
                                    "cim": "Na, So Was? - Minden helyzetben otthonosan",
                                    "diszkont_ar": "2880"
                                },
                                {
                                    "cim": "Német : 8-10 éveseknek (2002)",
                                    "diszkont_ar": "3003,2000000000003"
                                },
                                {
                                    "cim": "Német szótanító CD-ROM",
                                    "diszkont_ar": "2650,4"
                                },
                                {
                                    "cim": "Németh László összes műve",
                                    "diszkont_ar": "3597,6000000000004"
                                },
                                {
                                    "cim": "New York : a tragédiák városa (2001)",
                                    "diszkont_ar": "2978,4"
                                },
                                {
                                    "cim": "NHL 2001",
                                    "diszkont_ar": "4193,6"
                                },
                                {
                                    "cim": "Nincs királyi út - A matematika kultúrtörténete",
                                    "diszkont_ar": "3482,4"
                                },
                                {
                                    "cim": "Nyelvész : Angol és német haladóknak (1997)",
                                    "diszkont_ar": "2817,6000000000004"
                                },
                                {
                                    "cim": "Nyelvtan összefoglaló : érettségi előkészítő (2002)",
                                    "diszkont_ar": "2950,4"
                                },
                                {
                                    "cim": "Az óceán világa - Maldiv szigetek (2000)",
                                    "diszkont_ar": "4666,400000000001"
                                },
                                {
                                    "cim": "Ókori lexikon",
                                    "diszkont_ar": "2497,6000000000004"
                                },
                                {
                                    "cim": "Olasz-magyar, magyar-olasz digitális szótár",
                                    "diszkont_ar": "3285,6000000000004"
                                },
                                {
                                    "cim": "Olasz szótanító CD-ROM",
                                    "diszkont_ar": "4086,4"
                                },
                                {
                                    "cim": "Orosz (1998)",
                                    "diszkont_ar": "4807,2"
                                },
                                {
                                    "cim": "Orosz-magyar nagyszótár",
                                    "diszkont_ar": "3732,8"
                                },
                                {
                                    "cim": "Az Országos Széchényi Könyvtár corvinái, 2002 (2002)",
                                    "diszkont_ar": "3802,4"
                                },
                                {
                                    "cim": "Az Osztrák-Magyar Monarchia írásban és képekben (2001)",
                                    "diszkont_ar": "3487,2000000000003"
                                },
                                {
                                    "cim": "Paddle Bash (2001)",
                                    "diszkont_ar": "3149,6000000000004"
                                },
                                {
                                    "cim": "Pannon Enciklopédia (1998)",
                                    "diszkont_ar": "3684,8"
                                },
                                {
                                    "cim": "Pannonhalmi Főapátság (2001)",
                                    "diszkont_ar": "4653,6"
                                },
                                {
                                    "cim": "Panzer General III: Scorched Earth (2000)",
                                    "diszkont_ar": "4846,400000000001"
                                },
                                {
                                    "cim": "People's General (1998)",
                                    "diszkont_ar": "4498,400000000001"
                                },
                                {
                                    "cim": "Petőfi Sándor: Arany Lacinak (2002)",
                                    "diszkont_ar": "4390,400000000001"
                                },
                                {
                                    "cim": "Petőfi Sándor összes költeményei",
                                    "diszkont_ar": "3025,6000000000004"
                                },
                                {
                                    "cim": "Plane Crazy",
                                    "diszkont_ar": "4008,8"
                                },
                                {
                                    "cim": "Quake III. (2001)",
                                    "diszkont_ar": "2515,2000000000003"
                                },
                                {
                                    "cim": "Rákóczi-szabadságharc",
                                    "diszkont_ar": "3822,4"
                                },
                                {
                                    "cim": "Rally Championship",
                                    "diszkont_ar": "2484,8"
                                },
                                {
                                    "cim": "Rayman: Matek és olvasás",
                                    "diszkont_ar": "3587,2000000000003"
                                },
                                {
                                    "cim": "Re-Volt (1999)",
                                    "diszkont_ar": "3191,2000000000003"
                                },
                                {
                                    "cim": "The Settlers III. 1-2. (1998)",
                                    "diszkont_ar": "3413,6000000000004"
                                },
                                {
                                    "cim": "The Settlers IV. (2001)",
                                    "diszkont_ar": "3314,4"
                                },
                                {
                                    "cim": "Shanghai (1997)",
                                    "diszkont_ar": "4720"
                                },
                                {
                                    "cim": "The Sims",
                                    "diszkont_ar": "3234,4"
                                },
                                {
                                    "cim": "Sonic Racer",
                                    "diszkont_ar": "2760"
                                },
                                {
                                    "cim": "Spanyol (1997)",
                                    "diszkont_ar": "3020"
                                },
                                {
                                    "cim": "Spanyol-magyar szótár",
                                    "diszkont_ar": "4587,2"
                                },
                                {
                                    "cim": "Star Wars: Battle for Naboo",
                                    "diszkont_ar": "2816"
                                },
                                {
                                    "cim": "Star Wars: Force Commander (2001)",
                                    "diszkont_ar": "4628"
                                },
                                {
                                    "cim": "Star Wars : Rogue Squadron 3D",
                                    "diszkont_ar": "4642,400000000001"
                                },
                                {
                                    "cim": "Supreme Snowboarding",
                                    "diszkont_ar": "3320,8"
                                },
                                {
                                    "cim": "Szabadítsd ki a kisoroszlánt!",
                                    "diszkont_ar": "4429,6"
                                },
                                {
                                    "cim": "Szabadságharc 1848-49 (1988)",
                                    "diszkont_ar": "4848"
                                },
                                {
                                    "cim": "A szabadságharc népzenei emlékei",
                                    "diszkont_ar": "4149,6"
                                },
                                {
                                    "cim": "Szolfézs: Kezdőknek és haladóknak",
                                    "diszkont_ar": "3593,6000000000004"
                                },
                                {
                                    "cim": "Talk To Me Deutsch 2-4.",
                                    "diszkont_ar": "4792"
                                },
                                {
                                    "cim": "Talk To Me English 1.",
                                    "diszkont_ar": "3794,4"
                                },
                                {
                                    "cim": "Talk To Me Francais 1-2.",
                                    "diszkont_ar": "3978,4"
                                },
                                {
                                    "cim": "Tankok, tüzérség (2002)",
                                    "diszkont_ar": "4867,2"
                                },
                                {
                                    "cim": "Tanulj tovább! 2000 (2000)",
                                    "diszkont_ar": "3448"
                                },
                                {
                                    "cim": "Táplálkozás, életmód mesterfokon (2002)",
                                    "diszkont_ar": "3584"
                                },
                                {
                                    "cim": "Target English (1998)",
                                    "diszkont_ar": "4848,8"
                                },
                                {
                                    "cim": "Tarzan",
                                    "diszkont_ar": "2989,6000000000004"
                                },
                                {
                                    "cim": "Terrorizmus (2002)",
                                    "diszkont_ar": "3901,6000000000004"
                                },
                                {
                                    "cim": "Testbeszéd (1998)",
                                    "diszkont_ar": "4305,6"
                                },
                                {
                                    "cim": "Tesztre készen: angol (1998)",
                                    "diszkont_ar": "3325,6000000000004"
                                },
                                {
                                    "cim": "Tesztre készen: német (1998)",
                                    "diszkont_ar": "3652,8"
                                },
                                {
                                    "cim": "Thaiföldi ízek (1999)",
                                    "diszkont_ar": "4200"
                                },
                                {
                                    "cim": "Timeshock!",
                                    "diszkont_ar": "4127,2"
                                },
                                {
                                    "cim": "Tomi megmenti a tengert (2000)",
                                    "diszkont_ar": "3460"
                                },
                                {
                                    "cim": "Touché - The Adventures of the Fifth",
                                    "diszkont_ar": "3638,4"
                                },
                                {
                                    "cim": "Toy Story 2.",
                                    "diszkont_ar": "3047,2000000000003"
                                },
                                {
                                    "cim": "Történelem (1998)",
                                    "diszkont_ar": "2989,6000000000004"
                                },
                                {
                                    "cim": "Történelem : 10-14 éveseknek (2002)",
                                    "diszkont_ar": "2989,6000000000004"
                                },
                                {
                                    "cim": "Történelem : középiskola 1. osztály (2002)",
                                    "diszkont_ar": "2988,8"
                                },
                                {
                                    "cim": "Történelem : középiskola 4. osztály (2002)",
                                    "diszkont_ar": "4508"
                                },
                                {
                                    "cim": "Traffic Giant",
                                    "diszkont_ar": "3508"
                                },
                                {
                                    "cim": "Train Simulator (2002)",
                                    "diszkont_ar": "4342,400000000001"
                                },
                                {
                                    "cim": "Trickstyle",
                                    "diszkont_ar": "3720,8"
                                },
                                {
                                    "cim": "A tudás próbája (2001)",
                                    "diszkont_ar": "4368,8"
                                },
                                {
                                    "cim": "Turul : 1883-1900 (2002)",
                                    "diszkont_ar": "4190,400000000001"
                                },
                                {
                                    "cim": "UEFA Champions Leage Season",
                                    "diszkont_ar": "4417,6"
                                },
                                {
                                    "cim": "Új Könyvek 1994-2000 (2002)",
                                    "diszkont_ar": "4819,2"
                                },
                                {
                                    "cim": "Az Univerzum története",
                                    "diszkont_ar": "2923,2000000000003"
                                },
                                {
                                    "cim": "Utazás a csillagok között (1998)",
                                    "diszkont_ar": "4564"
                                },
                                {
                                    "cim": "Utazás a Naprendszerben",
                                    "diszkont_ar": "2865,6000000000004"
                                },
                                {
                                    "cim": "Utazás a Naprendszerben 2.",
                                    "diszkont_ar": "4793,6"
                                },
                                {
                                    "cim": "Úton 2. (1998)",
                                    "diszkont_ar": "4380,8"
                                },
                                {
                                    "cim": "Üzleti protokoll CD (2002)",
                                    "diszkont_ar": "3912,8"
                                },
                                {
                                    "cim": "Várak, kastélyok, legendák 1.",
                                    "diszkont_ar": "3389,6000000000004"
                                },
                                {
                                    "cim": "Várak, kastélyok, legendák 2. (2002)",
                                    "diszkont_ar": "2650,4"
                                },
                                {
                                    "cim": "A varázslatos emberi test (1998)",
                                    "diszkont_ar": "3890,4"
                                },
                                {
                                    "cim": "Varázslatos szülinap",
                                    "diszkont_ar": "4569,6"
                                },
                                {
                                    "cim": "Varázslatos történelmi nyomozás",
                                    "diszkont_ar": "3516"
                                },
                                {
                                    "cim": "A városi élet a Római Birodalomban (1999)",
                                    "diszkont_ar": "4599,2"
                                },
                                {
                                    "cim": "A Vazul-ág (1038-1301) (1997)",
                                    "diszkont_ar": "3248"
                                },
                                {
                                    "cim": "Világatlasz '99 (1998)",
                                    "diszkont_ar": "4319,2"
                                },
                                {
                                    "cim": "Világatlasz '99 (1998)",
                                    "diszkont_ar": "4161,6"
                                },
                                {
                                    "cim": "Világatlasz (2001)",
                                    "diszkont_ar": "2756,8"
                                },
                                {
                                    "cim": "Világirodalom : Az ókortól napjainkig (2001)",
                                    "diszkont_ar": "2876"
                                },
                                {
                                    "cim": "Volt egyszer egy Magyarország",
                                    "diszkont_ar": "4241,6"
                                },
                                {
                                    "cim": "Warcraft III. (2002)",
                                    "diszkont_ar": "4619,2"
                                },
                                {
                                    "cim": "William Shakespeare összes művei",
                                    "diszkont_ar": "3549,6000000000004"
                                },
                                {
                                    "cim": "Zielpunkt Deutsch (1997)",
                                    "diszkont_ar": "3315,2000000000003"
                                },
                                {
                                    "cim": "Zöld Ödön a földgömbön",
                                    "diszkont_ar": "4852"
                                }
                            ]
                        },
                        "text/html": "<table><tr><th>cim</th><th>diszkont_ar</th></tr><tr><td>NULL</td><td>3087,2000000000003</td></tr><tr><td>A II. világháború története (1999)</td><td>3395,2000000000003</td></tr><tr><td>3D Dinosaur - adventure</td><td>4032,8</td></tr><tr><td>3D virtuális origami (2000)</td><td>4284</td></tr><tr><td>Az 1848-1849-iki szabadságharc története (2002)</td><td>4560</td></tr><tr><td>Ablak zsiráf (1999)</td><td>2832</td></tr><tr><td>Ady Endre összes művei (1999)</td><td>3392,8</td></tr><tr><td>Afrika</td><td>4254,400000000001</td></tr><tr><td>Age of Empires (2000)</td><td>3585,6000000000004</td></tr><tr><td>Airport Inc.</td><td>3448,8</td></tr><tr><td>American Rodeo : BullRider 2000 (2001)</td><td>4472,8</td></tr><tr><td>Angol : 8-10 éveseknek (2002)</td><td>3882,4</td></tr><tr><td>Angol és német nyelvtani gyakorlatok (2002)</td><td>3924,8</td></tr><tr><td>Angol szótanító CD-ROM</td><td>3559,2000000000003</td></tr><tr><td>Angol szótanító CD-ROM</td><td>3555,2000000000003</td></tr><tr><td>Angol szótár (1996)</td><td>2807,2000000000003</td></tr><tr><td>Angol-magyar, Magyar-angol hangosszótár</td><td>4120,8</td></tr><tr><td>Angol-magyar nagyszótár (Halász Előd)</td><td>4510,400000000001</td></tr><tr><td>Az áramvonalas fakanál</td><td>4564,8</td></tr><tr><td>Arany János: A bajusz (2002)</td><td>2712,8</td></tr><tr><td>Az Árpád-ház története</td><td>4017,6000000000004</td></tr><tr><td>Art Attack (1998)</td><td>3131,2000000000003</td></tr><tr><td>Art puzzle (1998)</td><td>4628,8</td></tr><tr><td>Az ásványok világa</td><td>4499,2</td></tr><tr><td>Ausztrália</td><td>4260,8</td></tr><tr><td>Auto 2000 - Kerékvilág</td><td>3570,4</td></tr><tr><td>Ázsia (2000)</td><td>2498,4</td></tr><tr><td>Biblia (1995)</td><td>3552</td></tr><tr><td>Biológia &#39;97</td><td>4434,400000000001</td></tr><tr><td>Biológia (2000)</td><td>3055,2000000000003</td></tr><tr><td>Biológia (2001)</td><td>3033,6000000000004</td></tr><tr><td>Biológia : 12-14 éveseknek (2003)</td><td>2785,6000000000004</td></tr><tr><td>Blinky Bill : A fantasztikus léggömbkaland</td><td>3260,8</td></tr><tr><td>Broken Sword II. (cop. 1997)</td><td>3601,6000000000004</td></tr><tr><td>Budapest kalauz</td><td>3243,2000000000003</td></tr><tr><td>Budapest Museum</td><td>4233,6</td></tr><tr><td>Buggy</td><td>4664</td></tr><tr><td>Byte Magyarország (2002)</td><td>2621,6000000000004</td></tr><tr><td>Caesar III.</td><td>3308,8</td></tr><tr><td>Capitalism II. (2001)</td><td>4849,6</td></tr><tr><td>Capitalism Plus</td><td>4024</td></tr><tr><td>Castle Explorer</td><td>2965,6000000000004</td></tr><tr><td>CD Panoráma 1-4. (1998)</td><td>4337,6</td></tr><tr><td>Computer iskola (1998)</td><td>4208</td></tr><tr><td>Csizmás kandúr (1998)</td><td>4745,6</td></tr><tr><td>Csodálatos univerzum (1997)</td><td>3269,6000000000004</td></tr><tr><td>Dél-Amerika (1999)</td><td>3199,2000000000003</td></tr><tr><td>Dementia 1-5. (1997)</td><td>4735,2</td></tr><tr><td>Deutsch: Anfanger (kezdő) + Telepítő </td><td>4506,400000000001</td></tr><tr><td>Deutsch: Fortgeschrittene (haladó) + Installation</td><td>4627,2</td></tr><tr><td>Deutsch: Mittelstufe (középhaladó)+ Telepítő</td><td>3501,6000000000004</td></tr><tr><td>Diablo</td><td>4775,2</td></tr><tr><td>Diablo II. (2000)</td><td>3920</td></tr><tr><td>Dicső napok és hétköznapok 1848 - Digitális forrásgyűjtemény 1.</td><td>4488,8</td></tr><tr><td>Dreams to Reality 1-2. (1997)</td><td>3759,2000000000003</td></tr><tr><td>Duke Nukem 3D</td><td>4379,2</td></tr><tr><td>Dungeon Keeper 2. (1999)</td><td>2695,2000000000003</td></tr><tr><td>E-Games : Collector&#39;s Edition (2001)</td><td>4466,400000000001</td></tr><tr><td>Éléstár (1998)</td><td>2606,4</td></tr><tr><td>Élet a polgárosodó Magyarországon (2001)</td><td>4457,6</td></tr><tr><td>Életképek 1848 (1998)</td><td>3368,8</td></tr><tr><td>Az ember tragédiája</td><td>3436</td></tr><tr><td>Encarta World Atlas &#39;99 1-2. (1998)</td><td>4267,2</td></tr><tr><td>Enemy Engaged RAH-66</td><td>4173,6</td></tr><tr><td>English 1-2. + Telepítő</td><td>4172</td></tr><tr><td>English: Intermediate (haladó)</td><td>2901,6000000000004</td></tr><tr><td>English by Stealth  lásd: Lopva angolul</td><td>3582,4</td></tr><tr><td>Erdély (1996)</td><td>3999,2000000000003</td></tr><tr><td>Espanol: Intermedio + Telepítő</td><td>3131,2000000000003</td></tr><tr><td>Espanol: Principiante + Telepítő</td><td>4705,6</td></tr><tr><td>Észak-Amerika</td><td>3195,2000000000003</td></tr><tr><td>Európa</td><td>4216</td></tr><tr><td>The F.A. Premier League Stars 2001</td><td>3096,8</td></tr><tr><td>Felvételi példatár : Angol</td><td>3100,8</td></tr><tr><td>Felvételi példatár : Biológia, földrajz</td><td>2572</td></tr><tr><td>Felvételi példatár : Kémia, fizika</td><td>4680,8</td></tr><tr><td>Felvételi példatár : Magyar nyelv és irodalom</td><td>4764</td></tr><tr><td>Felvételi példatár : Matematika</td><td>4007,2000000000003</td></tr><tr><td>Felvételi példatár : Német</td><td>2481,6000000000004</td></tr><tr><td>FIFA, 2000 (1999)</td><td>4047,2000000000003</td></tr><tr><td>Fighting Force (1998)</td><td>3840</td></tr><tr><td>Final Liberation (1997)</td><td>3705,6000000000004</td></tr><tr><td>Fitness mesterfokon / Béres Alexandra (2001)</td><td>3685,6000000000004</td></tr><tr><td>Fizika : 12-14 éveseknek (2002)</td><td>2987,2000000000003</td></tr><tr><td>Fizika felkészítő az érettségi és felvételi vizsgára</td><td>3848</td></tr><tr><td>Fizika világa (2001)</td><td>4610,400000000001</td></tr><tr><td>A Föld élővilága</td><td>4720</td></tr><tr><td>Földrajz: 10-14 éveseknek (2002)</td><td>3144</td></tr><tr><td>Földrajz: érettségi előkészítő (2002)</td><td>2538,4</td></tr><tr><td>Francais 1-2. + Telepítő</td><td>3230,4</td></tr><tr><td>Francais: Débutan (kezdő) + Telepítő</td><td>3016</td></tr><tr><td>Francais: Moyen + Telepítő</td><td>4495,2</td></tr><tr><td>Francia-magyar szótár</td><td>2852,8</td></tr><tr><td>Funschool in Dreamland (1995)</td><td>3812,8</td></tr><tr><td>Geolexikon 4.2 : földtani adatbázis (2002)</td><td>3681,6000000000004</td></tr><tr><td>Gépírás 2000</td><td>3148,8</td></tr><tr><td>Gondolattár: aforizmák, szállóigék</td><td>4276,8</td></tr><tr><td>GTA 2</td><td>4004</td></tr><tr><td>Hadiflották I. (2002)</td><td>4099,2</td></tr><tr><td>Hadtudományi lexikon (1998)</td><td>2812</td></tr><tr><td>Hajdúböszörmény</td><td>3024,8</td></tr><tr><td>Halak, kétéltűek, hüllők</td><td>3322,4</td></tr><tr><td>Half-Life (1996)</td><td>4324</td></tr><tr><td>Half-Life Generation: Game of the Year Edition (2002)</td><td>2964</td></tr><tr><td>Half-Life Generation: Counter Strike (2002)</td><td>4595,2</td></tr><tr><td>Half-Life Generation: Blue Shift (2002)</td><td>4582,400000000001</td></tr><tr><td>Harry Potter és a bölcsek köve (2001)</td><td>3577,6000000000004</td></tr><tr><td>Haza és haladás</td><td>2784,8</td></tr><tr><td>A hét világcsoda (2001)</td><td>2529,6000000000004</td></tr><tr><td>Home Desing 3D (1998)</td><td>3429,6000000000004</td></tr><tr><td>Hupikék törpikék: teletransportörp (1999)</td><td>2488</td></tr><tr><td>Informatika - Internet - Iskola</td><td>2986,4</td></tr><tr><td>Interaktív angol nyelvész kurzus haladó szint 1-5.</td><td>3673,6000000000004</td></tr><tr><td>Interaktív angol nyelvész kurzus kezdő szint</td><td>3346,4</td></tr><tr><td>Interaktív angol nyelvész kurzus középhaladó szint</td><td>2492</td></tr><tr><td>Interaktív magyar nyelvtan</td><td>3823,2000000000003</td></tr><tr><td>International Rally Championship</td><td>3112</td></tr><tr><td>Internet (1996)</td><td>3947,2000000000003</td></tr><tr><td>Introduction to Archeology</td><td>3018,4</td></tr><tr><td>Investigating 20th Century Art (1994)</td><td>3515,2000000000003</td></tr><tr><td>Az ipari forradalom kora (2000)</td><td>4065,6000000000004</td></tr><tr><td>Irodalmi arcképcsarnok</td><td>3092,8</td></tr><tr><td>Irodalom  felkészítő az érettségi és felvételi vizsgára</td><td>4523,2</td></tr><tr><td>Irodalom (1998)</td><td>4500</td></tr><tr><td>Italiano (1998) + Installation</td><td>4348,8</td></tr><tr><td>Italiano 1-2. (1998) + Installation</td><td>4865,6</td></tr><tr><td>Italiano 1-2. (1998) + Installation</td><td>2735,2000000000003</td></tr><tr><td>Jancsó</td><td>3363,2000000000003</td></tr><tr><td>Japán : képes kulturális atlasz (2001)</td><td>3567,2000000000003</td></tr><tr><td>Játékfilmek 1963-tól napjainkig</td><td>2510,4</td></tr><tr><td>Játszóház (1998)</td><td>4239,2</td></tr><tr><td>Jókai összes művei (2001)</td><td>3814,4</td></tr><tr><td>József Attila (1998)</td><td>3096</td></tr><tr><td>A jövő titkai - Interaktív horoszkóp (1998)</td><td>4857,6</td></tr><tr><td>Kártyaváros</td><td>2485,6000000000004</td></tr><tr><td>Kémia Kalauz 2.</td><td>4075,2000000000003</td></tr><tr><td>A kémkedés és a hírszerzés története (2002)</td><td>4676</td></tr><tr><td>Képes krónika (1996)</td><td>3144,8</td></tr><tr><td>Képtárak (1995)</td><td>4326,400000000001</td></tr><tr><td>Kereszt és félhold</td><td>3441,6000000000004</td></tr><tr><td>Kétfejű sas: A Habsburg-uralom Magyarországon (1699-1790)</td><td>4367,2</td></tr><tr><td>Kettős kötődés: Az Osztrák-Magyar Monarchia (1867-1918)</td><td>3863,2000000000003</td></tr><tr><td>Kínai falatok</td><td>3640</td></tr><tr><td>Királyi könyvek 1-9. kötet</td><td>2604,8</td></tr><tr><td>Királyi könyvek 18-26. kötet</td><td>4405,6</td></tr><tr><td>Királyi könyvek 27-38. kötet : 1703-1740 (2002)</td><td>4380,8</td></tr><tr><td>Kispál és a borz (1998)</td><td>4584</td></tr><tr><td>Kossuth Lajos összes munkái (2002)</td><td>3671,2000000000003</td></tr><tr><td>Környezetvédelmi kalauz (1999)</td><td>4406,400000000001</td></tr><tr><td>Kötelező olvasmányok könyvtára 1. (2002)</td><td>2875,2000000000003</td></tr><tr><td>A kőszívű ember fiai - Egri csillagok</td><td>4430,400000000001</td></tr><tr><td>A kutyák: A család kedvencei</td><td>3970,4</td></tr><tr><td>Kutyatár</td><td>4188</td></tr><tr><td>KvízIQ : A hét világcsoda (2001)</td><td>2760,8</td></tr><tr><td>Lakáskultúra 2000 (2000)</td><td>4677,6</td></tr><tr><td>Lakáskultúra 1999 (1999)</td><td>4331,2</td></tr><tr><td>Lakáskultúra 1998 (1998)</td><td>4392,8</td></tr><tr><td>Lakáskultúra 1997 (1997)</td><td>2735,2000000000003</td></tr><tr><td>Lakáskultúra 1996 (1996)</td><td>3367,2000000000003</td></tr><tr><td>Lands of Lore II. 1-4. (1997)</td><td>3449,6000000000004</td></tr><tr><td>Landscape Design 3D (1998)</td><td>3960,8</td></tr><tr><td>Legféltettebb természeti értékeink</td><td>4066,4</td></tr><tr><td>Legszebb vadnövényeink</td><td>3550,4</td></tr><tr><td>Leonardo da Vinci</td><td>4094,4</td></tr><tr><td>Lilenthal Andor sakkjátszmái</td><td>2915,2000000000003</td></tr><tr><td>Lopva angolul /English by Stealth 1.</td><td>4344,8</td></tr><tr><td>Lopva angolul /English by Stealth 2.</td><td>3677,6000000000004</td></tr><tr><td>Lopva angolul /English by Stealth 3.</td><td>3880,8</td></tr><tr><td>Lovagkirályok (1301-1437) (1997)</td><td>3494,4</td></tr><tr><td>LoveQ, SexQ : szerelmi intelligencia (2001)</td><td>2900,8</td></tr><tr><td>M1 Tank (1998)</td><td>4784,8</td></tr><tr><td>Mackó úr (2002)</td><td>3705,6000000000004</td></tr><tr><td>Madárdalos kirándulások - Madártani oktató CD-ROM (1999)</td><td>2726,4</td></tr><tr><td>Magyar bélyegek katalógusa</td><td>3228</td></tr><tr><td>Magyar fontok &#39;97</td><td>3076</td></tr><tr><td>A Magyar Koronázási Jelvények</td><td>3297,6000000000004</td></tr><tr><td>Magyar nyelv és irodalom</td><td>3763,2000000000003</td></tr><tr><td>Magyar színházművészet a világban</td><td>4126,400000000001</td></tr><tr><td>Magyarország, 1944-1956 (2001)</td><td>3936,8</td></tr><tr><td>Magyarország, 1944-1956 (2001)</td><td>2938,4</td></tr><tr><td>Magyarország Nemzeti Parkjai I.</td><td>2678,4</td></tr><tr><td>Magyarország Nemzeti Parkjai II.</td><td>2701,6000000000004</td></tr><tr><td>Magyarországi várak (1998)</td><td>4367,2</td></tr><tr><td>Mahjongg Master (1998)</td><td>4338,400000000001</td></tr><tr><td>Manó Angol 1.</td><td>4681,6</td></tr><tr><td>Manó Angol 1. (2002)</td><td>4840,8</td></tr><tr><td>Manó Angol 2.</td><td>4282,400000000001</td></tr><tr><td>Manó Angol 2. (2000)</td><td>4854,400000000001</td></tr><tr><td>Manó Élővilág</td><td>2779,2000000000003</td></tr><tr><td>Manó Élővilág (2002)</td><td>3904,8</td></tr><tr><td>Manó IQ (2001)</td><td>4306,400000000001</td></tr><tr><td>Manó Kaland (2002)</td><td>4773,6</td></tr><tr><td>Manó Magyarország (2002)</td><td>3320</td></tr><tr><td>Manó Matek 1.</td><td>4796</td></tr><tr><td>Manó Matek 1. (2002)</td><td>4316,8</td></tr><tr><td>Manó Matek 2. (1999)</td><td>4454,400000000001</td></tr><tr><td>Manó Matek 2. (1999)</td><td>2828,8</td></tr><tr><td>Manó Matek 3.</td><td>3842,4</td></tr><tr><td>Manó Muzsika</td><td>3996,8</td></tr><tr><td>Manó Muzsika</td><td>2712,8</td></tr><tr><td>Manó Német 2.</td><td>3713,6000000000004</td></tr><tr><td>Manó Olvasás 1.</td><td>4676</td></tr><tr><td>Manó Puzzle (2002)</td><td>4862,400000000001</td></tr><tr><td>Matematika (1998)</td><td>2484</td></tr><tr><td>Matematika felkészítő az érettségi és felvételi vizsgára</td><td>3692,8</td></tr><tr><td>Matematika kalauz (1997)</td><td>2652</td></tr><tr><td>Mig-29 (1998)</td><td>4032</td></tr><tr><td>Mikszáth Kálmán összes művei</td><td>3828,8</td></tr><tr><td>Mini Manó Tavasz</td><td>3781,6000000000004</td></tr><tr><td>MoBi Mouse: A fordító egér</td><td>4028,8</td></tr><tr><td>Monopoly Junior</td><td>3179,2000000000003</td></tr><tr><td>Mons Sacer Pannoniae (2001)</td><td>3528</td></tr><tr><td>Moving Puzzle Action Flight (2000)</td><td>4381,6</td></tr><tr><td>Multimédiás Menedzsment Könyvtár 1. - Változásmenedzsment</td><td>4845,6</td></tr><tr><td>Multimédiás Menedzsment Könyvtár 2. - Önszervezés</td><td>2623,2000000000003</td></tr><tr><td>Musique! (1997)</td><td>4268,8</td></tr><tr><td>Művészet és mesterség</td><td>4878,400000000001</td></tr><tr><td>Művészet és művészek (2002)</td><td>2792</td></tr><tr><td>Nagy képes világtörténet (Matczáli Henrik) (1998)</td><td>3509,6000000000004</td></tr><tr><td>Nagy vicc tár</td><td>4458,400000000001</td></tr><tr><td>A Nagybányai Festőiskola (1998)</td><td>3901,6000000000004</td></tr><tr><td>NASA 1.</td><td>4774,400000000001</td></tr><tr><td>NASA 2.</td><td>3317,6000000000004</td></tr><tr><td>Na, So Was? - Minden helyzetben otthonosan</td><td>2880</td></tr><tr><td>Német : 8-10 éveseknek (2002)</td><td>3003,2000000000003</td></tr><tr><td>Német szótanító CD-ROM</td><td>2650,4</td></tr><tr><td>Németh László összes műve</td><td>3597,6000000000004</td></tr><tr><td>New York : a tragédiák városa (2001)</td><td>2978,4</td></tr><tr><td>NHL 2001</td><td>4193,6</td></tr><tr><td>Nincs királyi út - A matematika kultúrtörténete</td><td>3482,4</td></tr><tr><td>Nyelvész : Angol és német haladóknak (1997)</td><td>2817,6000000000004</td></tr><tr><td>Nyelvtan összefoglaló : érettségi előkészítő (2002)</td><td>2950,4</td></tr><tr><td>Az óceán világa - Maldiv szigetek (2000)</td><td>4666,400000000001</td></tr><tr><td>Ókori lexikon</td><td>2497,6000000000004</td></tr><tr><td>Olasz-magyar, magyar-olasz digitális szótár</td><td>3285,6000000000004</td></tr><tr><td>Olasz szótanító CD-ROM</td><td>4086,4</td></tr><tr><td>Orosz (1998)</td><td>4807,2</td></tr><tr><td>Orosz-magyar nagyszótár</td><td>3732,8</td></tr><tr><td>Az Országos Széchényi Könyvtár corvinái, 2002 (2002)</td><td>3802,4</td></tr><tr><td>Az Osztrák-Magyar Monarchia írásban és képekben (2001)</td><td>3487,2000000000003</td></tr><tr><td>Paddle Bash (2001)</td><td>3149,6000000000004</td></tr><tr><td>Pannon Enciklopédia (1998)</td><td>3684,8</td></tr><tr><td>Pannonhalmi Főapátság (2001)</td><td>4653,6</td></tr><tr><td>Panzer General III: Scorched Earth (2000)</td><td>4846,400000000001</td></tr><tr><td>People&#39;s General (1998)</td><td>4498,400000000001</td></tr><tr><td>Petőfi Sándor: Arany Lacinak (2002)</td><td>4390,400000000001</td></tr><tr><td>Petőfi Sándor összes költeményei</td><td>3025,6000000000004</td></tr><tr><td>Plane Crazy</td><td>4008,8</td></tr><tr><td>Quake III. (2001)</td><td>2515,2000000000003</td></tr><tr><td>Rákóczi-szabadságharc</td><td>3822,4</td></tr><tr><td>Rally Championship</td><td>2484,8</td></tr><tr><td>Rayman: Matek és olvasás</td><td>3587,2000000000003</td></tr><tr><td>Re-Volt (1999)</td><td>3191,2000000000003</td></tr><tr><td>The Settlers III. 1-2. (1998)</td><td>3413,6000000000004</td></tr><tr><td>The Settlers IV. (2001)</td><td>3314,4</td></tr><tr><td>Shanghai (1997)</td><td>4720</td></tr><tr><td>The Sims</td><td>3234,4</td></tr><tr><td>Sonic Racer</td><td>2760</td></tr><tr><td>Spanyol (1997)</td><td>3020</td></tr><tr><td>Spanyol-magyar szótár</td><td>4587,2</td></tr><tr><td>Star Wars: Battle for Naboo</td><td>2816</td></tr><tr><td>Star Wars: Force Commander (2001)</td><td>4628</td></tr><tr><td>Star Wars : Rogue Squadron 3D</td><td>4642,400000000001</td></tr><tr><td>Supreme Snowboarding</td><td>3320,8</td></tr><tr><td>Szabadítsd ki a kisoroszlánt!</td><td>4429,6</td></tr><tr><td>Szabadságharc 1848-49 (1988)</td><td>4848</td></tr><tr><td>A szabadságharc népzenei emlékei</td><td>4149,6</td></tr><tr><td>Szolfézs: Kezdőknek és haladóknak</td><td>3593,6000000000004</td></tr><tr><td>Talk To Me Deutsch 2-4.</td><td>4792</td></tr><tr><td>Talk To Me English 1.</td><td>3794,4</td></tr><tr><td>Talk To Me Francais 1-2.</td><td>3978,4</td></tr><tr><td>Tankok, tüzérség (2002)</td><td>4867,2</td></tr><tr><td>Tanulj tovább! 2000 (2000)</td><td>3448</td></tr><tr><td>Táplálkozás, életmód mesterfokon (2002)</td><td>3584</td></tr><tr><td>Target English (1998)</td><td>4848,8</td></tr><tr><td>Tarzan</td><td>2989,6000000000004</td></tr><tr><td>Terrorizmus (2002)</td><td>3901,6000000000004</td></tr><tr><td>Testbeszéd (1998)</td><td>4305,6</td></tr><tr><td>Tesztre készen: angol (1998)</td><td>3325,6000000000004</td></tr><tr><td>Tesztre készen: német (1998)</td><td>3652,8</td></tr><tr><td>Thaiföldi ízek (1999)</td><td>4200</td></tr><tr><td>Timeshock!</td><td>4127,2</td></tr><tr><td>Tomi megmenti a tengert (2000)</td><td>3460</td></tr><tr><td>Touché - The Adventures of the Fifth</td><td>3638,4</td></tr><tr><td>Toy Story 2.</td><td>3047,2000000000003</td></tr><tr><td>Történelem (1998)</td><td>2989,6000000000004</td></tr><tr><td>Történelem : 10-14 éveseknek (2002)</td><td>2989,6000000000004</td></tr><tr><td>Történelem : középiskola 1. osztály (2002)</td><td>2988,8</td></tr><tr><td>Történelem : középiskola 4. osztály (2002)</td><td>4508</td></tr><tr><td>Traffic Giant</td><td>3508</td></tr><tr><td>Train Simulator (2002)</td><td>4342,400000000001</td></tr><tr><td>Trickstyle</td><td>3720,8</td></tr><tr><td>A tudás próbája (2001)</td><td>4368,8</td></tr><tr><td>Turul : 1883-1900 (2002)</td><td>4190,400000000001</td></tr><tr><td>UEFA Champions Leage Season</td><td>4417,6</td></tr><tr><td>Új Könyvek 1994-2000 (2002)</td><td>4819,2</td></tr><tr><td>Az Univerzum története</td><td>2923,2000000000003</td></tr><tr><td>Utazás a csillagok között (1998)</td><td>4564</td></tr><tr><td>Utazás a Naprendszerben</td><td>2865,6000000000004</td></tr><tr><td>Utazás a Naprendszerben 2.</td><td>4793,6</td></tr><tr><td>Úton 2. (1998)</td><td>4380,8</td></tr><tr><td>Üzleti protokoll CD (2002)</td><td>3912,8</td></tr><tr><td>Várak, kastélyok, legendák 1.</td><td>3389,6000000000004</td></tr><tr><td>Várak, kastélyok, legendák 2. (2002)</td><td>2650,4</td></tr><tr><td>A varázslatos emberi test (1998)</td><td>3890,4</td></tr><tr><td>Varázslatos szülinap</td><td>4569,6</td></tr><tr><td>Varázslatos történelmi nyomozás</td><td>3516</td></tr><tr><td>A városi élet a Római Birodalomban (1999)</td><td>4599,2</td></tr><tr><td>A Vazul-ág (1038-1301) (1997)</td><td>3248</td></tr><tr><td>Világatlasz &#39;99 (1998)</td><td>4319,2</td></tr><tr><td>Világatlasz &#39;99 (1998)</td><td>4161,6</td></tr><tr><td>Világatlasz (2001)</td><td>2756,8</td></tr><tr><td>Világirodalom : Az ókortól napjainkig (2001)</td><td>2876</td></tr><tr><td>Volt egyszer egy Magyarország</td><td>4241,6</td></tr><tr><td>Warcraft III. (2002)</td><td>4619,2</td></tr><tr><td>William Shakespeare összes művei</td><td>3549,6000000000004</td></tr><tr><td>Zielpunkt Deutsch (1997)</td><td>3315,2000000000003</td></tr><tr><td>Zöld Ödön a földgömbön</td><td>4852</td></tr></table>"
                    },
                    "metadata": {}
                }
            ],
            "execution_count": 12
        },
        {
            "cell_type": "markdown",
            "source": [
                "6. Melyek azok a kölcsönzések, ahol még nem hozták vissza a dvd-t?"
            ],
            "metadata": {
                "azdata_cell_guid": "5fe65c1c-2479-45ac-ad03-ec99d12eae21"
            },
            "attachments": {}
        },
        {
            "cell_type": "code",
            "source": [
                "SELECT *\r\n",
                "FROM dvd\r\n",
                ";"
            ],
            "metadata": {
                "azdata_cell_guid": "924f2dde-f1c2-4def-a7f9-dbf4bace7735",
                "language": "sql"
            },
            "outputs": [
                {
                    "output_type": "display_data",
                    "data": {
                        "text/html": "(318 rows affected)"
                    },
                    "metadata": {}
                },
                {
                    "output_type": "display_data",
                    "data": {
                        "text/html": "Total execution time: 00:00:00.030"
                    },
                    "metadata": {}
                },
                {
                    "output_type": "execute_result",
                    "execution_count": 15,
                    "data": {
                        "application/vnd.dataresource+json": {
                            "schema": {
                                "fields": [
                                    {
                                        "name": "ID"
                                    },
                                    {
                                        "name": "cim"
                                    },
                                    {
                                        "name": "stilus"
                                    },
                                    {
                                        "name": "szam"
                                    },
                                    {
                                        "name": "nettoar"
                                    },
                                    {
                                        "name": "lang"
                                    },
                                    {
                                        "name": "raktár készlet"
                                    }
                                ]
                            },
                            "data": [
                                {
                                    "ID": "1",
                                    "cim": "NULL",
                                    "stilus": "történelem",
                                    "szam": "12342",
                                    "nettoar": "3859",
                                    "lang": "1",
                                    "raktár készlet": "10"
                                },
                                {
                                    "ID": "2",
                                    "cim": "A II. világháború története (1999)",
                                    "stilus": "történelem",
                                    "szam": "7224",
                                    "nettoar": "4244",
                                    "lang": "1",
                                    "raktár készlet": "10"
                                },
                                {
                                    "ID": "3",
                                    "cim": "3D Dinosaur - adventure",
                                    "stilus": "történelem",
                                    "szam": "576",
                                    "nettoar": "5041",
                                    "lang": "2",
                                    "raktár készlet": "10"
                                },
                                {
                                    "ID": "4",
                                    "cim": "3D virtuális origami (2000)",
                                    "stilus": "játék",
                                    "szam": "14235-236",
                                    "nettoar": "5355",
                                    "lang": "1",
                                    "raktár készlet": "10"
                                },
                                {
                                    "ID": "5",
                                    "cim": "Az 1848-1849-iki szabadságharc története (2002)",
                                    "stilus": "történelem",
                                    "szam": "13962-963",
                                    "nettoar": "5700",
                                    "lang": "1",
                                    "raktár készlet": "8"
                                },
                                {
                                    "ID": "6",
                                    "cim": "Ablak zsiráf (1999)",
                                    "stilus": "ismeretterjesztő",
                                    "szam": "6405",
                                    "nettoar": "3540",
                                    "lang": "1",
                                    "raktár készlet": "10"
                                },
                                {
                                    "ID": "7",
                                    "cim": "Ady Endre összes művei (1999)",
                                    "stilus": "irodalom",
                                    "szam": "6334",
                                    "nettoar": "4241",
                                    "lang": "1",
                                    "raktár készlet": "10"
                                },
                                {
                                    "ID": "8",
                                    "cim": "Afrika",
                                    "stilus": "földrajz",
                                    "szam": "4248",
                                    "nettoar": "5318",
                                    "lang": "1",
                                    "raktár készlet": "10"
                                },
                                {
                                    "ID": "9",
                                    "cim": "Age of Empires (2000)",
                                    "stilus": "játék",
                                    "szam": "14242-244",
                                    "nettoar": "4482",
                                    "lang": "2",
                                    "raktár készlet": "10"
                                },
                                {
                                    "ID": "10",
                                    "cim": "Airport Inc.",
                                    "stilus": "játék (repülős)",
                                    "szam": "11026",
                                    "nettoar": "4311",
                                    "lang": "2",
                                    "raktár készlet": "10"
                                },
                                {
                                    "ID": "11",
                                    "cim": "American Rodeo : BullRider 2000 (2001)",
                                    "stilus": "játék (rodeó)",
                                    "szam": "10067",
                                    "nettoar": "5591",
                                    "lang": "2",
                                    "raktár készlet": "10"
                                },
                                {
                                    "ID": "12",
                                    "cim": "Angol : 8-10 éveseknek (2002)",
                                    "stilus": "nyelvtanító",
                                    "szam": "13293",
                                    "nettoar": "4853",
                                    "lang": "2",
                                    "raktár készlet": "10"
                                },
                                {
                                    "ID": "13",
                                    "cim": "Angol és német nyelvtani gyakorlatok (2002)",
                                    "stilus": "nyelvtanító",
                                    "szam": "13794",
                                    "nettoar": "4906",
                                    "lang": "6",
                                    "raktár készlet": "10"
                                },
                                {
                                    "ID": "14",
                                    "cim": "Angol szótanító CD-ROM",
                                    "stilus": "nyelvtanító",
                                    "szam": "1722",
                                    "nettoar": "4449",
                                    "lang": "2",
                                    "raktár készlet": "10"
                                },
                                {
                                    "ID": "15",
                                    "cim": "Angol szótanító CD-ROM",
                                    "stilus": "nyelvtanító",
                                    "szam": "4202",
                                    "nettoar": "4444",
                                    "lang": "2",
                                    "raktár készlet": "10"
                                },
                                {
                                    "ID": "16",
                                    "cim": "Angol szótár (1996)",
                                    "stilus": "szótár",
                                    "szam": "1993",
                                    "nettoar": "3509",
                                    "lang": "2",
                                    "raktár készlet": "10"
                                },
                                {
                                    "ID": "17",
                                    "cim": "Angol-magyar, Magyar-angol hangosszótár",
                                    "stilus": "szótár",
                                    "szam": "4724",
                                    "nettoar": "5151",
                                    "lang": "2",
                                    "raktár készlet": "10"
                                },
                                {
                                    "ID": "18",
                                    "cim": "Angol-magyar nagyszótár (Halász Előd)",
                                    "stilus": "szótár",
                                    "szam": "7284",
                                    "nettoar": "5638",
                                    "lang": "2",
                                    "raktár készlet": "10"
                                },
                                {
                                    "ID": "19",
                                    "cim": "Az áramvonalas fakanál",
                                    "stilus": "gasztronómia",
                                    "szam": "8500",
                                    "nettoar": "5706",
                                    "lang": "1",
                                    "raktár készlet": "10"
                                },
                                {
                                    "ID": "20",
                                    "cim": "Arany János: A bajusz (2002)",
                                    "stilus": "irodalom",
                                    "szam": "13424",
                                    "nettoar": "3391",
                                    "lang": "1",
                                    "raktár készlet": "10"
                                },
                                {
                                    "ID": "21",
                                    "cim": "Az Árpád-ház története",
                                    "stilus": "történelem",
                                    "szam": "10124",
                                    "nettoar": "5022",
                                    "lang": "1",
                                    "raktár készlet": "10"
                                },
                                {
                                    "ID": "22",
                                    "cim": "Art Attack (1998)",
                                    "stilus": "játék",
                                    "szam": "9074",
                                    "nettoar": "3914",
                                    "lang": "2",
                                    "raktár készlet": "10"
                                },
                                {
                                    "ID": "23",
                                    "cim": "Art puzzle (1998)",
                                    "stilus": "ismeretterjesztő",
                                    "szam": "2951",
                                    "nettoar": "5786",
                                    "lang": "2",
                                    "raktár készlet": "10"
                                },
                                {
                                    "ID": "24",
                                    "cim": "Az ásványok világa",
                                    "stilus": "ásványtan",
                                    "szam": "8473",
                                    "nettoar": "5624",
                                    "lang": "1",
                                    "raktár készlet": "10"
                                },
                                {
                                    "ID": "25",
                                    "cim": "Ausztrália",
                                    "stilus": "földrajz",
                                    "szam": "9554",
                                    "nettoar": "5326",
                                    "lang": "1",
                                    "raktár készlet": "10"
                                },
                                {
                                    "ID": "26",
                                    "cim": "Auto 2000 - Kerékvilág",
                                    "stilus": "ismeretterjesztő",
                                    "szam": "7873",
                                    "nettoar": "4463",
                                    "lang": "1",
                                    "raktár készlet": "10"
                                },
                                {
                                    "ID": "27",
                                    "cim": "Ázsia (2000)",
                                    "stilus": "földrajz",
                                    "szam": "8974",
                                    "nettoar": "3123",
                                    "lang": "1",
                                    "raktár készlet": "10"
                                },
                                {
                                    "ID": "28",
                                    "cim": "Biblia (1995)",
                                    "stilus": "ismeretterjesztő",
                                    "szam": "805",
                                    "nettoar": "4440",
                                    "lang": "1",
                                    "raktár készlet": "10"
                                },
                                {
                                    "ID": "29",
                                    "cim": "Biológia '97",
                                    "stilus": "biológia",
                                    "szam": "1161",
                                    "nettoar": "5543",
                                    "lang": "1",
                                    "raktár készlet": "10"
                                },
                                {
                                    "ID": "30",
                                    "cim": "Biológia (2000)",
                                    "stilus": "biológia",
                                    "szam": "8982",
                                    "nettoar": "3819",
                                    "lang": "1",
                                    "raktár készlet": "10"
                                },
                                {
                                    "ID": "31",
                                    "cim": "Biológia (2001)",
                                    "stilus": "biológia",
                                    "szam": "10318",
                                    "nettoar": "3792",
                                    "lang": "1",
                                    "raktár készlet": "10"
                                },
                                {
                                    "ID": "32",
                                    "cim": "Biológia : 12-14 éveseknek (2003)",
                                    "stilus": "biológia",
                                    "szam": "14665",
                                    "nettoar": "3482",
                                    "lang": "1",
                                    "raktár készlet": "10"
                                },
                                {
                                    "ID": "33",
                                    "cim": "Blinky Bill : A fantasztikus léggömbkaland",
                                    "stilus": "játék",
                                    "szam": "10195",
                                    "nettoar": "4076",
                                    "lang": "1",
                                    "raktár készlet": "10"
                                },
                                {
                                    "ID": "34",
                                    "cim": "Broken Sword II. (cop. 1997)",
                                    "stilus": "játék",
                                    "szam": "1735-1736",
                                    "nettoar": "4502",
                                    "lang": "2",
                                    "raktár készlet": "10"
                                },
                                {
                                    "ID": "35",
                                    "cim": "Budapest kalauz",
                                    "stilus": "földrajz",
                                    "szam": "7759",
                                    "nettoar": "4054",
                                    "lang": "1",
                                    "raktár készlet": "10"
                                },
                                {
                                    "ID": "36",
                                    "cim": "Budapest Museum",
                                    "stilus": "művészet",
                                    "szam": "7777",
                                    "nettoar": "5292",
                                    "lang": "1",
                                    "raktár készlet": "10"
                                },
                                {
                                    "ID": "37",
                                    "cim": "Buggy",
                                    "stilus": "játék",
                                    "szam": "12313",
                                    "nettoar": "5830",
                                    "lang": "2",
                                    "raktár készlet": "10"
                                },
                                {
                                    "ID": "38",
                                    "cim": "Byte Magyarország (2002)",
                                    "stilus": "számítástechnika",
                                    "szam": "13993",
                                    "nettoar": "3277",
                                    "lang": "1",
                                    "raktár készlet": "10"
                                },
                                {
                                    "ID": "39",
                                    "cim": "Caesar III.",
                                    "stilus": "játék",
                                    "szam": "12322",
                                    "nettoar": "4136",
                                    "lang": "2",
                                    "raktár készlet": "10"
                                },
                                {
                                    "ID": "40",
                                    "cim": "Capitalism II. (2001)",
                                    "stilus": "játék",
                                    "szam": "14252",
                                    "nettoar": "6062",
                                    "lang": "2",
                                    "raktár készlet": "10"
                                },
                                {
                                    "ID": "41",
                                    "cim": "Capitalism Plus",
                                    "stilus": "játék",
                                    "szam": "1739",
                                    "nettoar": "5030",
                                    "lang": "2",
                                    "raktár készlet": "10"
                                },
                                {
                                    "ID": "42",
                                    "cim": "Castle Explorer",
                                    "stilus": "játék (történelmi)",
                                    "szam": "560",
                                    "nettoar": "3707",
                                    "lang": "2",
                                    "raktár készlet": "10"
                                },
                                {
                                    "ID": "43",
                                    "cim": "CD Panoráma 1-4. (1998)",
                                    "stilus": "ismeretterjesztő",
                                    "szam": "4294-4374-75-76",
                                    "nettoar": "5422",
                                    "lang": "1",
                                    "raktár készlet": "10"
                                },
                                {
                                    "ID": "44",
                                    "cim": "Computer iskola (1998)",
                                    "stilus": "számítástechnika",
                                    "szam": "3742",
                                    "nettoar": "5260",
                                    "lang": "1",
                                    "raktár készlet": "10"
                                },
                                {
                                    "ID": "45",
                                    "cim": "Csizmás kandúr (1998)",
                                    "stilus": "játék",
                                    "szam": "5285",
                                    "nettoar": "5932",
                                    "lang": "1",
                                    "raktár készlet": "10"
                                },
                                {
                                    "ID": "46",
                                    "cim": "Csodálatos univerzum (1997)",
                                    "stilus": "csillagászat",
                                    "szam": "2128",
                                    "nettoar": "4087",
                                    "lang": "1",
                                    "raktár készlet": "10"
                                },
                                {
                                    "ID": "47",
                                    "cim": "Dél-Amerika (1999)",
                                    "stilus": "földrajz",
                                    "szam": "7049",
                                    "nettoar": "3999",
                                    "lang": "1",
                                    "raktár készlet": "10"
                                },
                                {
                                    "ID": "48",
                                    "cim": "Dementia 1-5. (1997)",
                                    "stilus": "játék",
                                    "szam": "2675-2679",
                                    "nettoar": "5919",
                                    "lang": "2",
                                    "raktár készlet": "10"
                                },
                                {
                                    "ID": "49",
                                    "cim": "Deutsch: Anfanger (kezdő) + Telepítő ",
                                    "stilus": "nyelvtanító",
                                    "szam": "8121-8122",
                                    "nettoar": "5633",
                                    "lang": "3",
                                    "raktár készlet": "10"
                                },
                                {
                                    "ID": "50",
                                    "cim": "Deutsch: Fortgeschrittene (haladó) + Installation",
                                    "stilus": "nyelvtanító",
                                    "szam": "6976-6977",
                                    "nettoar": "5784",
                                    "lang": "3",
                                    "raktár készlet": "10"
                                },
                                {
                                    "ID": "51",
                                    "cim": "Deutsch: Mittelstufe (középhaladó)+ Telepítő",
                                    "stilus": "nyelvtanító",
                                    "szam": "8123-8124",
                                    "nettoar": "4377",
                                    "lang": "3",
                                    "raktár készlet": "10"
                                },
                                {
                                    "ID": "52",
                                    "cim": "Diablo",
                                    "stilus": "játék",
                                    "szam": "12321",
                                    "nettoar": "5969",
                                    "lang": "NULL",
                                    "raktár készlet": "10"
                                },
                                {
                                    "ID": "53",
                                    "cim": "Diablo II. (2000)",
                                    "stilus": "játék",
                                    "szam": "10039-40-41-42",
                                    "nettoar": "4900",
                                    "lang": "2",
                                    "raktár készlet": "10"
                                },
                                {
                                    "ID": "54",
                                    "cim": "Dicső napok és hétköznapok 1848 - Digitális forrásgyűjtemény 1.",
                                    "stilus": "történelem",
                                    "szam": "7793",
                                    "nettoar": "5611",
                                    "lang": "1",
                                    "raktár készlet": "10"
                                },
                                {
                                    "ID": "55",
                                    "cim": "Dreams to Reality 1-2. (1997)",
                                    "stilus": "játék",
                                    "szam": "3958-3959",
                                    "nettoar": "4699",
                                    "lang": "2",
                                    "raktár készlet": "10"
                                },
                                {
                                    "ID": "56",
                                    "cim": "Duke Nukem 3D",
                                    "stilus": "játék",
                                    "szam": "100",
                                    "nettoar": "5474",
                                    "lang": "2",
                                    "raktár készlet": "10"
                                },
                                {
                                    "ID": "57",
                                    "cim": "Dungeon Keeper 2. (1999)",
                                    "stilus": "játék",
                                    "szam": "6831",
                                    "nettoar": "3369",
                                    "lang": "2",
                                    "raktár készlet": "10"
                                },
                                {
                                    "ID": "58",
                                    "cim": "E-Games : Collector's Edition (2001)",
                                    "stilus": "játék",
                                    "szam": "9988",
                                    "nettoar": "5583",
                                    "lang": "2",
                                    "raktár készlet": "10"
                                },
                                {
                                    "ID": "59",
                                    "cim": "Éléstár (1998)",
                                    "stilus": "gasztronómia",
                                    "szam": "3014",
                                    "nettoar": "3258",
                                    "lang": "1",
                                    "raktár készlet": "10"
                                },
                                {
                                    "ID": "60",
                                    "cim": "Élet a polgárosodó Magyarországon (2001)",
                                    "stilus": "történelem",
                                    "szam": "13357",
                                    "nettoar": "5572",
                                    "lang": "1",
                                    "raktár készlet": "10"
                                },
                                {
                                    "ID": "61",
                                    "cim": "Életképek 1848 (1998)",
                                    "stilus": "történelem",
                                    "szam": "3874",
                                    "nettoar": "4211",
                                    "lang": "1",
                                    "raktár készlet": "10"
                                },
                                {
                                    "ID": "62",
                                    "cim": "Az ember tragédiája",
                                    "stilus": "irodalom",
                                    "szam": "7107",
                                    "nettoar": "4295",
                                    "lang": "1",
                                    "raktár készlet": "10"
                                },
                                {
                                    "ID": "63",
                                    "cim": "Encarta World Atlas '99 1-2. (1998)",
                                    "stilus": "ismeretterjesztő",
                                    "szam": "4786-4787",
                                    "nettoar": "5334",
                                    "lang": "2",
                                    "raktár készlet": "10"
                                },
                                {
                                    "ID": "64",
                                    "cim": "Enemy Engaged RAH-66",
                                    "stilus": "játék",
                                    "szam": "11010",
                                    "nettoar": "5217",
                                    "lang": "2",
                                    "raktár készlet": "10"
                                },
                                {
                                    "ID": "65",
                                    "cim": "English 1-2. + Telepítő",
                                    "stilus": "nyelvtanító",
                                    "szam": "8118-8119-8120",
                                    "nettoar": "5215",
                                    "lang": "2",
                                    "raktár készlet": "10"
                                },
                                {
                                    "ID": "67",
                                    "cim": "English: Intermediate (haladó)",
                                    "stilus": "nyelvtanító",
                                    "szam": "8116-8117",
                                    "nettoar": "3627",
                                    "lang": "2",
                                    "raktár készlet": "10"
                                },
                                {
                                    "ID": "68",
                                    "cim": "English by Stealth  lásd: Lopva angolul",
                                    "stilus": "NULL",
                                    "szam": "NULL",
                                    "nettoar": "4478",
                                    "lang": "NULL",
                                    "raktár készlet": "10"
                                },
                                {
                                    "ID": "69",
                                    "cim": "Erdély (1996)",
                                    "stilus": "földrajz",
                                    "szam": "2768",
                                    "nettoar": "4999",
                                    "lang": "1",
                                    "raktár készlet": "10"
                                },
                                {
                                    "ID": "70",
                                    "cim": "Espanol: Intermedio + Telepítő",
                                    "stilus": "nyelvtanító",
                                    "szam": "8132-8133",
                                    "nettoar": "3914",
                                    "lang": "6",
                                    "raktár készlet": "10"
                                },
                                {
                                    "ID": "71",
                                    "cim": "Espanol: Principiante + Telepítő",
                                    "stilus": "nyelvtanító",
                                    "szam": "8130-8131",
                                    "nettoar": "5882",
                                    "lang": "6",
                                    "raktár készlet": "10"
                                },
                                {
                                    "ID": "72",
                                    "cim": "Észak-Amerika",
                                    "stilus": "földrajz",
                                    "szam": "6470",
                                    "nettoar": "3994",
                                    "lang": "1",
                                    "raktár készlet": "10"
                                },
                                {
                                    "ID": "73",
                                    "cim": "Európa",
                                    "stilus": "földrajz",
                                    "szam": "7825",
                                    "nettoar": "5270",
                                    "lang": "1",
                                    "raktár készlet": "10"
                                },
                                {
                                    "ID": "74",
                                    "cim": "The F.A. Premier League Stars 2001",
                                    "stilus": "játék (labdarúgás)",
                                    "szam": "10184",
                                    "nettoar": "3871",
                                    "lang": "2",
                                    "raktár készlet": "10"
                                },
                                {
                                    "ID": "75",
                                    "cim": "Felvételi példatár : Angol",
                                    "stilus": "felvételi",
                                    "szam": "11772",
                                    "nettoar": "3876",
                                    "lang": "2",
                                    "raktár készlet": "10"
                                },
                                {
                                    "ID": "76",
                                    "cim": "Felvételi példatár : Biológia, földrajz",
                                    "stilus": "felvételi",
                                    "szam": "11794",
                                    "nettoar": "3215",
                                    "lang": "1",
                                    "raktár készlet": "10"
                                },
                                {
                                    "ID": "77",
                                    "cim": "Felvételi példatár : Kémia, fizika",
                                    "stilus": "felvételi",
                                    "szam": "11826",
                                    "nettoar": "5851",
                                    "lang": "1",
                                    "raktár készlet": "10"
                                },
                                {
                                    "ID": "78",
                                    "cim": "Felvételi példatár : Magyar nyelv és irodalom",
                                    "stilus": "felvételi",
                                    "szam": "11845",
                                    "nettoar": "5955",
                                    "lang": "1",
                                    "raktár készlet": "10"
                                },
                                {
                                    "ID": "79",
                                    "cim": "Felvételi példatár : Matematika",
                                    "stilus": "felvételi",
                                    "szam": "11867",
                                    "nettoar": "5009",
                                    "lang": "1",
                                    "raktár készlet": "10"
                                },
                                {
                                    "ID": "80",
                                    "cim": "Felvételi példatár : Német",
                                    "stilus": "felvételi",
                                    "szam": "11894",
                                    "nettoar": "3102",
                                    "lang": "3",
                                    "raktár készlet": "10"
                                },
                                {
                                    "ID": "81",
                                    "cim": "FIFA, 2000 (1999)",
                                    "stilus": "játék (labdarúgás)",
                                    "szam": "14254",
                                    "nettoar": "5059",
                                    "lang": "2",
                                    "raktár készlet": "10"
                                },
                                {
                                    "ID": "82",
                                    "cim": "Fighting Force (1998)",
                                    "stilus": "játék",
                                    "szam": "3982",
                                    "nettoar": "4800",
                                    "lang": "2",
                                    "raktár készlet": "10"
                                },
                                {
                                    "ID": "83",
                                    "cim": "Final Liberation (1997)",
                                    "stilus": "játék",
                                    "szam": "2604",
                                    "nettoar": "4632",
                                    "lang": "2",
                                    "raktár készlet": "10"
                                },
                                {
                                    "ID": "84",
                                    "cim": "Fitness mesterfokon / Béres Alexandra (2001)",
                                    "stilus": "sport",
                                    "szam": "13053",
                                    "nettoar": "4607",
                                    "lang": "1",
                                    "raktár készlet": "10"
                                },
                                {
                                    "ID": "85",
                                    "cim": "Fizika : 12-14 éveseknek (2002)",
                                    "stilus": "fizika",
                                    "szam": "13465",
                                    "nettoar": "3734",
                                    "lang": "1",
                                    "raktár készlet": "10"
                                },
                                {
                                    "ID": "86",
                                    "cim": "Fizika felkészítő az érettségi és felvételi vizsgára",
                                    "stilus": "fizika",
                                    "szam": "2328",
                                    "nettoar": "4810",
                                    "lang": "1",
                                    "raktár készlet": "10"
                                },
                                {
                                    "ID": "87",
                                    "cim": "Fizika világa (2001)",
                                    "stilus": "fizika",
                                    "szam": "13778",
                                    "nettoar": "5763",
                                    "lang": "1",
                                    "raktár készlet": "10"
                                },
                                {
                                    "ID": "88",
                                    "cim": "A Föld élővilága",
                                    "stilus": "ismeretterjesztő",
                                    "szam": "11081",
                                    "nettoar": "5900",
                                    "lang": "1",
                                    "raktár készlet": "10"
                                },
                                {
                                    "ID": "89",
                                    "cim": "Földrajz: 10-14 éveseknek (2002)",
                                    "stilus": "földrajz",
                                    "szam": "13484",
                                    "nettoar": "3930",
                                    "lang": "1",
                                    "raktár készlet": "10"
                                },
                                {
                                    "ID": "90",
                                    "cim": "Földrajz: érettségi előkészítő (2002)",
                                    "stilus": "földrajz",
                                    "szam": "13707",
                                    "nettoar": "3173",
                                    "lang": "1",
                                    "raktár készlet": "10"
                                },
                                {
                                    "ID": "91",
                                    "cim": "Francais 1-2. + Telepítő",
                                    "stilus": "nyelvtanító",
                                    "szam": "8127-8128-8129",
                                    "nettoar": "4038",
                                    "lang": "7",
                                    "raktár készlet": "10"
                                },
                                {
                                    "ID": "92",
                                    "cim": "Francais: Débutan (kezdő) + Telepítő",
                                    "stilus": "nyelvtanító",
                                    "szam": "8125-8126",
                                    "nettoar": "3770",
                                    "lang": "7",
                                    "raktár készlet": "10"
                                },
                                {
                                    "ID": "93",
                                    "cim": "Francais: Moyen + Telepítő",
                                    "stilus": "nyelvtanító",
                                    "szam": "6587-6588",
                                    "nettoar": "5619",
                                    "lang": "7",
                                    "raktár készlet": "10"
                                },
                                {
                                    "ID": "94",
                                    "cim": "Francia-magyar szótár",
                                    "stilus": "szótár",
                                    "szam": "8323",
                                    "nettoar": "3566",
                                    "lang": "7",
                                    "raktár készlet": "10"
                                },
                                {
                                    "ID": "95",
                                    "cim": "Funschool in Dreamland (1995)",
                                    "stilus": "játék",
                                    "szam": "4078",
                                    "nettoar": "4766",
                                    "lang": "2",
                                    "raktár készlet": "10"
                                },
                                {
                                    "ID": "96",
                                    "cim": "Geolexikon 4.2 : földtani adatbázis (2002)",
                                    "stilus": "ismeretterjesztő",
                                    "szam": "13232",
                                    "nettoar": "4602",
                                    "lang": "1",
                                    "raktár készlet": "10"
                                },
                                {
                                    "ID": "97",
                                    "cim": "Gépírás 2000",
                                    "stilus": "gépírás",
                                    "szam": "9803",
                                    "nettoar": "3936",
                                    "lang": "1",
                                    "raktár készlet": "10"
                                },
                                {
                                    "ID": "98",
                                    "cim": "Gondolattár: aforizmák, szállóigék",
                                    "stilus": "ismeretterjesztő",
                                    "szam": "9160",
                                    "nettoar": "5346",
                                    "lang": "1",
                                    "raktár készlet": "10"
                                },
                                {
                                    "ID": "99",
                                    "cim": "GTA 2",
                                    "stilus": "játék (autóverseny)",
                                    "szam": "11028",
                                    "nettoar": "5005",
                                    "lang": "2",
                                    "raktár készlet": "10"
                                },
                                {
                                    "ID": "100",
                                    "cim": "Hadiflották I. (2002)",
                                    "stilus": "történelem",
                                    "szam": "14849",
                                    "nettoar": "5124",
                                    "lang": "1",
                                    "raktár készlet": "10"
                                },
                                {
                                    "ID": "101",
                                    "cim": "Hadtudományi lexikon (1998)",
                                    "stilus": "hadtudomány",
                                    "szam": "4742",
                                    "nettoar": "3515",
                                    "lang": "1",
                                    "raktár készlet": "10"
                                },
                                {
                                    "ID": "102",
                                    "cim": "Hajdúböszörmény",
                                    "stilus": "ismeretterjesztő",
                                    "szam": "12844",
                                    "nettoar": "3781",
                                    "lang": "1",
                                    "raktár készlet": "10"
                                },
                                {
                                    "ID": "103",
                                    "cim": "Halak, kétéltűek, hüllők",
                                    "stilus": "állattan",
                                    "szam": "3024",
                                    "nettoar": "4153",
                                    "lang": "1",
                                    "raktár készlet": "10"
                                },
                                {
                                    "ID": "104",
                                    "cim": "Half-Life (1996)",
                                    "stilus": "játék",
                                    "szam": "4492",
                                    "nettoar": "5405",
                                    "lang": "2",
                                    "raktár készlet": "10"
                                },
                                {
                                    "ID": "105",
                                    "cim": "Half-Life Generation: Game of the Year Edition (2002)",
                                    "stilus": "játék",
                                    "szam": "14238-39",
                                    "nettoar": "3705",
                                    "lang": "2",
                                    "raktár készlet": "10"
                                },
                                {
                                    "ID": "106",
                                    "cim": "Half-Life Generation: Counter Strike (2002)",
                                    "stilus": "játék",
                                    "szam": "14240",
                                    "nettoar": "5744",
                                    "lang": "2",
                                    "raktár készlet": "10"
                                },
                                {
                                    "ID": "107",
                                    "cim": "Half-Life Generation: Blue Shift (2002)",
                                    "stilus": "játék",
                                    "szam": "14241",
                                    "nettoar": "5728",
                                    "lang": "2",
                                    "raktár készlet": "10"
                                },
                                {
                                    "ID": "108",
                                    "cim": "Harry Potter és a bölcsek köve (2001)",
                                    "stilus": "játék",
                                    "szam": "14245",
                                    "nettoar": "4472",
                                    "lang": "2",
                                    "raktár készlet": "10"
                                },
                                {
                                    "ID": "109",
                                    "cim": "Haza és haladás",
                                    "stilus": "történelem",
                                    "szam": "9599",
                                    "nettoar": "3481",
                                    "lang": "1",
                                    "raktár készlet": "10"
                                },
                                {
                                    "ID": "110",
                                    "cim": "A hét világcsoda (2001)",
                                    "stilus": "történelem",
                                    "szam": "14028",
                                    "nettoar": "3162",
                                    "lang": "1",
                                    "raktár készlet": "10"
                                },
                                {
                                    "ID": "111",
                                    "cim": "Home Desing 3D (1998)",
                                    "stilus": "lakástervező",
                                    "szam": "3356",
                                    "nettoar": "4287",
                                    "lang": "2",
                                    "raktár készlet": "10"
                                },
                                {
                                    "ID": "112",
                                    "cim": "Hupikék törpikék: teletransportörp (1999)",
                                    "stilus": "játék",
                                    "szam": "14233",
                                    "nettoar": "3110",
                                    "lang": "1",
                                    "raktár készlet": "10"
                                },
                                {
                                    "ID": "113",
                                    "cim": "Informatika - Internet - Iskola",
                                    "stilus": "ismeretterjesztő",
                                    "szam": "2007",
                                    "nettoar": "3733",
                                    "lang": "1",
                                    "raktár készlet": "10"
                                },
                                {
                                    "ID": "114",
                                    "cim": "Interaktív angol nyelvész kurzus haladó szint 1-5.",
                                    "stilus": "nyelvtanító",
                                    "szam": "1811-1815",
                                    "nettoar": "4592",
                                    "lang": "2",
                                    "raktár készlet": "10"
                                },
                                {
                                    "ID": "115",
                                    "cim": "Interaktív angol nyelvész kurzus kezdő szint",
                                    "stilus": "nyelvtanító",
                                    "szam": "1836-1840",
                                    "nettoar": "4183",
                                    "lang": "2",
                                    "raktár készlet": "10"
                                },
                                {
                                    "ID": "116",
                                    "cim": "Interaktív angol nyelvész kurzus középhaladó szint",
                                    "stilus": "nyelvtanító",
                                    "szam": "1841-1845",
                                    "nettoar": "3115",
                                    "lang": "2",
                                    "raktár készlet": "10"
                                },
                                {
                                    "ID": "117",
                                    "cim": "Interaktív magyar nyelvtan",
                                    "stilus": "nyelvtan",
                                    "szam": "1719",
                                    "nettoar": "4779",
                                    "lang": "1",
                                    "raktár készlet": "10"
                                },
                                {
                                    "ID": "118",
                                    "cim": "International Rally Championship",
                                    "stilus": "játék (autóverseny)",
                                    "szam": "9957",
                                    "nettoar": "3890",
                                    "lang": "2",
                                    "raktár készlet": "10"
                                },
                                {
                                    "ID": "119",
                                    "cim": "Internet (1996)",
                                    "stilus": "számítástechnika",
                                    "szam": "1046",
                                    "nettoar": "4934",
                                    "lang": "1",
                                    "raktár készlet": "10"
                                },
                                {
                                    "ID": "120",
                                    "cim": "Introduction to Archeology",
                                    "stilus": "régészet",
                                    "szam": "1160",
                                    "nettoar": "3773",
                                    "lang": "2",
                                    "raktár készlet": "10"
                                },
                                {
                                    "ID": "121",
                                    "cim": "Investigating 20th Century Art (1994)",
                                    "stilus": "festészet",
                                    "szam": "444",
                                    "nettoar": "4394",
                                    "lang": "2",
                                    "raktár készlet": "10"
                                },
                                {
                                    "ID": "122",
                                    "cim": "Az ipari forradalom kora (2000)",
                                    "stilus": "történelem",
                                    "szam": "8951",
                                    "nettoar": "5082",
                                    "lang": "1",
                                    "raktár készlet": "10"
                                },
                                {
                                    "ID": "123",
                                    "cim": "Irodalmi arcképcsarnok",
                                    "stilus": "irodalom",
                                    "szam": "9171",
                                    "nettoar": "3866",
                                    "lang": "1",
                                    "raktár készlet": "10"
                                },
                                {
                                    "ID": "124",
                                    "cim": "Irodalom  felkészítő az érettségi és felvételi vizsgára",
                                    "stilus": "irodalom",
                                    "szam": "2414",
                                    "nettoar": "5654",
                                    "lang": "1",
                                    "raktár készlet": "10"
                                },
                                {
                                    "ID": "125",
                                    "cim": "Irodalom (1998)",
                                    "stilus": "irodalom",
                                    "szam": "3904",
                                    "nettoar": "5625",
                                    "lang": "1",
                                    "raktár készlet": "10"
                                },
                                {
                                    "ID": "126",
                                    "cim": "Italiano (1998) + Installation",
                                    "stilus": "nyelvtanító",
                                    "szam": "5549, 5594",
                                    "nettoar": "5436",
                                    "lang": "4",
                                    "raktár készlet": "10"
                                },
                                {
                                    "ID": "127",
                                    "cim": "Italiano 1-2. (1998) + Installation",
                                    "stilus": "nyelvtanító",
                                    "szam": "5592-5593, 5550",
                                    "nettoar": "6082",
                                    "lang": "4",
                                    "raktár készlet": "10"
                                },
                                {
                                    "ID": "128",
                                    "cim": "Italiano 1-2. (1998) + Installation",
                                    "stilus": "nyelvtanító",
                                    "szam": "5607-5608, 5609",
                                    "nettoar": "3419",
                                    "lang": "4",
                                    "raktár készlet": "10"
                                },
                                {
                                    "ID": "129",
                                    "cim": "Jancsó",
                                    "stilus": "filmtörténet",
                                    "szam": "8310",
                                    "nettoar": "4204",
                                    "lang": "1",
                                    "raktár készlet": "10"
                                },
                                {
                                    "ID": "130",
                                    "cim": "Japán : képes kulturális atlasz (2001)",
                                    "stilus": "ismeretterjesztő",
                                    "szam": "12810",
                                    "nettoar": "4459",
                                    "lang": "1",
                                    "raktár készlet": "10"
                                },
                                {
                                    "ID": "131",
                                    "cim": "Játékfilmek 1963-tól napjainkig",
                                    "stilus": "filmtörténet",
                                    "szam": "7625",
                                    "nettoar": "3138",
                                    "lang": "1",
                                    "raktár készlet": "10"
                                },
                                {
                                    "ID": "132",
                                    "cim": "Játszóház (1998)",
                                    "stilus": "játék",
                                    "szam": "3779",
                                    "nettoar": "5299",
                                    "lang": "1",
                                    "raktár készlet": "10"
                                },
                                {
                                    "ID": "133",
                                    "cim": "Jókai összes művei (2001)",
                                    "stilus": "irodalom",
                                    "szam": "12119",
                                    "nettoar": "4768",
                                    "lang": "1",
                                    "raktár készlet": "10"
                                },
                                {
                                    "ID": "134",
                                    "cim": "József Attila (1998)",
                                    "stilus": "irodalom",
                                    "szam": "3036",
                                    "nettoar": "3870",
                                    "lang": "1",
                                    "raktár készlet": "10"
                                },
                                {
                                    "ID": "135",
                                    "cim": "A jövő titkai - Interaktív horoszkóp (1998)",
                                    "stilus": "ismeretterjesztő",
                                    "szam": "8990",
                                    "nettoar": "6072",
                                    "lang": "1",
                                    "raktár készlet": "10"
                                },
                                {
                                    "ID": "136",
                                    "cim": "Kártyaváros",
                                    "stilus": "ismeretterjesztő + játék",
                                    "szam": "11239",
                                    "nettoar": "3107",
                                    "lang": "1",
                                    "raktár készlet": "10"
                                },
                                {
                                    "ID": "137",
                                    "cim": "Kémia Kalauz 2.",
                                    "stilus": "kémia",
                                    "szam": "7735",
                                    "nettoar": "5094",
                                    "lang": "1",
                                    "raktár készlet": "10"
                                },
                                {
                                    "ID": "138",
                                    "cim": "A kémkedés és a hírszerzés története (2002)",
                                    "stilus": "történelem",
                                    "szam": "13230",
                                    "nettoar": "5845",
                                    "lang": "1",
                                    "raktár készlet": "10"
                                },
                                {
                                    "ID": "139",
                                    "cim": "Képes krónika (1996)",
                                    "stilus": "történelem",
                                    "szam": "327",
                                    "nettoar": "3931",
                                    "lang": "1",
                                    "raktár készlet": "10"
                                },
                                {
                                    "ID": "140",
                                    "cim": "Képtárak (1995)",
                                    "stilus": "festészet",
                                    "szam": "580",
                                    "nettoar": "5408",
                                    "lang": "1",
                                    "raktár készlet": "10"
                                },
                                {
                                    "ID": "141",
                                    "cim": "Kereszt és félhold",
                                    "stilus": "történelem",
                                    "szam": "7489",
                                    "nettoar": "4302",
                                    "lang": "1",
                                    "raktár készlet": "10"
                                },
                                {
                                    "ID": "142",
                                    "cim": "Kétfejű sas: A Habsburg-uralom Magyarországon (1699-1790)",
                                    "stilus": "történelem",
                                    "szam": "8573",
                                    "nettoar": "5459",
                                    "lang": "1",
                                    "raktár készlet": "10"
                                },
                                {
                                    "ID": "143",
                                    "cim": "Kettős kötődés: Az Osztrák-Magyar Monarchia (1867-1918)",
                                    "stilus": "történelem",
                                    "szam": "10665",
                                    "nettoar": "4829",
                                    "lang": "1",
                                    "raktár készlet": "10"
                                },
                                {
                                    "ID": "144",
                                    "cim": "Kínai falatok",
                                    "stilus": "gasztronómia",
                                    "szam": "7932",
                                    "nettoar": "4550",
                                    "lang": "1",
                                    "raktár készlet": "10"
                                },
                                {
                                    "ID": "145",
                                    "cim": "Királyi könyvek 1-9. kötet",
                                    "stilus": "ismeretterjesztő",
                                    "szam": "9175",
                                    "nettoar": "3256",
                                    "lang": "1",
                                    "raktár készlet": "10"
                                },
                                {
                                    "ID": "146",
                                    "cim": "Királyi könyvek 18-26. kötet",
                                    "stilus": "ismeretterjesztő",
                                    "szam": "11759",
                                    "nettoar": "5507",
                                    "lang": "1",
                                    "raktár készlet": "10"
                                },
                                {
                                    "ID": "147",
                                    "cim": "Királyi könyvek 27-38. kötet : 1703-1740 (2002)",
                                    "stilus": "ismeretterjesztő",
                                    "szam": "14003",
                                    "nettoar": "5476",
                                    "lang": "1",
                                    "raktár készlet": "10"
                                },
                                {
                                    "ID": "148",
                                    "cim": "Kispál és a borz (1998)",
                                    "stilus": "zene",
                                    "szam": "4624",
                                    "nettoar": "5730",
                                    "lang": "1",
                                    "raktár készlet": "10"
                                },
                                {
                                    "ID": "149",
                                    "cim": "Kossuth Lajos összes munkái (2002)",
                                    "stilus": "ismeretterjesztő",
                                    "szam": "14760",
                                    "nettoar": "4589",
                                    "lang": "1",
                                    "raktár készlet": "10"
                                },
                                {
                                    "ID": "150",
                                    "cim": "Környezetvédelmi kalauz (1999)",
                                    "stilus": "környezetvédelem",
                                    "szam": "8951",
                                    "nettoar": "5508",
                                    "lang": "1",
                                    "raktár készlet": "10"
                                },
                                {
                                    "ID": "151",
                                    "cim": "Kötelező olvasmányok könyvtára 1. (2002)",
                                    "stilus": "irodalom",
                                    "szam": "13746",
                                    "nettoar": "3594",
                                    "lang": "1",
                                    "raktár készlet": "10"
                                },
                                {
                                    "ID": "152",
                                    "cim": "A kőszívű ember fiai - Egri csillagok",
                                    "stilus": "irodalom",
                                    "szam": "6693",
                                    "nettoar": "5538",
                                    "lang": "1",
                                    "raktár készlet": "10"
                                },
                                {
                                    "ID": "153",
                                    "cim": "A kutyák: A család kedvencei",
                                    "stilus": "állattan",
                                    "szam": "7060",
                                    "nettoar": "4963",
                                    "lang": "1",
                                    "raktár készlet": "10"
                                },
                                {
                                    "ID": "154",
                                    "cim": "Kutyatár",
                                    "stilus": "állattan",
                                    "szam": "2963",
                                    "nettoar": "5235",
                                    "lang": "1",
                                    "raktár készlet": "10"
                                },
                                {
                                    "ID": "155",
                                    "cim": "KvízIQ : A hét világcsoda (2001)",
                                    "stilus": "játék",
                                    "szam": "14028",
                                    "nettoar": "3451",
                                    "lang": "1",
                                    "raktár készlet": "10"
                                },
                                {
                                    "ID": "156",
                                    "cim": "Lakáskultúra 2000 (2000)",
                                    "stilus": "ismeretterjesztő",
                                    "szam": "9791",
                                    "nettoar": "5847",
                                    "lang": "1",
                                    "raktár készlet": "10"
                                },
                                {
                                    "ID": "157",
                                    "cim": "Lakáskultúra 1999 (1999)",
                                    "stilus": "ismeretterjesztő",
                                    "szam": "9790",
                                    "nettoar": "5414",
                                    "lang": "1",
                                    "raktár készlet": "10"
                                },
                                {
                                    "ID": "158",
                                    "cim": "Lakáskultúra 1998 (1998)",
                                    "stilus": "ismeretterjesztő",
                                    "szam": "9789",
                                    "nettoar": "5491",
                                    "lang": "1",
                                    "raktár készlet": "10"
                                },
                                {
                                    "ID": "159",
                                    "cim": "Lakáskultúra 1997 (1997)",
                                    "stilus": "ismeretterjesztő",
                                    "szam": "9788",
                                    "nettoar": "3419",
                                    "lang": "1",
                                    "raktár készlet": "10"
                                },
                                {
                                    "ID": "160",
                                    "cim": "Lakáskultúra 1996 (1996)",
                                    "stilus": "ismeretterjesztő",
                                    "szam": "9787",
                                    "nettoar": "4209",
                                    "lang": "1",
                                    "raktár készlet": "10"
                                },
                                {
                                    "ID": "161",
                                    "cim": "Lands of Lore II. 1-4. (1997)",
                                    "stilus": "játék",
                                    "szam": "3929-3932",
                                    "nettoar": "4312",
                                    "lang": "2",
                                    "raktár készlet": "10"
                                },
                                {
                                    "ID": "162",
                                    "cim": "Landscape Design 3D (1998)",
                                    "stilus": "kerttervező",
                                    "szam": "3352",
                                    "nettoar": "4951",
                                    "lang": "2",
                                    "raktár készlet": "10"
                                },
                                {
                                    "ID": "163",
                                    "cim": "Legféltettebb természeti értékeink",
                                    "stilus": "ismeretterjesztő",
                                    "szam": "8821",
                                    "nettoar": "5083",
                                    "lang": "1",
                                    "raktár készlet": "10"
                                },
                                {
                                    "ID": "164",
                                    "cim": "Legszebb vadnövényeink",
                                    "stilus": "növénytan",
                                    "szam": "1193",
                                    "nettoar": "4438",
                                    "lang": "1",
                                    "raktár készlet": "10"
                                },
                                {
                                    "ID": "165",
                                    "cim": "Leonardo da Vinci",
                                    "stilus": "múvészet",
                                    "szam": "907",
                                    "nettoar": "5118",
                                    "lang": "2",
                                    "raktár készlet": "10"
                                },
                                {
                                    "ID": "166",
                                    "cim": "Lilenthal Andor sakkjátszmái",
                                    "stilus": "játék, sakk",
                                    "szam": "11479",
                                    "nettoar": "3644",
                                    "lang": "1",
                                    "raktár készlet": "10"
                                },
                                {
                                    "ID": "167",
                                    "cim": "Lopva angolul /English by Stealth 1.",
                                    "stilus": "nyelvtanító",
                                    "szam": "7011",
                                    "nettoar": "5431",
                                    "lang": "2",
                                    "raktár készlet": "10"
                                },
                                {
                                    "ID": "168",
                                    "cim": "Lopva angolul /English by Stealth 2.",
                                    "stilus": "nyelvtanító",
                                    "szam": "7012",
                                    "nettoar": "4597",
                                    "lang": "2",
                                    "raktár készlet": "10"
                                },
                                {
                                    "ID": "169",
                                    "cim": "Lopva angolul /English by Stealth 3.",
                                    "stilus": "nyelvtanító",
                                    "szam": "7013",
                                    "nettoar": "4851",
                                    "lang": "2",
                                    "raktár készlet": "10"
                                },
                                {
                                    "ID": "170",
                                    "cim": "Lovagkirályok (1301-1437) (1997)",
                                    "stilus": "történelem",
                                    "szam": "1563",
                                    "nettoar": "4368",
                                    "lang": "1",
                                    "raktár készlet": "10"
                                },
                                {
                                    "ID": "171",
                                    "cim": "LoveQ, SexQ : szerelmi intelligencia (2001)",
                                    "stilus": "ismeretterjesztő",
                                    "szam": "14231",
                                    "nettoar": "3626",
                                    "lang": "1",
                                    "raktár készlet": "10"
                                },
                                {
                                    "ID": "172",
                                    "cim": "M1 Tank (1998)",
                                    "stilus": "játék",
                                    "szam": "3974",
                                    "nettoar": "5981",
                                    "lang": "2",
                                    "raktár készlet": "10"
                                },
                                {
                                    "ID": "173",
                                    "cim": "Mackó úr (2002)",
                                    "stilus": "játék",
                                    "szam": "13819",
                                    "nettoar": "4632",
                                    "lang": "1",
                                    "raktár készlet": "10"
                                },
                                {
                                    "ID": "174",
                                    "cim": "Madárdalos kirándulások - Madártani oktató CD-ROM (1999)",
                                    "stilus": "ismeretterjesztő",
                                    "szam": "9036",
                                    "nettoar": "3408",
                                    "lang": "1",
                                    "raktár készlet": "10"
                                },
                                {
                                    "ID": "175",
                                    "cim": "Magyar bélyegek katalógusa",
                                    "stilus": "ismeretterjesztő",
                                    "szam": "8854",
                                    "nettoar": "4035",
                                    "lang": "1",
                                    "raktár készlet": "10"
                                },
                                {
                                    "ID": "176",
                                    "cim": "Magyar fontok '97",
                                    "stilus": "betűtípusok",
                                    "szam": "3729",
                                    "nettoar": "3845",
                                    "lang": "1",
                                    "raktár készlet": "10"
                                },
                                {
                                    "ID": "177",
                                    "cim": "A Magyar Koronázási Jelvények",
                                    "stilus": "történelem",
                                    "szam": "4699",
                                    "nettoar": "4122",
                                    "lang": "1",
                                    "raktár készlet": "10"
                                },
                                {
                                    "ID": "178",
                                    "cim": "Magyar nyelv és irodalom",
                                    "stilus": "irodalom, nyelv",
                                    "szam": "9199",
                                    "nettoar": "4704",
                                    "lang": "1",
                                    "raktár készlet": "10"
                                },
                                {
                                    "ID": "179",
                                    "cim": "Magyar színházművészet a világban",
                                    "stilus": "színház",
                                    "szam": "9583",
                                    "nettoar": "5158",
                                    "lang": "1",
                                    "raktár készlet": "10"
                                },
                                {
                                    "ID": "180",
                                    "cim": "Magyarország, 1944-1956 (2001)",
                                    "stilus": "történelem",
                                    "szam": "13162",
                                    "nettoar": "4921",
                                    "lang": "1",
                                    "raktár készlet": "10"
                                },
                                {
                                    "ID": "181",
                                    "cim": "Magyarország, 1944-1956 (2001)",
                                    "stilus": "történelem",
                                    "szam": "15134",
                                    "nettoar": "3673",
                                    "lang": "1",
                                    "raktár készlet": "10"
                                },
                                {
                                    "ID": "182",
                                    "cim": "Magyarország Nemzeti Parkjai I.",
                                    "stilus": "ismeretterjesztő",
                                    "szam": "8531",
                                    "nettoar": "3348",
                                    "lang": "1",
                                    "raktár készlet": "10"
                                },
                                {
                                    "ID": "183",
                                    "cim": "Magyarország Nemzeti Parkjai II.",
                                    "stilus": "ismeretterjesztő",
                                    "szam": "10973",
                                    "nettoar": "3377",
                                    "lang": "1",
                                    "raktár készlet": "10"
                                },
                                {
                                    "ID": "184",
                                    "cim": "Magyarországi várak (1998)",
                                    "stilus": "történelem",
                                    "szam": "4625",
                                    "nettoar": "5459",
                                    "lang": "1",
                                    "raktár készlet": "10"
                                },
                                {
                                    "ID": "185",
                                    "cim": "Mahjongg Master (1998)",
                                    "stilus": "játék",
                                    "szam": "4509",
                                    "nettoar": "5423",
                                    "lang": "2",
                                    "raktár készlet": "10"
                                },
                                {
                                    "ID": "186",
                                    "cim": "Manó Angol 1.",
                                    "stilus": "nyelvtanító",
                                    "szam": "8162",
                                    "nettoar": "5852",
                                    "lang": "2",
                                    "raktár készlet": "10"
                                },
                                {
                                    "ID": "187",
                                    "cim": "Manó Angol 1. (2002)",
                                    "stilus": "nyelvtanító",
                                    "szam": "13876",
                                    "nettoar": "6051",
                                    "lang": "2",
                                    "raktár készlet": "10"
                                },
                                {
                                    "ID": "188",
                                    "cim": "Manó Angol 2.",
                                    "stilus": "nyelvtanító",
                                    "szam": "7643",
                                    "nettoar": "5353",
                                    "lang": "2",
                                    "raktár készlet": "10"
                                },
                                {
                                    "ID": "189",
                                    "cim": "Manó Angol 2. (2000)",
                                    "stilus": "nyelvtanító",
                                    "szam": "13885",
                                    "nettoar": "6068",
                                    "lang": "2",
                                    "raktár készlet": "10"
                                },
                                {
                                    "ID": "190",
                                    "cim": "Manó Élővilág",
                                    "stilus": "ismeretterjesztő",
                                    "szam": "7025",
                                    "nettoar": "3474",
                                    "lang": "1",
                                    "raktár készlet": "10"
                                },
                                {
                                    "ID": "191",
                                    "cim": "Manó Élővilág (2002)",
                                    "stilus": "ismeretterjesztő",
                                    "szam": "13877",
                                    "nettoar": "4881",
                                    "lang": "1",
                                    "raktár készlet": "10"
                                },
                                {
                                    "ID": "192",
                                    "cim": "Manó IQ (2001)",
                                    "stilus": "ismeretterjesztő",
                                    "szam": "10842",
                                    "nettoar": "5383",
                                    "lang": "1",
                                    "raktár készlet": "10"
                                },
                                {
                                    "ID": "193",
                                    "cim": "Manó Kaland (2002)",
                                    "stilus": "ismeretterjesztő",
                                    "szam": "13875",
                                    "nettoar": "5967",
                                    "lang": "1",
                                    "raktár készlet": "10"
                                },
                                {
                                    "ID": "194",
                                    "cim": "Manó Magyarország (2002)",
                                    "stilus": "földrajz",
                                    "szam": "13935",
                                    "nettoar": "4150",
                                    "lang": "1",
                                    "raktár készlet": "10"
                                },
                                {
                                    "ID": "195",
                                    "cim": "Manó Matek 1.",
                                    "stilus": "matematika",
                                    "szam": "7020",
                                    "nettoar": "5995",
                                    "lang": "1",
                                    "raktár készlet": "10"
                                },
                                {
                                    "ID": "196",
                                    "cim": "Manó Matek 1. (2002)",
                                    "stilus": "matematika",
                                    "szam": "13880",
                                    "nettoar": "5396",
                                    "lang": "1",
                                    "raktár készlet": "10"
                                },
                                {
                                    "ID": "197",
                                    "cim": "Manó Matek 2. (1999)",
                                    "stilus": "matematika",
                                    "szam": "7022",
                                    "nettoar": "5568",
                                    "lang": "1",
                                    "raktár készlet": "10"
                                },
                                {
                                    "ID": "198",
                                    "cim": "Manó Matek 2. (1999)",
                                    "stilus": "matematika",
                                    "szam": "13878",
                                    "nettoar": "3536",
                                    "lang": "1",
                                    "raktár készlet": "10"
                                },
                                {
                                    "ID": "199",
                                    "cim": "Manó Matek 3.",
                                    "stilus": "matematika",
                                    "szam": "9818",
                                    "nettoar": "4803",
                                    "lang": "1",
                                    "raktár készlet": "10"
                                },
                                {
                                    "ID": "200",
                                    "cim": "Manó Muzsika",
                                    "stilus": "zene",
                                    "szam": "6143",
                                    "nettoar": "4996",
                                    "lang": "1",
                                    "raktár készlet": "10"
                                },
                                {
                                    "ID": "201",
                                    "cim": "Manó Muzsika",
                                    "stilus": "zene",
                                    "szam": "8164",
                                    "nettoar": "3391",
                                    "lang": "1",
                                    "raktár készlet": "10"
                                },
                                {
                                    "ID": "202",
                                    "cim": "Manó Német 2.",
                                    "stilus": "nyelvtanító",
                                    "szam": "9834",
                                    "nettoar": "4642",
                                    "lang": "3",
                                    "raktár készlet": "10"
                                },
                                {
                                    "ID": "203",
                                    "cim": "Manó Olvasás 1.",
                                    "stilus": "nyelvtan",
                                    "szam": "8170",
                                    "nettoar": "5845",
                                    "lang": "1",
                                    "raktár készlet": "10"
                                },
                                {
                                    "ID": "204",
                                    "cim": "Manó Puzzle (2002)",
                                    "stilus": "játék",
                                    "szam": "13899",
                                    "nettoar": "6078",
                                    "lang": "1",
                                    "raktár készlet": "10"
                                },
                                {
                                    "ID": "205",
                                    "cim": "Matematika (1998)",
                                    "stilus": "matematika",
                                    "szam": "5051",
                                    "nettoar": "3105",
                                    "lang": "1",
                                    "raktár készlet": "10"
                                },
                                {
                                    "ID": "206",
                                    "cim": "Matematika felkészítő az érettségi és felvételi vizsgára",
                                    "stilus": "matematika",
                                    "szam": "2307",
                                    "nettoar": "4616",
                                    "lang": "1",
                                    "raktár készlet": "10"
                                },
                                {
                                    "ID": "207",
                                    "cim": "Matematika kalauz (1997)",
                                    "stilus": "matematika",
                                    "szam": "1856",
                                    "nettoar": "3315",
                                    "lang": "1",
                                    "raktár készlet": "10"
                                },
                                {
                                    "ID": "208",
                                    "cim": "Mig-29 (1998)",
                                    "stilus": "játék",
                                    "szam": "4463",
                                    "nettoar": "5040",
                                    "lang": "2",
                                    "raktár készlet": "10"
                                },
                                {
                                    "ID": "209",
                                    "cim": "Mikszáth Kálmán összes művei",
                                    "stilus": "irodalom",
                                    "szam": "4981",
                                    "nettoar": "4786",
                                    "lang": "1",
                                    "raktár készlet": "10"
                                },
                                {
                                    "ID": "210",
                                    "cim": "Mini Manó Tavasz",
                                    "stilus": "ismeretterjesztő",
                                    "szam": "11149",
                                    "nettoar": "4727",
                                    "lang": "1",
                                    "raktár készlet": "10"
                                },
                                {
                                    "ID": "211",
                                    "cim": "MoBi Mouse: A fordító egér",
                                    "stilus": "fordító program",
                                    "szam": "8135",
                                    "nettoar": "5036",
                                    "lang": "8",
                                    "raktár készlet": "10"
                                },
                                {
                                    "ID": "212",
                                    "cim": "Monopoly Junior",
                                    "stilus": "játék",
                                    "szam": "12317",
                                    "nettoar": "3974",
                                    "lang": "2",
                                    "raktár készlet": "10"
                                },
                                {
                                    "ID": "213",
                                    "cim": "Mons Sacer Pannoniae (2001)",
                                    "stilus": "ismeretterjesztő",
                                    "szam": "13896",
                                    "nettoar": "4410",
                                    "lang": "1",
                                    "raktár készlet": "10"
                                },
                                {
                                    "ID": "214",
                                    "cim": "Moving Puzzle Action Flight (2000)",
                                    "stilus": "játék",
                                    "szam": "10158",
                                    "nettoar": "5477",
                                    "lang": "2",
                                    "raktár készlet": "10"
                                },
                                {
                                    "ID": "215",
                                    "cim": "Multimédiás Menedzsment Könyvtár 1. - Változásmenedzsment",
                                    "stilus": "ismeretterjesztő",
                                    "szam": "8726",
                                    "nettoar": "6057",
                                    "lang": "1",
                                    "raktár készlet": "10"
                                },
                                {
                                    "ID": "216",
                                    "cim": "Multimédiás Menedzsment Könyvtár 2. - Önszervezés",
                                    "stilus": "ismeretterjesztő",
                                    "szam": "8727",
                                    "nettoar": "3279",
                                    "lang": "1",
                                    "raktár készlet": "10"
                                },
                                {
                                    "ID": "217",
                                    "cim": "Musique! (1997)",
                                    "stilus": "zene",
                                    "szam": "4842",
                                    "nettoar": "5336",
                                    "lang": "2",
                                    "raktár készlet": "10"
                                },
                                {
                                    "ID": "218",
                                    "cim": "Művészet és mesterség",
                                    "stilus": "művészet",
                                    "szam": "8435",
                                    "nettoar": "6098",
                                    "lang": "1",
                                    "raktár készlet": "10"
                                },
                                {
                                    "ID": "219",
                                    "cim": "Művészet és művészek (2002)",
                                    "stilus": "művészet",
                                    "szam": "13302",
                                    "nettoar": "3490",
                                    "lang": "1",
                                    "raktár készlet": "10"
                                },
                                {
                                    "ID": "220",
                                    "cim": "Nagy képes világtörténet (Matczáli Henrik) (1998)",
                                    "stilus": "történelem",
                                    "szam": "13971",
                                    "nettoar": "4387",
                                    "lang": "1",
                                    "raktár készlet": "10"
                                },
                                {
                                    "ID": "221",
                                    "cim": "Nagy vicc tár",
                                    "stilus": "humor",
                                    "szam": "3862",
                                    "nettoar": "5573",
                                    "lang": "1",
                                    "raktár készlet": "10"
                                },
                                {
                                    "ID": "222",
                                    "cim": "A Nagybányai Festőiskola (1998)",
                                    "stilus": "művészet",
                                    "szam": "3769",
                                    "nettoar": "4877",
                                    "lang": "1",
                                    "raktár készlet": "10"
                                },
                                {
                                    "ID": "223",
                                    "cim": "NASA 1.",
                                    "stilus": "csillagászat",
                                    "szam": "3824",
                                    "nettoar": "5968",
                                    "lang": "1",
                                    "raktár készlet": "10"
                                },
                                {
                                    "ID": "224",
                                    "cim": "NASA 2.",
                                    "stilus": "csillagászat",
                                    "szam": "3825",
                                    "nettoar": "4147",
                                    "lang": "1",
                                    "raktár készlet": "10"
                                },
                                {
                                    "ID": "225",
                                    "cim": "Na, So Was? - Minden helyzetben otthonosan",
                                    "stilus": "nyelvtanító",
                                    "szam": "7864",
                                    "nettoar": "3600",
                                    "lang": "3",
                                    "raktár készlet": "10"
                                },
                                {
                                    "ID": "226",
                                    "cim": "Német : 8-10 éveseknek (2002)",
                                    "stilus": "nyelvtanító",
                                    "szam": "13318",
                                    "nettoar": "3754",
                                    "lang": "3",
                                    "raktár készlet": "10"
                                },
                                {
                                    "ID": "227",
                                    "cim": "Német szótanító CD-ROM",
                                    "stilus": "nyelvtanító",
                                    "szam": "4226",
                                    "nettoar": "3313",
                                    "lang": "3",
                                    "raktár készlet": "10"
                                },
                                {
                                    "ID": "228",
                                    "cim": "Németh László összes műve",
                                    "stilus": "irodalom",
                                    "szam": "11682",
                                    "nettoar": "4497",
                                    "lang": "1",
                                    "raktár készlet": "10"
                                },
                                {
                                    "ID": "229",
                                    "cim": "New York : a tragédiák városa (2001)",
                                    "stilus": "ismeretterjesztő",
                                    "szam": "13032",
                                    "nettoar": "3723",
                                    "lang": "1",
                                    "raktár készlet": "10"
                                },
                                {
                                    "ID": "230",
                                    "cim": "NHL 2001",
                                    "stilus": "játék (jégkorong)",
                                    "szam": "10904",
                                    "nettoar": "5242",
                                    "lang": "2",
                                    "raktár készlet": "10"
                                },
                                {
                                    "ID": "231",
                                    "cim": "Nincs királyi út - A matematika kultúrtörténete",
                                    "stilus": "matematika",
                                    "szam": "7605",
                                    "nettoar": "4353",
                                    "lang": "1",
                                    "raktár készlet": "10"
                                },
                                {
                                    "ID": "232",
                                    "cim": "Nyelvész : Angol és német haladóknak (1997)",
                                    "stilus": "nyelvtanító",
                                    "szam": "1415",
                                    "nettoar": "3522",
                                    "lang": "2",
                                    "raktár készlet": "10"
                                },
                                {
                                    "ID": "233",
                                    "cim": "Nyelvtan összefoglaló : érettségi előkészítő (2002)",
                                    "stilus": "nyelvtan",
                                    "szam": "13715",
                                    "nettoar": "3688",
                                    "lang": "1",
                                    "raktár készlet": "10"
                                },
                                {
                                    "ID": "234",
                                    "cim": "Az óceán világa - Maldiv szigetek (2000)",
                                    "stilus": "földrajz",
                                    "szam": "10212",
                                    "nettoar": "5833",
                                    "lang": "1",
                                    "raktár készlet": "10"
                                },
                                {
                                    "ID": "235",
                                    "cim": "Ókori lexikon",
                                    "stilus": "történelem",
                                    "szam": "11670",
                                    "nettoar": "3122",
                                    "lang": "1",
                                    "raktár készlet": "10"
                                },
                                {
                                    "ID": "236",
                                    "cim": "Olasz-magyar, magyar-olasz digitális szótár",
                                    "stilus": "szótár",
                                    "szam": "12331",
                                    "nettoar": "4107",
                                    "lang": "4",
                                    "raktár készlet": "10"
                                },
                                {
                                    "ID": "237",
                                    "cim": "Olasz szótanító CD-ROM",
                                    "stilus": "nyelvtanító",
                                    "szam": "4070",
                                    "nettoar": "5108",
                                    "lang": "4",
                                    "raktár készlet": "10"
                                },
                                {
                                    "ID": "238",
                                    "cim": "Orosz (1998)",
                                    "stilus": "nyelvtanító",
                                    "szam": "4891",
                                    "nettoar": "6009",
                                    "lang": "5",
                                    "raktár készlet": "10"
                                },
                                {
                                    "ID": "239",
                                    "cim": "Orosz-magyar nagyszótár",
                                    "stilus": "szótár",
                                    "szam": "8322",
                                    "nettoar": "4666",
                                    "lang": "5",
                                    "raktár készlet": "10"
                                },
                                {
                                    "ID": "240",
                                    "cim": "Az Országos Széchényi Könyvtár corvinái, 2002 (2002)",
                                    "stilus": "történelem",
                                    "szam": "13847",
                                    "nettoar": "4753",
                                    "lang": "1",
                                    "raktár készlet": "10"
                                },
                                {
                                    "ID": "241",
                                    "cim": "Az Osztrák-Magyar Monarchia írásban és képekben (2001)",
                                    "stilus": "történelem",
                                    "szam": "13957",
                                    "nettoar": "4359",
                                    "lang": "1",
                                    "raktár készlet": "10"
                                },
                                {
                                    "ID": "242",
                                    "cim": "Paddle Bash (2001)",
                                    "stilus": "játék",
                                    "szam": "10900",
                                    "nettoar": "3937",
                                    "lang": "2",
                                    "raktár készlet": "10"
                                },
                                {
                                    "ID": "243",
                                    "cim": "Pannon Enciklopédia (1998)",
                                    "stilus": "történelem",
                                    "szam": "4004",
                                    "nettoar": "4606",
                                    "lang": "1",
                                    "raktár készlet": "10"
                                },
                                {
                                    "ID": "244",
                                    "cim": "Pannonhalmi Főapátság (2001)",
                                    "stilus": "történelem",
                                    "szam": "13896",
                                    "nettoar": "5817",
                                    "lang": "1",
                                    "raktár készlet": "10"
                                },
                                {
                                    "ID": "245",
                                    "cim": "Panzer General III: Scorched Earth (2000)",
                                    "stilus": "játék",
                                    "szam": "14253",
                                    "nettoar": "6058",
                                    "lang": "2",
                                    "raktár készlet": "10"
                                },
                                {
                                    "ID": "246",
                                    "cim": "People's General (1998)",
                                    "stilus": "játék",
                                    "szam": "3946",
                                    "nettoar": "5623",
                                    "lang": "2",
                                    "raktár készlet": "10"
                                },
                                {
                                    "ID": "247",
                                    "cim": "Petőfi Sándor: Arany Lacinak (2002)",
                                    "stilus": "irodalom",
                                    "szam": "13435",
                                    "nettoar": "5488",
                                    "lang": "1",
                                    "raktár készlet": "10"
                                },
                                {
                                    "ID": "248",
                                    "cim": "Petőfi Sándor összes költeményei",
                                    "stilus": "irodalom",
                                    "szam": "8543",
                                    "nettoar": "3782",
                                    "lang": "1",
                                    "raktár készlet": "10"
                                },
                                {
                                    "ID": "249",
                                    "cim": "Plane Crazy",
                                    "stilus": "játék",
                                    "szam": "10205",
                                    "nettoar": "5011",
                                    "lang": "2",
                                    "raktár készlet": "10"
                                },
                                {
                                    "ID": "250",
                                    "cim": "Quake III. (2001)",
                                    "stilus": "játék",
                                    "szam": "14248-249",
                                    "nettoar": "3144",
                                    "lang": "2",
                                    "raktár készlet": "10"
                                },
                                {
                                    "ID": "251",
                                    "cim": "Rákóczi-szabadságharc",
                                    "stilus": "történelem",
                                    "szam": "8552",
                                    "nettoar": "4778",
                                    "lang": "1",
                                    "raktár készlet": "10"
                                },
                                {
                                    "ID": "252",
                                    "cim": "Rally Championship",
                                    "stilus": "játék (autóverseny)",
                                    "szam": "10190",
                                    "nettoar": "3106",
                                    "lang": "2",
                                    "raktár készlet": "10"
                                },
                                {
                                    "ID": "253",
                                    "cim": "Rayman: Matek és olvasás",
                                    "stilus": "matematika, nyelvtan",
                                    "szam": "7969",
                                    "nettoar": "4484",
                                    "lang": "1",
                                    "raktár készlet": "10"
                                },
                                {
                                    "ID": "254",
                                    "cim": "Re-Volt (1999)",
                                    "stilus": "játék - autós",
                                    "szam": "6828",
                                    "nettoar": "3989",
                                    "lang": "2",
                                    "raktár készlet": "10"
                                },
                                {
                                    "ID": "255",
                                    "cim": "The Settlers III. 1-2. (1998)",
                                    "stilus": "játék",
                                    "szam": "3968-3968",
                                    "nettoar": "4267",
                                    "lang": "2",
                                    "raktár készlet": "10"
                                },
                                {
                                    "ID": "256",
                                    "cim": "The Settlers IV. (2001)",
                                    "stilus": "játék",
                                    "szam": "14237",
                                    "nettoar": "4143",
                                    "lang": "1",
                                    "raktár készlet": "10"
                                },
                                {
                                    "ID": "257",
                                    "cim": "Shanghai (1997)",
                                    "stilus": "ismeretterjesztő",
                                    "szam": "3924",
                                    "nettoar": "5900",
                                    "lang": "2",
                                    "raktár készlet": "10"
                                },
                                {
                                    "ID": "258",
                                    "cim": "The Sims",
                                    "stilus": "játék",
                                    "szam": "12358",
                                    "nettoar": "4043",
                                    "lang": "2",
                                    "raktár készlet": "10"
                                },
                                {
                                    "ID": "259",
                                    "cim": "Sonic Racer",
                                    "stilus": "játék (autóverseny)",
                                    "szam": "11009",
                                    "nettoar": "3450",
                                    "lang": "2",
                                    "raktár készlet": "10"
                                },
                                {
                                    "ID": "260",
                                    "cim": "Spanyol (1997)",
                                    "stilus": "nyelvtanító",
                                    "szam": "4898",
                                    "nettoar": "3775",
                                    "lang": "6",
                                    "raktár készlet": "10"
                                },
                                {
                                    "ID": "261",
                                    "cim": "Spanyol-magyar szótár",
                                    "stilus": "szótár",
                                    "szam": "8323",
                                    "nettoar": "5734",
                                    "lang": "6",
                                    "raktár készlet": "10"
                                },
                                {
                                    "ID": "262",
                                    "cim": "Star Wars: Battle for Naboo",
                                    "stilus": "játék",
                                    "szam": "11006",
                                    "nettoar": "3520",
                                    "lang": "2",
                                    "raktár készlet": "10"
                                },
                                {
                                    "ID": "263",
                                    "cim": "Star Wars: Force Commander (2001)",
                                    "stilus": "játék",
                                    "szam": "14246",
                                    "nettoar": "5785",
                                    "lang": "2",
                                    "raktár készlet": "10"
                                },
                                {
                                    "ID": "264",
                                    "cim": "Star Wars : Rogue Squadron 3D",
                                    "stilus": "játék",
                                    "szam": "12326",
                                    "nettoar": "5803",
                                    "lang": "2",
                                    "raktár készlet": "10"
                                },
                                {
                                    "ID": "265",
                                    "cim": "Supreme Snowboarding",
                                    "stilus": "játék",
                                    "szam": "8051",
                                    "nettoar": "4151",
                                    "lang": "2",
                                    "raktár készlet": "10"
                                },
                                {
                                    "ID": "266",
                                    "cim": "Szabadítsd ki a kisoroszlánt!",
                                    "stilus": "játék",
                                    "szam": "7986",
                                    "nettoar": "5537",
                                    "lang": "1",
                                    "raktár készlet": "10"
                                },
                                {
                                    "ID": "267",
                                    "cim": "Szabadságharc 1848-49 (1988)",
                                    "stilus": "történelem",
                                    "szam": "3794",
                                    "nettoar": "6060",
                                    "lang": "1",
                                    "raktár készlet": "10"
                                },
                                {
                                    "ID": "268",
                                    "cim": "A szabadságharc népzenei emlékei",
                                    "stilus": "zene",
                                    "szam": "9603",
                                    "nettoar": "5187",
                                    "lang": "1",
                                    "raktár készlet": "10"
                                },
                                {
                                    "ID": "269",
                                    "cim": "Szolfézs: Kezdőknek és haladóknak",
                                    "stilus": "zene",
                                    "szam": "8237",
                                    "nettoar": "4492",
                                    "lang": "1",
                                    "raktár készlet": "10"
                                },
                                {
                                    "ID": "270",
                                    "cim": "Talk To Me Deutsch 2-4.",
                                    "stilus": "nyelvtanító",
                                    "szam": "3684-3691-3696",
                                    "nettoar": "5990",
                                    "lang": "3",
                                    "raktár készlet": "10"
                                },
                                {
                                    "ID": "271",
                                    "cim": "Talk To Me English 1.",
                                    "stilus": "nyelvtanító",
                                    "szam": "3516",
                                    "nettoar": "4743",
                                    "lang": "2",
                                    "raktár készlet": "10"
                                },
                                {
                                    "ID": "272",
                                    "cim": "Talk To Me Francais 1-2.",
                                    "stilus": "nyelvtanító",
                                    "szam": "4152-4138",
                                    "nettoar": "4973",
                                    "lang": "7",
                                    "raktár készlet": "10"
                                },
                                {
                                    "ID": "273",
                                    "cim": "Tankok, tüzérség (2002)",
                                    "stilus": "történelem",
                                    "szam": "14872",
                                    "nettoar": "6084",
                                    "lang": "1",
                                    "raktár készlet": "10"
                                },
                                {
                                    "ID": "274",
                                    "cim": "Tanulj tovább! 2000 (2000)",
                                    "stilus": "ismeretterjesztő",
                                    "szam": "8986",
                                    "nettoar": "4310",
                                    "lang": "1",
                                    "raktár készlet": "10"
                                },
                                {
                                    "ID": "275",
                                    "cim": "Táplálkozás, életmód mesterfokon (2002)",
                                    "stilus": "ismeretterjesztő",
                                    "szam": "14921",
                                    "nettoar": "4480",
                                    "lang": "1",
                                    "raktár készlet": "10"
                                },
                                {
                                    "ID": "276",
                                    "cim": "Target English (1998)",
                                    "stilus": "nyelvtanító",
                                    "szam": "4655",
                                    "nettoar": "6061",
                                    "lang": "2",
                                    "raktár készlet": "10"
                                },
                                {
                                    "ID": "277",
                                    "cim": "Tarzan",
                                    "stilus": "játék",
                                    "szam": "6860",
                                    "nettoar": "3737",
                                    "lang": "2",
                                    "raktár készlet": "10"
                                },
                                {
                                    "ID": "278",
                                    "cim": "Terrorizmus (2002)",
                                    "stilus": "ismeretterjesztő",
                                    "szam": "14862",
                                    "nettoar": "4877",
                                    "lang": "1",
                                    "raktár készlet": "10"
                                },
                                {
                                    "ID": "279",
                                    "cim": "Testbeszéd (1998)",
                                    "stilus": "ismeretterjesztő",
                                    "szam": "4712",
                                    "nettoar": "5382",
                                    "lang": "1",
                                    "raktár készlet": "10"
                                },
                                {
                                    "ID": "280",
                                    "cim": "Tesztre készen: angol (1998)",
                                    "stilus": "nyelvtanító",
                                    "szam": "4811",
                                    "nettoar": "4157",
                                    "lang": "2",
                                    "raktár készlet": "10"
                                },
                                {
                                    "ID": "281",
                                    "cim": "Tesztre készen: német (1998)",
                                    "stilus": "nyelvtanító",
                                    "szam": "4831",
                                    "nettoar": "4566",
                                    "lang": "3",
                                    "raktár készlet": "10"
                                },
                                {
                                    "ID": "282",
                                    "cim": "Thaiföldi ízek (1999)",
                                    "stilus": "gasztronómia",
                                    "szam": "8745",
                                    "nettoar": "5250",
                                    "lang": "1",
                                    "raktár készlet": "10"
                                },
                                {
                                    "ID": "283",
                                    "cim": "Timeshock!",
                                    "stilus": "játék",
                                    "szam": "9486",
                                    "nettoar": "5159",
                                    "lang": "2",
                                    "raktár készlet": "10"
                                },
                                {
                                    "ID": "284",
                                    "cim": "Tomi megmenti a tengert (2000)",
                                    "stilus": "játék",
                                    "szam": "14232",
                                    "nettoar": "4325",
                                    "lang": "1",
                                    "raktár készlet": "10"
                                },
                                {
                                    "ID": "285",
                                    "cim": "Touché - The Adventures of the Fifth",
                                    "stilus": "játék",
                                    "szam": "760",
                                    "nettoar": "4548",
                                    "lang": "2",
                                    "raktár készlet": "10"
                                },
                                {
                                    "ID": "286",
                                    "cim": "Toy Story 2.",
                                    "stilus": "játék",
                                    "szam": "8043",
                                    "nettoar": "3809",
                                    "lang": "2",
                                    "raktár készlet": "10"
                                },
                                {
                                    "ID": "287",
                                    "cim": "Történelem (1998)",
                                    "stilus": "történelem",
                                    "szam": "3909",
                                    "nettoar": "3737",
                                    "lang": "1",
                                    "raktár készlet": "10"
                                },
                                {
                                    "ID": "288",
                                    "cim": "Történelem : 10-14 éveseknek (2002)",
                                    "stilus": "történelem",
                                    "szam": "13500",
                                    "nettoar": "3737",
                                    "lang": "1",
                                    "raktár készlet": "10"
                                },
                                {
                                    "ID": "289",
                                    "cim": "Történelem : középiskola 1. osztály (2002)",
                                    "stilus": "történelem",
                                    "szam": "13722",
                                    "nettoar": "3736",
                                    "lang": "1",
                                    "raktár készlet": "10"
                                },
                                {
                                    "ID": "290",
                                    "cim": "Történelem : középiskola 4. osztály (2002)",
                                    "stilus": "történelem",
                                    "szam": "13729",
                                    "nettoar": "5635",
                                    "lang": "1",
                                    "raktár készlet": "10"
                                },
                                {
                                    "ID": "291",
                                    "cim": "Traffic Giant",
                                    "stilus": "játék",
                                    "szam": "12327",
                                    "nettoar": "4385",
                                    "lang": "NULL",
                                    "raktár készlet": "10"
                                },
                                {
                                    "ID": "292",
                                    "cim": "Train Simulator (2002)",
                                    "stilus": "játék",
                                    "szam": "14250-251",
                                    "nettoar": "5428",
                                    "lang": "2",
                                    "raktár készlet": "10"
                                },
                                {
                                    "ID": "293",
                                    "cim": "Trickstyle",
                                    "stilus": "játék",
                                    "szam": "8048",
                                    "nettoar": "4651",
                                    "lang": "2",
                                    "raktár készlet": "10"
                                },
                                {
                                    "ID": "294",
                                    "cim": "A tudás próbája (2001)",
                                    "stilus": "ismeretterjesztő",
                                    "szam": "14230",
                                    "nettoar": "5461",
                                    "lang": "1",
                                    "raktár készlet": "10"
                                },
                                {
                                    "ID": "295",
                                    "cim": "Turul : 1883-1900 (2002)",
                                    "stilus": "ismeretterjesztő",
                                    "szam": "13953",
                                    "nettoar": "5238",
                                    "lang": "1",
                                    "raktár készlet": "10"
                                },
                                {
                                    "ID": "296",
                                    "cim": "UEFA Champions Leage Season",
                                    "stilus": "játék (labdarúgás)",
                                    "szam": "9387",
                                    "nettoar": "5522",
                                    "lang": "1",
                                    "raktár készlet": "10"
                                },
                                {
                                    "ID": "297",
                                    "cim": "Új Könyvek 1994-2000 (2002)",
                                    "stilus": "ismeretterjesztő",
                                    "szam": "14186",
                                    "nettoar": "6024",
                                    "lang": "1",
                                    "raktár készlet": "10"
                                },
                                {
                                    "ID": "298",
                                    "cim": "Az Univerzum története",
                                    "stilus": "csillagászat",
                                    "szam": "7591",
                                    "nettoar": "3654",
                                    "lang": "1",
                                    "raktár készlet": "10"
                                },
                                {
                                    "ID": "299",
                                    "cim": "Utazás a csillagok között (1998)",
                                    "stilus": "csillagászat",
                                    "szam": "3647",
                                    "nettoar": "5705",
                                    "lang": "1",
                                    "raktár készlet": "10"
                                },
                                {
                                    "ID": "300",
                                    "cim": "Utazás a Naprendszerben",
                                    "stilus": "csillagászat",
                                    "szam": "1071",
                                    "nettoar": "3582",
                                    "lang": "1",
                                    "raktár készlet": "10"
                                },
                                {
                                    "ID": "301",
                                    "cim": "Utazás a Naprendszerben 2.",
                                    "stilus": "csillagászat",
                                    "szam": "8162",
                                    "nettoar": "5992",
                                    "lang": "1",
                                    "raktár készlet": "10"
                                },
                                {
                                    "ID": "302",
                                    "cim": "Úton 2. (1998)",
                                    "stilus": "kresz",
                                    "szam": "3838",
                                    "nettoar": "5476",
                                    "lang": "1",
                                    "raktár készlet": "10"
                                },
                                {
                                    "ID": "303",
                                    "cim": "Üzleti protokoll CD (2002)",
                                    "stilus": "ismeretterjesztő",
                                    "szam": "13872",
                                    "nettoar": "4891",
                                    "lang": "1",
                                    "raktár készlet": "10"
                                },
                                {
                                    "ID": "304",
                                    "cim": "Várak, kastélyok, legendák 1.",
                                    "stilus": "történelem",
                                    "szam": "11170",
                                    "nettoar": "4237",
                                    "lang": "1",
                                    "raktár készlet": "10"
                                },
                                {
                                    "ID": "305",
                                    "cim": "Várak, kastélyok, legendák 2. (2002)",
                                    "stilus": "történelem",
                                    "szam": "13829",
                                    "nettoar": "3313",
                                    "lang": "1",
                                    "raktár készlet": "10"
                                },
                                {
                                    "ID": "306",
                                    "cim": "A varázslatos emberi test (1998)",
                                    "stilus": "biológia",
                                    "szam": "7918",
                                    "nettoar": "4863",
                                    "lang": "1",
                                    "raktár készlet": "10"
                                },
                                {
                                    "ID": "307",
                                    "cim": "Varázslatos szülinap",
                                    "stilus": "játék",
                                    "szam": "8020",
                                    "nettoar": "5712",
                                    "lang": "1",
                                    "raktár készlet": "10"
                                },
                                {
                                    "ID": "308",
                                    "cim": "Varázslatos történelmi nyomozás",
                                    "stilus": "történelem",
                                    "szam": "9661",
                                    "nettoar": "4395",
                                    "lang": "1",
                                    "raktár készlet": "10"
                                },
                                {
                                    "ID": "309",
                                    "cim": "A városi élet a Római Birodalomban (1999)",
                                    "stilus": "történelem",
                                    "szam": "9110",
                                    "nettoar": "5749",
                                    "lang": "1",
                                    "raktár készlet": "10"
                                },
                                {
                                    "ID": "310",
                                    "cim": "A Vazul-ág (1038-1301) (1997)",
                                    "stilus": "történelem",
                                    "szam": "1548",
                                    "nettoar": "4060",
                                    "lang": "1",
                                    "raktár készlet": "10"
                                },
                                {
                                    "ID": "311",
                                    "cim": "Világatlasz '99 (1998)",
                                    "stilus": "földrajz",
                                    "szam": "4313",
                                    "nettoar": "5399",
                                    "lang": "1",
                                    "raktár készlet": "10"
                                },
                                {
                                    "ID": "312",
                                    "cim": "Világatlasz '99 (1998)",
                                    "stilus": "földrajz",
                                    "szam": "4314",
                                    "nettoar": "5202",
                                    "lang": "1",
                                    "raktár készlet": "10"
                                },
                                {
                                    "ID": "313",
                                    "cim": "Világatlasz (2001)",
                                    "stilus": "földrajz",
                                    "szam": "13372",
                                    "nettoar": "3446",
                                    "lang": "1",
                                    "raktár készlet": "10"
                                },
                                {
                                    "ID": "314",
                                    "cim": "Világirodalom : Az ókortól napjainkig (2001)",
                                    "stilus": "irodalom",
                                    "szam": "10340",
                                    "nettoar": "3595",
                                    "lang": "1",
                                    "raktár készlet": "10"
                                },
                                {
                                    "ID": "315",
                                    "cim": "Volt egyszer egy Magyarország",
                                    "stilus": "történelem",
                                    "szam": "608",
                                    "nettoar": "5302",
                                    "lang": "1",
                                    "raktár készlet": "10"
                                },
                                {
                                    "ID": "316",
                                    "cim": "Warcraft III. (2002)",
                                    "stilus": "játék",
                                    "szam": "14236",
                                    "nettoar": "5774",
                                    "lang": "2",
                                    "raktár készlet": "10"
                                },
                                {
                                    "ID": "317",
                                    "cim": "William Shakespeare összes művei",
                                    "stilus": "irodalom",
                                    "szam": "7915",
                                    "nettoar": "4437",
                                    "lang": "1",
                                    "raktár készlet": "10"
                                },
                                {
                                    "ID": "318",
                                    "cim": "Zielpunkt Deutsch (1997)",
                                    "stilus": "nyelvtanító",
                                    "szam": "4693",
                                    "nettoar": "4144",
                                    "lang": "3",
                                    "raktár készlet": "10"
                                },
                                {
                                    "ID": "319",
                                    "cim": "Zöld Ödön a földgömbön",
                                    "stilus": "földrajz",
                                    "szam": "9869",
                                    "nettoar": "6065",
                                    "lang": "1",
                                    "raktár készlet": "10"
                                }
                            ]
                        },
                        "text/html": "<table><tr><th>ID</th><th>cim</th><th>stilus</th><th>szam</th><th>nettoar</th><th>lang</th><th>raktár készlet</th></tr><tr><td>1</td><td>NULL</td><td>történelem</td><td>12342</td><td>3859</td><td>1</td><td>10</td></tr><tr><td>2</td><td>A II. világháború története (1999)</td><td>történelem</td><td>7224</td><td>4244</td><td>1</td><td>10</td></tr><tr><td>3</td><td>3D Dinosaur - adventure</td><td>történelem</td><td>576</td><td>5041</td><td>2</td><td>10</td></tr><tr><td>4</td><td>3D virtuális origami (2000)</td><td>játék</td><td>14235-236</td><td>5355</td><td>1</td><td>10</td></tr><tr><td>5</td><td>Az 1848-1849-iki szabadságharc története (2002)</td><td>történelem</td><td>13962-963</td><td>5700</td><td>1</td><td>8</td></tr><tr><td>6</td><td>Ablak zsiráf (1999)</td><td>ismeretterjesztő</td><td>6405</td><td>3540</td><td>1</td><td>10</td></tr><tr><td>7</td><td>Ady Endre összes művei (1999)</td><td>irodalom</td><td>6334</td><td>4241</td><td>1</td><td>10</td></tr><tr><td>8</td><td>Afrika</td><td>földrajz</td><td>4248</td><td>5318</td><td>1</td><td>10</td></tr><tr><td>9</td><td>Age of Empires (2000)</td><td>játék</td><td>14242-244</td><td>4482</td><td>2</td><td>10</td></tr><tr><td>10</td><td>Airport Inc.</td><td>játék (repülős)</td><td>11026</td><td>4311</td><td>2</td><td>10</td></tr><tr><td>11</td><td>American Rodeo : BullRider 2000 (2001)</td><td>játék (rodeó)</td><td>10067</td><td>5591</td><td>2</td><td>10</td></tr><tr><td>12</td><td>Angol : 8-10 éveseknek (2002)</td><td>nyelvtanító</td><td>13293</td><td>4853</td><td>2</td><td>10</td></tr><tr><td>13</td><td>Angol és német nyelvtani gyakorlatok (2002)</td><td>nyelvtanító</td><td>13794</td><td>4906</td><td>6</td><td>10</td></tr><tr><td>14</td><td>Angol szótanító CD-ROM</td><td>nyelvtanító</td><td>1722</td><td>4449</td><td>2</td><td>10</td></tr><tr><td>15</td><td>Angol szótanító CD-ROM</td><td>nyelvtanító</td><td>4202</td><td>4444</td><td>2</td><td>10</td></tr><tr><td>16</td><td>Angol szótár (1996)</td><td>szótár</td><td>1993</td><td>3509</td><td>2</td><td>10</td></tr><tr><td>17</td><td>Angol-magyar, Magyar-angol hangosszótár</td><td>szótár</td><td>4724</td><td>5151</td><td>2</td><td>10</td></tr><tr><td>18</td><td>Angol-magyar nagyszótár (Halász Előd)</td><td>szótár</td><td>7284</td><td>5638</td><td>2</td><td>10</td></tr><tr><td>19</td><td>Az áramvonalas fakanál</td><td>gasztronómia</td><td>8500</td><td>5706</td><td>1</td><td>10</td></tr><tr><td>20</td><td>Arany János: A bajusz (2002)</td><td>irodalom</td><td>13424</td><td>3391</td><td>1</td><td>10</td></tr><tr><td>21</td><td>Az Árpád-ház története</td><td>történelem</td><td>10124</td><td>5022</td><td>1</td><td>10</td></tr><tr><td>22</td><td>Art Attack (1998)</td><td>játék</td><td>9074</td><td>3914</td><td>2</td><td>10</td></tr><tr><td>23</td><td>Art puzzle (1998)</td><td>ismeretterjesztő</td><td>2951</td><td>5786</td><td>2</td><td>10</td></tr><tr><td>24</td><td>Az ásványok világa</td><td>ásványtan</td><td>8473</td><td>5624</td><td>1</td><td>10</td></tr><tr><td>25</td><td>Ausztrália</td><td>földrajz</td><td>9554</td><td>5326</td><td>1</td><td>10</td></tr><tr><td>26</td><td>Auto 2000 - Kerékvilág</td><td>ismeretterjesztő</td><td>7873</td><td>4463</td><td>1</td><td>10</td></tr><tr><td>27</td><td>Ázsia (2000)</td><td>földrajz</td><td>8974</td><td>3123</td><td>1</td><td>10</td></tr><tr><td>28</td><td>Biblia (1995)</td><td>ismeretterjesztő</td><td>805</td><td>4440</td><td>1</td><td>10</td></tr><tr><td>29</td><td>Biológia &#39;97</td><td>biológia</td><td>1161</td><td>5543</td><td>1</td><td>10</td></tr><tr><td>30</td><td>Biológia (2000)</td><td>biológia</td><td>8982</td><td>3819</td><td>1</td><td>10</td></tr><tr><td>31</td><td>Biológia (2001)</td><td>biológia</td><td>10318</td><td>3792</td><td>1</td><td>10</td></tr><tr><td>32</td><td>Biológia : 12-14 éveseknek (2003)</td><td>biológia</td><td>14665</td><td>3482</td><td>1</td><td>10</td></tr><tr><td>33</td><td>Blinky Bill : A fantasztikus léggömbkaland</td><td>játék</td><td>10195</td><td>4076</td><td>1</td><td>10</td></tr><tr><td>34</td><td>Broken Sword II. (cop. 1997)</td><td>játék</td><td>1735-1736</td><td>4502</td><td>2</td><td>10</td></tr><tr><td>35</td><td>Budapest kalauz</td><td>földrajz</td><td>7759</td><td>4054</td><td>1</td><td>10</td></tr><tr><td>36</td><td>Budapest Museum</td><td>művészet</td><td>7777</td><td>5292</td><td>1</td><td>10</td></tr><tr><td>37</td><td>Buggy</td><td>játék</td><td>12313</td><td>5830</td><td>2</td><td>10</td></tr><tr><td>38</td><td>Byte Magyarország (2002)</td><td>számítástechnika</td><td>13993</td><td>3277</td><td>1</td><td>10</td></tr><tr><td>39</td><td>Caesar III.</td><td>játék</td><td>12322</td><td>4136</td><td>2</td><td>10</td></tr><tr><td>40</td><td>Capitalism II. (2001)</td><td>játék</td><td>14252</td><td>6062</td><td>2</td><td>10</td></tr><tr><td>41</td><td>Capitalism Plus</td><td>játék</td><td>1739</td><td>5030</td><td>2</td><td>10</td></tr><tr><td>42</td><td>Castle Explorer</td><td>játék (történelmi)</td><td>560</td><td>3707</td><td>2</td><td>10</td></tr><tr><td>43</td><td>CD Panoráma 1-4. (1998)</td><td>ismeretterjesztő</td><td>4294-4374-75-76</td><td>5422</td><td>1</td><td>10</td></tr><tr><td>44</td><td>Computer iskola (1998)</td><td>számítástechnika</td><td>3742</td><td>5260</td><td>1</td><td>10</td></tr><tr><td>45</td><td>Csizmás kandúr (1998)</td><td>játék</td><td>5285</td><td>5932</td><td>1</td><td>10</td></tr><tr><td>46</td><td>Csodálatos univerzum (1997)</td><td>csillagászat</td><td>2128</td><td>4087</td><td>1</td><td>10</td></tr><tr><td>47</td><td>Dél-Amerika (1999)</td><td>földrajz</td><td>7049</td><td>3999</td><td>1</td><td>10</td></tr><tr><td>48</td><td>Dementia 1-5. (1997)</td><td>játék</td><td>2675-2679</td><td>5919</td><td>2</td><td>10</td></tr><tr><td>49</td><td>Deutsch: Anfanger (kezdő) + Telepítő </td><td>nyelvtanító</td><td>8121-8122</td><td>5633</td><td>3</td><td>10</td></tr><tr><td>50</td><td>Deutsch: Fortgeschrittene (haladó) + Installation</td><td>nyelvtanító</td><td>6976-6977</td><td>5784</td><td>3</td><td>10</td></tr><tr><td>51</td><td>Deutsch: Mittelstufe (középhaladó)+ Telepítő</td><td>nyelvtanító</td><td>8123-8124</td><td>4377</td><td>3</td><td>10</td></tr><tr><td>52</td><td>Diablo</td><td>játék</td><td>12321</td><td>5969</td><td>NULL</td><td>10</td></tr><tr><td>53</td><td>Diablo II. (2000)</td><td>játék</td><td>10039-40-41-42</td><td>4900</td><td>2</td><td>10</td></tr><tr><td>54</td><td>Dicső napok és hétköznapok 1848 - Digitális forrásgyűjtemény 1.</td><td>történelem</td><td>7793</td><td>5611</td><td>1</td><td>10</td></tr><tr><td>55</td><td>Dreams to Reality 1-2. (1997)</td><td>játék</td><td>3958-3959</td><td>4699</td><td>2</td><td>10</td></tr><tr><td>56</td><td>Duke Nukem 3D</td><td>játék</td><td>100</td><td>5474</td><td>2</td><td>10</td></tr><tr><td>57</td><td>Dungeon Keeper 2. (1999)</td><td>játék</td><td>6831</td><td>3369</td><td>2</td><td>10</td></tr><tr><td>58</td><td>E-Games : Collector&#39;s Edition (2001)</td><td>játék</td><td>9988</td><td>5583</td><td>2</td><td>10</td></tr><tr><td>59</td><td>Éléstár (1998)</td><td>gasztronómia</td><td>3014</td><td>3258</td><td>1</td><td>10</td></tr><tr><td>60</td><td>Élet a polgárosodó Magyarországon (2001)</td><td>történelem</td><td>13357</td><td>5572</td><td>1</td><td>10</td></tr><tr><td>61</td><td>Életképek 1848 (1998)</td><td>történelem</td><td>3874</td><td>4211</td><td>1</td><td>10</td></tr><tr><td>62</td><td>Az ember tragédiája</td><td>irodalom</td><td>7107</td><td>4295</td><td>1</td><td>10</td></tr><tr><td>63</td><td>Encarta World Atlas &#39;99 1-2. (1998)</td><td>ismeretterjesztő</td><td>4786-4787</td><td>5334</td><td>2</td><td>10</td></tr><tr><td>64</td><td>Enemy Engaged RAH-66</td><td>játék</td><td>11010</td><td>5217</td><td>2</td><td>10</td></tr><tr><td>65</td><td>English 1-2. + Telepítő</td><td>nyelvtanító</td><td>8118-8119-8120</td><td>5215</td><td>2</td><td>10</td></tr><tr><td>67</td><td>English: Intermediate (haladó)</td><td>nyelvtanító</td><td>8116-8117</td><td>3627</td><td>2</td><td>10</td></tr><tr><td>68</td><td>English by Stealth  lásd: Lopva angolul</td><td>NULL</td><td>NULL</td><td>4478</td><td>NULL</td><td>10</td></tr><tr><td>69</td><td>Erdély (1996)</td><td>földrajz</td><td>2768</td><td>4999</td><td>1</td><td>10</td></tr><tr><td>70</td><td>Espanol: Intermedio + Telepítő</td><td>nyelvtanító</td><td>8132-8133</td><td>3914</td><td>6</td><td>10</td></tr><tr><td>71</td><td>Espanol: Principiante + Telepítő</td><td>nyelvtanító</td><td>8130-8131</td><td>5882</td><td>6</td><td>10</td></tr><tr><td>72</td><td>Észak-Amerika</td><td>földrajz</td><td>6470</td><td>3994</td><td>1</td><td>10</td></tr><tr><td>73</td><td>Európa</td><td>földrajz</td><td>7825</td><td>5270</td><td>1</td><td>10</td></tr><tr><td>74</td><td>The F.A. Premier League Stars 2001</td><td>játék (labdarúgás)</td><td>10184</td><td>3871</td><td>2</td><td>10</td></tr><tr><td>75</td><td>Felvételi példatár : Angol</td><td>felvételi</td><td>11772</td><td>3876</td><td>2</td><td>10</td></tr><tr><td>76</td><td>Felvételi példatár : Biológia, földrajz</td><td>felvételi</td><td>11794</td><td>3215</td><td>1</td><td>10</td></tr><tr><td>77</td><td>Felvételi példatár : Kémia, fizika</td><td>felvételi</td><td>11826</td><td>5851</td><td>1</td><td>10</td></tr><tr><td>78</td><td>Felvételi példatár : Magyar nyelv és irodalom</td><td>felvételi</td><td>11845</td><td>5955</td><td>1</td><td>10</td></tr><tr><td>79</td><td>Felvételi példatár : Matematika</td><td>felvételi</td><td>11867</td><td>5009</td><td>1</td><td>10</td></tr><tr><td>80</td><td>Felvételi példatár : Német</td><td>felvételi</td><td>11894</td><td>3102</td><td>3</td><td>10</td></tr><tr><td>81</td><td>FIFA, 2000 (1999)</td><td>játék (labdarúgás)</td><td>14254</td><td>5059</td><td>2</td><td>10</td></tr><tr><td>82</td><td>Fighting Force (1998)</td><td>játék</td><td>3982</td><td>4800</td><td>2</td><td>10</td></tr><tr><td>83</td><td>Final Liberation (1997)</td><td>játék</td><td>2604</td><td>4632</td><td>2</td><td>10</td></tr><tr><td>84</td><td>Fitness mesterfokon / Béres Alexandra (2001)</td><td>sport</td><td>13053</td><td>4607</td><td>1</td><td>10</td></tr><tr><td>85</td><td>Fizika : 12-14 éveseknek (2002)</td><td>fizika</td><td>13465</td><td>3734</td><td>1</td><td>10</td></tr><tr><td>86</td><td>Fizika felkészítő az érettségi és felvételi vizsgára</td><td>fizika</td><td>2328</td><td>4810</td><td>1</td><td>10</td></tr><tr><td>87</td><td>Fizika világa (2001)</td><td>fizika</td><td>13778</td><td>5763</td><td>1</td><td>10</td></tr><tr><td>88</td><td>A Föld élővilága</td><td>ismeretterjesztő</td><td>11081</td><td>5900</td><td>1</td><td>10</td></tr><tr><td>89</td><td>Földrajz: 10-14 éveseknek (2002)</td><td>földrajz</td><td>13484</td><td>3930</td><td>1</td><td>10</td></tr><tr><td>90</td><td>Földrajz: érettségi előkészítő (2002)</td><td>földrajz</td><td>13707</td><td>3173</td><td>1</td><td>10</td></tr><tr><td>91</td><td>Francais 1-2. + Telepítő</td><td>nyelvtanító</td><td>8127-8128-8129</td><td>4038</td><td>7</td><td>10</td></tr><tr><td>92</td><td>Francais: Débutan (kezdő) + Telepítő</td><td>nyelvtanító</td><td>8125-8126</td><td>3770</td><td>7</td><td>10</td></tr><tr><td>93</td><td>Francais: Moyen + Telepítő</td><td>nyelvtanító</td><td>6587-6588</td><td>5619</td><td>7</td><td>10</td></tr><tr><td>94</td><td>Francia-magyar szótár</td><td>szótár</td><td>8323</td><td>3566</td><td>7</td><td>10</td></tr><tr><td>95</td><td>Funschool in Dreamland (1995)</td><td>játék</td><td>4078</td><td>4766</td><td>2</td><td>10</td></tr><tr><td>96</td><td>Geolexikon 4.2 : földtani adatbázis (2002)</td><td>ismeretterjesztő</td><td>13232</td><td>4602</td><td>1</td><td>10</td></tr><tr><td>97</td><td>Gépírás 2000</td><td>gépírás</td><td>9803</td><td>3936</td><td>1</td><td>10</td></tr><tr><td>98</td><td>Gondolattár: aforizmák, szállóigék</td><td>ismeretterjesztő</td><td>9160</td><td>5346</td><td>1</td><td>10</td></tr><tr><td>99</td><td>GTA 2</td><td>játék (autóverseny)</td><td>11028</td><td>5005</td><td>2</td><td>10</td></tr><tr><td>100</td><td>Hadiflották I. (2002)</td><td>történelem</td><td>14849</td><td>5124</td><td>1</td><td>10</td></tr><tr><td>101</td><td>Hadtudományi lexikon (1998)</td><td>hadtudomány</td><td>4742</td><td>3515</td><td>1</td><td>10</td></tr><tr><td>102</td><td>Hajdúböszörmény</td><td>ismeretterjesztő</td><td>12844</td><td>3781</td><td>1</td><td>10</td></tr><tr><td>103</td><td>Halak, kétéltűek, hüllők</td><td>állattan</td><td>3024</td><td>4153</td><td>1</td><td>10</td></tr><tr><td>104</td><td>Half-Life (1996)</td><td>játék</td><td>4492</td><td>5405</td><td>2</td><td>10</td></tr><tr><td>105</td><td>Half-Life Generation: Game of the Year Edition (2002)</td><td>játék</td><td>14238-39</td><td>3705</td><td>2</td><td>10</td></tr><tr><td>106</td><td>Half-Life Generation: Counter Strike (2002)</td><td>játék</td><td>14240</td><td>5744</td><td>2</td><td>10</td></tr><tr><td>107</td><td>Half-Life Generation: Blue Shift (2002)</td><td>játék</td><td>14241</td><td>5728</td><td>2</td><td>10</td></tr><tr><td>108</td><td>Harry Potter és a bölcsek köve (2001)</td><td>játék</td><td>14245</td><td>4472</td><td>2</td><td>10</td></tr><tr><td>109</td><td>Haza és haladás</td><td>történelem</td><td>9599</td><td>3481</td><td>1</td><td>10</td></tr><tr><td>110</td><td>A hét világcsoda (2001)</td><td>történelem</td><td>14028</td><td>3162</td><td>1</td><td>10</td></tr><tr><td>111</td><td>Home Desing 3D (1998)</td><td>lakástervező</td><td>3356</td><td>4287</td><td>2</td><td>10</td></tr><tr><td>112</td><td>Hupikék törpikék: teletransportörp (1999)</td><td>játék</td><td>14233</td><td>3110</td><td>1</td><td>10</td></tr><tr><td>113</td><td>Informatika - Internet - Iskola</td><td>ismeretterjesztő</td><td>2007</td><td>3733</td><td>1</td><td>10</td></tr><tr><td>114</td><td>Interaktív angol nyelvész kurzus haladó szint 1-5.</td><td>nyelvtanító</td><td>1811-1815</td><td>4592</td><td>2</td><td>10</td></tr><tr><td>115</td><td>Interaktív angol nyelvész kurzus kezdő szint</td><td>nyelvtanító</td><td>1836-1840</td><td>4183</td><td>2</td><td>10</td></tr><tr><td>116</td><td>Interaktív angol nyelvész kurzus középhaladó szint</td><td>nyelvtanító</td><td>1841-1845</td><td>3115</td><td>2</td><td>10</td></tr><tr><td>117</td><td>Interaktív magyar nyelvtan</td><td>nyelvtan</td><td>1719</td><td>4779</td><td>1</td><td>10</td></tr><tr><td>118</td><td>International Rally Championship</td><td>játék (autóverseny)</td><td>9957</td><td>3890</td><td>2</td><td>10</td></tr><tr><td>119</td><td>Internet (1996)</td><td>számítástechnika</td><td>1046</td><td>4934</td><td>1</td><td>10</td></tr><tr><td>120</td><td>Introduction to Archeology</td><td>régészet</td><td>1160</td><td>3773</td><td>2</td><td>10</td></tr><tr><td>121</td><td>Investigating 20th Century Art (1994)</td><td>festészet</td><td>444</td><td>4394</td><td>2</td><td>10</td></tr><tr><td>122</td><td>Az ipari forradalom kora (2000)</td><td>történelem</td><td>8951</td><td>5082</td><td>1</td><td>10</td></tr><tr><td>123</td><td>Irodalmi arcképcsarnok</td><td>irodalom</td><td>9171</td><td>3866</td><td>1</td><td>10</td></tr><tr><td>124</td><td>Irodalom  felkészítő az érettségi és felvételi vizsgára</td><td>irodalom</td><td>2414</td><td>5654</td><td>1</td><td>10</td></tr><tr><td>125</td><td>Irodalom (1998)</td><td>irodalom</td><td>3904</td><td>5625</td><td>1</td><td>10</td></tr><tr><td>126</td><td>Italiano (1998) + Installation</td><td>nyelvtanító</td><td>5549, 5594</td><td>5436</td><td>4</td><td>10</td></tr><tr><td>127</td><td>Italiano 1-2. (1998) + Installation</td><td>nyelvtanító</td><td>5592-5593, 5550</td><td>6082</td><td>4</td><td>10</td></tr><tr><td>128</td><td>Italiano 1-2. (1998) + Installation</td><td>nyelvtanító</td><td>5607-5608, 5609</td><td>3419</td><td>4</td><td>10</td></tr><tr><td>129</td><td>Jancsó</td><td>filmtörténet</td><td>8310</td><td>4204</td><td>1</td><td>10</td></tr><tr><td>130</td><td>Japán : képes kulturális atlasz (2001)</td><td>ismeretterjesztő</td><td>12810</td><td>4459</td><td>1</td><td>10</td></tr><tr><td>131</td><td>Játékfilmek 1963-tól napjainkig</td><td>filmtörténet</td><td>7625</td><td>3138</td><td>1</td><td>10</td></tr><tr><td>132</td><td>Játszóház (1998)</td><td>játék</td><td>3779</td><td>5299</td><td>1</td><td>10</td></tr><tr><td>133</td><td>Jókai összes művei (2001)</td><td>irodalom</td><td>12119</td><td>4768</td><td>1</td><td>10</td></tr><tr><td>134</td><td>József Attila (1998)</td><td>irodalom</td><td>3036</td><td>3870</td><td>1</td><td>10</td></tr><tr><td>135</td><td>A jövő titkai - Interaktív horoszkóp (1998)</td><td>ismeretterjesztő</td><td>8990</td><td>6072</td><td>1</td><td>10</td></tr><tr><td>136</td><td>Kártyaváros</td><td>ismeretterjesztő + játék</td><td>11239</td><td>3107</td><td>1</td><td>10</td></tr><tr><td>137</td><td>Kémia Kalauz 2.</td><td>kémia</td><td>7735</td><td>5094</td><td>1</td><td>10</td></tr><tr><td>138</td><td>A kémkedés és a hírszerzés története (2002)</td><td>történelem</td><td>13230</td><td>5845</td><td>1</td><td>10</td></tr><tr><td>139</td><td>Képes krónika (1996)</td><td>történelem</td><td>327</td><td>3931</td><td>1</td><td>10</td></tr><tr><td>140</td><td>Képtárak (1995)</td><td>festészet</td><td>580</td><td>5408</td><td>1</td><td>10</td></tr><tr><td>141</td><td>Kereszt és félhold</td><td>történelem</td><td>7489</td><td>4302</td><td>1</td><td>10</td></tr><tr><td>142</td><td>Kétfejű sas: A Habsburg-uralom Magyarországon (1699-1790)</td><td>történelem</td><td>8573</td><td>5459</td><td>1</td><td>10</td></tr><tr><td>143</td><td>Kettős kötődés: Az Osztrák-Magyar Monarchia (1867-1918)</td><td>történelem</td><td>10665</td><td>4829</td><td>1</td><td>10</td></tr><tr><td>144</td><td>Kínai falatok</td><td>gasztronómia</td><td>7932</td><td>4550</td><td>1</td><td>10</td></tr><tr><td>145</td><td>Királyi könyvek 1-9. kötet</td><td>ismeretterjesztő</td><td>9175</td><td>3256</td><td>1</td><td>10</td></tr><tr><td>146</td><td>Királyi könyvek 18-26. kötet</td><td>ismeretterjesztő</td><td>11759</td><td>5507</td><td>1</td><td>10</td></tr><tr><td>147</td><td>Királyi könyvek 27-38. kötet : 1703-1740 (2002)</td><td>ismeretterjesztő</td><td>14003</td><td>5476</td><td>1</td><td>10</td></tr><tr><td>148</td><td>Kispál és a borz (1998)</td><td>zene</td><td>4624</td><td>5730</td><td>1</td><td>10</td></tr><tr><td>149</td><td>Kossuth Lajos összes munkái (2002)</td><td>ismeretterjesztő</td><td>14760</td><td>4589</td><td>1</td><td>10</td></tr><tr><td>150</td><td>Környezetvédelmi kalauz (1999)</td><td>környezetvédelem</td><td>8951</td><td>5508</td><td>1</td><td>10</td></tr><tr><td>151</td><td>Kötelező olvasmányok könyvtára 1. (2002)</td><td>irodalom</td><td>13746</td><td>3594</td><td>1</td><td>10</td></tr><tr><td>152</td><td>A kőszívű ember fiai - Egri csillagok</td><td>irodalom</td><td>6693</td><td>5538</td><td>1</td><td>10</td></tr><tr><td>153</td><td>A kutyák: A család kedvencei</td><td>állattan</td><td>7060</td><td>4963</td><td>1</td><td>10</td></tr><tr><td>154</td><td>Kutyatár</td><td>állattan</td><td>2963</td><td>5235</td><td>1</td><td>10</td></tr><tr><td>155</td><td>KvízIQ : A hét világcsoda (2001)</td><td>játék</td><td>14028</td><td>3451</td><td>1</td><td>10</td></tr><tr><td>156</td><td>Lakáskultúra 2000 (2000)</td><td>ismeretterjesztő</td><td>9791</td><td>5847</td><td>1</td><td>10</td></tr><tr><td>157</td><td>Lakáskultúra 1999 (1999)</td><td>ismeretterjesztő</td><td>9790</td><td>5414</td><td>1</td><td>10</td></tr><tr><td>158</td><td>Lakáskultúra 1998 (1998)</td><td>ismeretterjesztő</td><td>9789</td><td>5491</td><td>1</td><td>10</td></tr><tr><td>159</td><td>Lakáskultúra 1997 (1997)</td><td>ismeretterjesztő</td><td>9788</td><td>3419</td><td>1</td><td>10</td></tr><tr><td>160</td><td>Lakáskultúra 1996 (1996)</td><td>ismeretterjesztő</td><td>9787</td><td>4209</td><td>1</td><td>10</td></tr><tr><td>161</td><td>Lands of Lore II. 1-4. (1997)</td><td>játék</td><td>3929-3932</td><td>4312</td><td>2</td><td>10</td></tr><tr><td>162</td><td>Landscape Design 3D (1998)</td><td>kerttervező</td><td>3352</td><td>4951</td><td>2</td><td>10</td></tr><tr><td>163</td><td>Legféltettebb természeti értékeink</td><td>ismeretterjesztő</td><td>8821</td><td>5083</td><td>1</td><td>10</td></tr><tr><td>164</td><td>Legszebb vadnövényeink</td><td>növénytan</td><td>1193</td><td>4438</td><td>1</td><td>10</td></tr><tr><td>165</td><td>Leonardo da Vinci</td><td>múvészet</td><td>907</td><td>5118</td><td>2</td><td>10</td></tr><tr><td>166</td><td>Lilenthal Andor sakkjátszmái</td><td>játék, sakk</td><td>11479</td><td>3644</td><td>1</td><td>10</td></tr><tr><td>167</td><td>Lopva angolul /English by Stealth 1.</td><td>nyelvtanító</td><td>7011</td><td>5431</td><td>2</td><td>10</td></tr><tr><td>168</td><td>Lopva angolul /English by Stealth 2.</td><td>nyelvtanító</td><td>7012</td><td>4597</td><td>2</td><td>10</td></tr><tr><td>169</td><td>Lopva angolul /English by Stealth 3.</td><td>nyelvtanító</td><td>7013</td><td>4851</td><td>2</td><td>10</td></tr><tr><td>170</td><td>Lovagkirályok (1301-1437) (1997)</td><td>történelem</td><td>1563</td><td>4368</td><td>1</td><td>10</td></tr><tr><td>171</td><td>LoveQ, SexQ : szerelmi intelligencia (2001)</td><td>ismeretterjesztő</td><td>14231</td><td>3626</td><td>1</td><td>10</td></tr><tr><td>172</td><td>M1 Tank (1998)</td><td>játék</td><td>3974</td><td>5981</td><td>2</td><td>10</td></tr><tr><td>173</td><td>Mackó úr (2002)</td><td>játék</td><td>13819</td><td>4632</td><td>1</td><td>10</td></tr><tr><td>174</td><td>Madárdalos kirándulások - Madártani oktató CD-ROM (1999)</td><td>ismeretterjesztő</td><td>9036</td><td>3408</td><td>1</td><td>10</td></tr><tr><td>175</td><td>Magyar bélyegek katalógusa</td><td>ismeretterjesztő</td><td>8854</td><td>4035</td><td>1</td><td>10</td></tr><tr><td>176</td><td>Magyar fontok &#39;97</td><td>betűtípusok</td><td>3729</td><td>3845</td><td>1</td><td>10</td></tr><tr><td>177</td><td>A Magyar Koronázási Jelvények</td><td>történelem</td><td>4699</td><td>4122</td><td>1</td><td>10</td></tr><tr><td>178</td><td>Magyar nyelv és irodalom</td><td>irodalom, nyelv</td><td>9199</td><td>4704</td><td>1</td><td>10</td></tr><tr><td>179</td><td>Magyar színházművészet a világban</td><td>színház</td><td>9583</td><td>5158</td><td>1</td><td>10</td></tr><tr><td>180</td><td>Magyarország, 1944-1956 (2001)</td><td>történelem</td><td>13162</td><td>4921</td><td>1</td><td>10</td></tr><tr><td>181</td><td>Magyarország, 1944-1956 (2001)</td><td>történelem</td><td>15134</td><td>3673</td><td>1</td><td>10</td></tr><tr><td>182</td><td>Magyarország Nemzeti Parkjai I.</td><td>ismeretterjesztő</td><td>8531</td><td>3348</td><td>1</td><td>10</td></tr><tr><td>183</td><td>Magyarország Nemzeti Parkjai II.</td><td>ismeretterjesztő</td><td>10973</td><td>3377</td><td>1</td><td>10</td></tr><tr><td>184</td><td>Magyarországi várak (1998)</td><td>történelem</td><td>4625</td><td>5459</td><td>1</td><td>10</td></tr><tr><td>185</td><td>Mahjongg Master (1998)</td><td>játék</td><td>4509</td><td>5423</td><td>2</td><td>10</td></tr><tr><td>186</td><td>Manó Angol 1.</td><td>nyelvtanító</td><td>8162</td><td>5852</td><td>2</td><td>10</td></tr><tr><td>187</td><td>Manó Angol 1. (2002)</td><td>nyelvtanító</td><td>13876</td><td>6051</td><td>2</td><td>10</td></tr><tr><td>188</td><td>Manó Angol 2.</td><td>nyelvtanító</td><td>7643</td><td>5353</td><td>2</td><td>10</td></tr><tr><td>189</td><td>Manó Angol 2. (2000)</td><td>nyelvtanító</td><td>13885</td><td>6068</td><td>2</td><td>10</td></tr><tr><td>190</td><td>Manó Élővilág</td><td>ismeretterjesztő</td><td>7025</td><td>3474</td><td>1</td><td>10</td></tr><tr><td>191</td><td>Manó Élővilág (2002)</td><td>ismeretterjesztő</td><td>13877</td><td>4881</td><td>1</td><td>10</td></tr><tr><td>192</td><td>Manó IQ (2001)</td><td>ismeretterjesztő</td><td>10842</td><td>5383</td><td>1</td><td>10</td></tr><tr><td>193</td><td>Manó Kaland (2002)</td><td>ismeretterjesztő</td><td>13875</td><td>5967</td><td>1</td><td>10</td></tr><tr><td>194</td><td>Manó Magyarország (2002)</td><td>földrajz</td><td>13935</td><td>4150</td><td>1</td><td>10</td></tr><tr><td>195</td><td>Manó Matek 1.</td><td>matematika</td><td>7020</td><td>5995</td><td>1</td><td>10</td></tr><tr><td>196</td><td>Manó Matek 1. (2002)</td><td>matematika</td><td>13880</td><td>5396</td><td>1</td><td>10</td></tr><tr><td>197</td><td>Manó Matek 2. (1999)</td><td>matematika</td><td>7022</td><td>5568</td><td>1</td><td>10</td></tr><tr><td>198</td><td>Manó Matek 2. (1999)</td><td>matematika</td><td>13878</td><td>3536</td><td>1</td><td>10</td></tr><tr><td>199</td><td>Manó Matek 3.</td><td>matematika</td><td>9818</td><td>4803</td><td>1</td><td>10</td></tr><tr><td>200</td><td>Manó Muzsika</td><td>zene</td><td>6143</td><td>4996</td><td>1</td><td>10</td></tr><tr><td>201</td><td>Manó Muzsika</td><td>zene</td><td>8164</td><td>3391</td><td>1</td><td>10</td></tr><tr><td>202</td><td>Manó Német 2.</td><td>nyelvtanító</td><td>9834</td><td>4642</td><td>3</td><td>10</td></tr><tr><td>203</td><td>Manó Olvasás 1.</td><td>nyelvtan</td><td>8170</td><td>5845</td><td>1</td><td>10</td></tr><tr><td>204</td><td>Manó Puzzle (2002)</td><td>játék</td><td>13899</td><td>6078</td><td>1</td><td>10</td></tr><tr><td>205</td><td>Matematika (1998)</td><td>matematika</td><td>5051</td><td>3105</td><td>1</td><td>10</td></tr><tr><td>206</td><td>Matematika felkészítő az érettségi és felvételi vizsgára</td><td>matematika</td><td>2307</td><td>4616</td><td>1</td><td>10</td></tr><tr><td>207</td><td>Matematika kalauz (1997)</td><td>matematika</td><td>1856</td><td>3315</td><td>1</td><td>10</td></tr><tr><td>208</td><td>Mig-29 (1998)</td><td>játék</td><td>4463</td><td>5040</td><td>2</td><td>10</td></tr><tr><td>209</td><td>Mikszáth Kálmán összes művei</td><td>irodalom</td><td>4981</td><td>4786</td><td>1</td><td>10</td></tr><tr><td>210</td><td>Mini Manó Tavasz</td><td>ismeretterjesztő</td><td>11149</td><td>4727</td><td>1</td><td>10</td></tr><tr><td>211</td><td>MoBi Mouse: A fordító egér</td><td>fordító program</td><td>8135</td><td>5036</td><td>8</td><td>10</td></tr><tr><td>212</td><td>Monopoly Junior</td><td>játék</td><td>12317</td><td>3974</td><td>2</td><td>10</td></tr><tr><td>213</td><td>Mons Sacer Pannoniae (2001)</td><td>ismeretterjesztő</td><td>13896</td><td>4410</td><td>1</td><td>10</td></tr><tr><td>214</td><td>Moving Puzzle Action Flight (2000)</td><td>játék</td><td>10158</td><td>5477</td><td>2</td><td>10</td></tr><tr><td>215</td><td>Multimédiás Menedzsment Könyvtár 1. - Változásmenedzsment</td><td>ismeretterjesztő</td><td>8726</td><td>6057</td><td>1</td><td>10</td></tr><tr><td>216</td><td>Multimédiás Menedzsment Könyvtár 2. - Önszervezés</td><td>ismeretterjesztő</td><td>8727</td><td>3279</td><td>1</td><td>10</td></tr><tr><td>217</td><td>Musique! (1997)</td><td>zene</td><td>4842</td><td>5336</td><td>2</td><td>10</td></tr><tr><td>218</td><td>Művészet és mesterség</td><td>művészet</td><td>8435</td><td>6098</td><td>1</td><td>10</td></tr><tr><td>219</td><td>Művészet és művészek (2002)</td><td>művészet</td><td>13302</td><td>3490</td><td>1</td><td>10</td></tr><tr><td>220</td><td>Nagy képes világtörténet (Matczáli Henrik) (1998)</td><td>történelem</td><td>13971</td><td>4387</td><td>1</td><td>10</td></tr><tr><td>221</td><td>Nagy vicc tár</td><td>humor</td><td>3862</td><td>5573</td><td>1</td><td>10</td></tr><tr><td>222</td><td>A Nagybányai Festőiskola (1998)</td><td>művészet</td><td>3769</td><td>4877</td><td>1</td><td>10</td></tr><tr><td>223</td><td>NASA 1.</td><td>csillagászat</td><td>3824</td><td>5968</td><td>1</td><td>10</td></tr><tr><td>224</td><td>NASA 2.</td><td>csillagászat</td><td>3825</td><td>4147</td><td>1</td><td>10</td></tr><tr><td>225</td><td>Na, So Was? - Minden helyzetben otthonosan</td><td>nyelvtanító</td><td>7864</td><td>3600</td><td>3</td><td>10</td></tr><tr><td>226</td><td>Német : 8-10 éveseknek (2002)</td><td>nyelvtanító</td><td>13318</td><td>3754</td><td>3</td><td>10</td></tr><tr><td>227</td><td>Német szótanító CD-ROM</td><td>nyelvtanító</td><td>4226</td><td>3313</td><td>3</td><td>10</td></tr><tr><td>228</td><td>Németh László összes műve</td><td>irodalom</td><td>11682</td><td>4497</td><td>1</td><td>10</td></tr><tr><td>229</td><td>New York : a tragédiák városa (2001)</td><td>ismeretterjesztő</td><td>13032</td><td>3723</td><td>1</td><td>10</td></tr><tr><td>230</td><td>NHL 2001</td><td>játék (jégkorong)</td><td>10904</td><td>5242</td><td>2</td><td>10</td></tr><tr><td>231</td><td>Nincs királyi út - A matematika kultúrtörténete</td><td>matematika</td><td>7605</td><td>4353</td><td>1</td><td>10</td></tr><tr><td>232</td><td>Nyelvész : Angol és német haladóknak (1997)</td><td>nyelvtanító</td><td>1415</td><td>3522</td><td>2</td><td>10</td></tr><tr><td>233</td><td>Nyelvtan összefoglaló : érettségi előkészítő (2002)</td><td>nyelvtan</td><td>13715</td><td>3688</td><td>1</td><td>10</td></tr><tr><td>234</td><td>Az óceán világa - Maldiv szigetek (2000)</td><td>földrajz</td><td>10212</td><td>5833</td><td>1</td><td>10</td></tr><tr><td>235</td><td>Ókori lexikon</td><td>történelem</td><td>11670</td><td>3122</td><td>1</td><td>10</td></tr><tr><td>236</td><td>Olasz-magyar, magyar-olasz digitális szótár</td><td>szótár</td><td>12331</td><td>4107</td><td>4</td><td>10</td></tr><tr><td>237</td><td>Olasz szótanító CD-ROM</td><td>nyelvtanító</td><td>4070</td><td>5108</td><td>4</td><td>10</td></tr><tr><td>238</td><td>Orosz (1998)</td><td>nyelvtanító</td><td>4891</td><td>6009</td><td>5</td><td>10</td></tr><tr><td>239</td><td>Orosz-magyar nagyszótár</td><td>szótár</td><td>8322</td><td>4666</td><td>5</td><td>10</td></tr><tr><td>240</td><td>Az Országos Széchényi Könyvtár corvinái, 2002 (2002)</td><td>történelem</td><td>13847</td><td>4753</td><td>1</td><td>10</td></tr><tr><td>241</td><td>Az Osztrák-Magyar Monarchia írásban és képekben (2001)</td><td>történelem</td><td>13957</td><td>4359</td><td>1</td><td>10</td></tr><tr><td>242</td><td>Paddle Bash (2001)</td><td>játék</td><td>10900</td><td>3937</td><td>2</td><td>10</td></tr><tr><td>243</td><td>Pannon Enciklopédia (1998)</td><td>történelem</td><td>4004</td><td>4606</td><td>1</td><td>10</td></tr><tr><td>244</td><td>Pannonhalmi Főapátság (2001)</td><td>történelem</td><td>13896</td><td>5817</td><td>1</td><td>10</td></tr><tr><td>245</td><td>Panzer General III: Scorched Earth (2000)</td><td>játék</td><td>14253</td><td>6058</td><td>2</td><td>10</td></tr><tr><td>246</td><td>People&#39;s General (1998)</td><td>játék</td><td>3946</td><td>5623</td><td>2</td><td>10</td></tr><tr><td>247</td><td>Petőfi Sándor: Arany Lacinak (2002)</td><td>irodalom</td><td>13435</td><td>5488</td><td>1</td><td>10</td></tr><tr><td>248</td><td>Petőfi Sándor összes költeményei</td><td>irodalom</td><td>8543</td><td>3782</td><td>1</td><td>10</td></tr><tr><td>249</td><td>Plane Crazy</td><td>játék</td><td>10205</td><td>5011</td><td>2</td><td>10</td></tr><tr><td>250</td><td>Quake III. (2001)</td><td>játék</td><td>14248-249</td><td>3144</td><td>2</td><td>10</td></tr><tr><td>251</td><td>Rákóczi-szabadságharc</td><td>történelem</td><td>8552</td><td>4778</td><td>1</td><td>10</td></tr><tr><td>252</td><td>Rally Championship</td><td>játék (autóverseny)</td><td>10190</td><td>3106</td><td>2</td><td>10</td></tr><tr><td>253</td><td>Rayman: Matek és olvasás</td><td>matematika, nyelvtan</td><td>7969</td><td>4484</td><td>1</td><td>10</td></tr><tr><td>254</td><td>Re-Volt (1999)</td><td>játék - autós</td><td>6828</td><td>3989</td><td>2</td><td>10</td></tr><tr><td>255</td><td>The Settlers III. 1-2. (1998)</td><td>játék</td><td>3968-3968</td><td>4267</td><td>2</td><td>10</td></tr><tr><td>256</td><td>The Settlers IV. (2001)</td><td>játék</td><td>14237</td><td>4143</td><td>1</td><td>10</td></tr><tr><td>257</td><td>Shanghai (1997)</td><td>ismeretterjesztő</td><td>3924</td><td>5900</td><td>2</td><td>10</td></tr><tr><td>258</td><td>The Sims</td><td>játék</td><td>12358</td><td>4043</td><td>2</td><td>10</td></tr><tr><td>259</td><td>Sonic Racer</td><td>játék (autóverseny)</td><td>11009</td><td>3450</td><td>2</td><td>10</td></tr><tr><td>260</td><td>Spanyol (1997)</td><td>nyelvtanító</td><td>4898</td><td>3775</td><td>6</td><td>10</td></tr><tr><td>261</td><td>Spanyol-magyar szótár</td><td>szótár</td><td>8323</td><td>5734</td><td>6</td><td>10</td></tr><tr><td>262</td><td>Star Wars: Battle for Naboo</td><td>játék</td><td>11006</td><td>3520</td><td>2</td><td>10</td></tr><tr><td>263</td><td>Star Wars: Force Commander (2001)</td><td>játék</td><td>14246</td><td>5785</td><td>2</td><td>10</td></tr><tr><td>264</td><td>Star Wars : Rogue Squadron 3D</td><td>játék</td><td>12326</td><td>5803</td><td>2</td><td>10</td></tr><tr><td>265</td><td>Supreme Snowboarding</td><td>játék</td><td>8051</td><td>4151</td><td>2</td><td>10</td></tr><tr><td>266</td><td>Szabadítsd ki a kisoroszlánt!</td><td>játék</td><td>7986</td><td>5537</td><td>1</td><td>10</td></tr><tr><td>267</td><td>Szabadságharc 1848-49 (1988)</td><td>történelem</td><td>3794</td><td>6060</td><td>1</td><td>10</td></tr><tr><td>268</td><td>A szabadságharc népzenei emlékei</td><td>zene</td><td>9603</td><td>5187</td><td>1</td><td>10</td></tr><tr><td>269</td><td>Szolfézs: Kezdőknek és haladóknak</td><td>zene</td><td>8237</td><td>4492</td><td>1</td><td>10</td></tr><tr><td>270</td><td>Talk To Me Deutsch 2-4.</td><td>nyelvtanító</td><td>3684-3691-3696</td><td>5990</td><td>3</td><td>10</td></tr><tr><td>271</td><td>Talk To Me English 1.</td><td>nyelvtanító</td><td>3516</td><td>4743</td><td>2</td><td>10</td></tr><tr><td>272</td><td>Talk To Me Francais 1-2.</td><td>nyelvtanító</td><td>4152-4138</td><td>4973</td><td>7</td><td>10</td></tr><tr><td>273</td><td>Tankok, tüzérség (2002)</td><td>történelem</td><td>14872</td><td>6084</td><td>1</td><td>10</td></tr><tr><td>274</td><td>Tanulj tovább! 2000 (2000)</td><td>ismeretterjesztő</td><td>8986</td><td>4310</td><td>1</td><td>10</td></tr><tr><td>275</td><td>Táplálkozás, életmód mesterfokon (2002)</td><td>ismeretterjesztő</td><td>14921</td><td>4480</td><td>1</td><td>10</td></tr><tr><td>276</td><td>Target English (1998)</td><td>nyelvtanító</td><td>4655</td><td>6061</td><td>2</td><td>10</td></tr><tr><td>277</td><td>Tarzan</td><td>játék</td><td>6860</td><td>3737</td><td>2</td><td>10</td></tr><tr><td>278</td><td>Terrorizmus (2002)</td><td>ismeretterjesztő</td><td>14862</td><td>4877</td><td>1</td><td>10</td></tr><tr><td>279</td><td>Testbeszéd (1998)</td><td>ismeretterjesztő</td><td>4712</td><td>5382</td><td>1</td><td>10</td></tr><tr><td>280</td><td>Tesztre készen: angol (1998)</td><td>nyelvtanító</td><td>4811</td><td>4157</td><td>2</td><td>10</td></tr><tr><td>281</td><td>Tesztre készen: német (1998)</td><td>nyelvtanító</td><td>4831</td><td>4566</td><td>3</td><td>10</td></tr><tr><td>282</td><td>Thaiföldi ízek (1999)</td><td>gasztronómia</td><td>8745</td><td>5250</td><td>1</td><td>10</td></tr><tr><td>283</td><td>Timeshock!</td><td>játék</td><td>9486</td><td>5159</td><td>2</td><td>10</td></tr><tr><td>284</td><td>Tomi megmenti a tengert (2000)</td><td>játék</td><td>14232</td><td>4325</td><td>1</td><td>10</td></tr><tr><td>285</td><td>Touché - The Adventures of the Fifth</td><td>játék</td><td>760</td><td>4548</td><td>2</td><td>10</td></tr><tr><td>286</td><td>Toy Story 2.</td><td>játék</td><td>8043</td><td>3809</td><td>2</td><td>10</td></tr><tr><td>287</td><td>Történelem (1998)</td><td>történelem</td><td>3909</td><td>3737</td><td>1</td><td>10</td></tr><tr><td>288</td><td>Történelem : 10-14 éveseknek (2002)</td><td>történelem</td><td>13500</td><td>3737</td><td>1</td><td>10</td></tr><tr><td>289</td><td>Történelem : középiskola 1. osztály (2002)</td><td>történelem</td><td>13722</td><td>3736</td><td>1</td><td>10</td></tr><tr><td>290</td><td>Történelem : középiskola 4. osztály (2002)</td><td>történelem</td><td>13729</td><td>5635</td><td>1</td><td>10</td></tr><tr><td>291</td><td>Traffic Giant</td><td>játék</td><td>12327</td><td>4385</td><td>NULL</td><td>10</td></tr><tr><td>292</td><td>Train Simulator (2002)</td><td>játék</td><td>14250-251</td><td>5428</td><td>2</td><td>10</td></tr><tr><td>293</td><td>Trickstyle</td><td>játék</td><td>8048</td><td>4651</td><td>2</td><td>10</td></tr><tr><td>294</td><td>A tudás próbája (2001)</td><td>ismeretterjesztő</td><td>14230</td><td>5461</td><td>1</td><td>10</td></tr><tr><td>295</td><td>Turul : 1883-1900 (2002)</td><td>ismeretterjesztő</td><td>13953</td><td>5238</td><td>1</td><td>10</td></tr><tr><td>296</td><td>UEFA Champions Leage Season</td><td>játék (labdarúgás)</td><td>9387</td><td>5522</td><td>1</td><td>10</td></tr><tr><td>297</td><td>Új Könyvek 1994-2000 (2002)</td><td>ismeretterjesztő</td><td>14186</td><td>6024</td><td>1</td><td>10</td></tr><tr><td>298</td><td>Az Univerzum története</td><td>csillagászat</td><td>7591</td><td>3654</td><td>1</td><td>10</td></tr><tr><td>299</td><td>Utazás a csillagok között (1998)</td><td>csillagászat</td><td>3647</td><td>5705</td><td>1</td><td>10</td></tr><tr><td>300</td><td>Utazás a Naprendszerben</td><td>csillagászat</td><td>1071</td><td>3582</td><td>1</td><td>10</td></tr><tr><td>301</td><td>Utazás a Naprendszerben 2.</td><td>csillagászat</td><td>8162</td><td>5992</td><td>1</td><td>10</td></tr><tr><td>302</td><td>Úton 2. (1998)</td><td>kresz</td><td>3838</td><td>5476</td><td>1</td><td>10</td></tr><tr><td>303</td><td>Üzleti protokoll CD (2002)</td><td>ismeretterjesztő</td><td>13872</td><td>4891</td><td>1</td><td>10</td></tr><tr><td>304</td><td>Várak, kastélyok, legendák 1.</td><td>történelem</td><td>11170</td><td>4237</td><td>1</td><td>10</td></tr><tr><td>305</td><td>Várak, kastélyok, legendák 2. (2002)</td><td>történelem</td><td>13829</td><td>3313</td><td>1</td><td>10</td></tr><tr><td>306</td><td>A varázslatos emberi test (1998)</td><td>biológia</td><td>7918</td><td>4863</td><td>1</td><td>10</td></tr><tr><td>307</td><td>Varázslatos szülinap</td><td>játék</td><td>8020</td><td>5712</td><td>1</td><td>10</td></tr><tr><td>308</td><td>Varázslatos történelmi nyomozás</td><td>történelem</td><td>9661</td><td>4395</td><td>1</td><td>10</td></tr><tr><td>309</td><td>A városi élet a Római Birodalomban (1999)</td><td>történelem</td><td>9110</td><td>5749</td><td>1</td><td>10</td></tr><tr><td>310</td><td>A Vazul-ág (1038-1301) (1997)</td><td>történelem</td><td>1548</td><td>4060</td><td>1</td><td>10</td></tr><tr><td>311</td><td>Világatlasz &#39;99 (1998)</td><td>földrajz</td><td>4313</td><td>5399</td><td>1</td><td>10</td></tr><tr><td>312</td><td>Világatlasz &#39;99 (1998)</td><td>földrajz</td><td>4314</td><td>5202</td><td>1</td><td>10</td></tr><tr><td>313</td><td>Világatlasz (2001)</td><td>földrajz</td><td>13372</td><td>3446</td><td>1</td><td>10</td></tr><tr><td>314</td><td>Világirodalom : Az ókortól napjainkig (2001)</td><td>irodalom</td><td>10340</td><td>3595</td><td>1</td><td>10</td></tr><tr><td>315</td><td>Volt egyszer egy Magyarország</td><td>történelem</td><td>608</td><td>5302</td><td>1</td><td>10</td></tr><tr><td>316</td><td>Warcraft III. (2002)</td><td>játék</td><td>14236</td><td>5774</td><td>2</td><td>10</td></tr><tr><td>317</td><td>William Shakespeare összes művei</td><td>irodalom</td><td>7915</td><td>4437</td><td>1</td><td>10</td></tr><tr><td>318</td><td>Zielpunkt Deutsch (1997)</td><td>nyelvtanító</td><td>4693</td><td>4144</td><td>3</td><td>10</td></tr><tr><td>319</td><td>Zöld Ödön a földgömbön</td><td>földrajz</td><td>9869</td><td>6065</td><td>1</td><td>10</td></tr></table>"
                    },
                    "metadata": {}
                }
            ],
            "execution_count": 15
        },
        {
            "cell_type": "markdown",
            "source": [
                "7. Listázzuk azon diákok nevét és születési idejét, akik 1984-ben vagy 1985-ben születtek!  \n",
                "\n",
                "  \n",
                "\n",
                "a.  A születési dátum csak az évet, hónapot és a napot tartalmazza! \n",
                "\n",
                "b.  A születési dátum oszlopát nevezzük el 'Születési idő'-nek!"
            ],
            "metadata": {
                "azdata_cell_guid": "3aeb6bf5-b111-40d5-92b2-9712ce335696"
            },
            "attachments": {}
        },
        {
            "cell_type": "code",
            "source": [
                "SELECT Nev,\r\n",
                "\r\n",
                "FROM diak"
            ],
            "metadata": {
                "azdata_cell_guid": "3e89b651-f56f-4102-af52-30eb2bbe360d",
                "language": "sql"
            },
            "outputs": [],
            "execution_count": null
        },
        {
            "cell_type": "markdown",
            "source": [
                "8. Készítsünk lekérdezést, amely a tanulók nevét és az ebből képzett felhasználói nevét tartalmazza. \n",
                "\n",
                "  \n",
                "\n",
                "a.  A felhasználói név álljon a név első kettő, illetve utolsó kettő betűjének összefűzéséből!\n",
                "\n",
                "b.  A listát szűrjük azon tanulókra, akik teljes neve - szóközzel együtt - legalább 10 betűs!"
            ],
            "metadata": {
                "azdata_cell_guid": "26a504dc-ff6a-439f-94c0-4580eca3eacf"
            },
            "attachments": {}
        },
        {
            "cell_type": "code",
            "source": [
                "SELECT Nev, LEFT(Nev,2)+RIGHT(NEV,2)AS 'felhasznalo_nev'\r\n",
                "FROM diak\r\n",
                "WHERE LEN(Nev)>=10\r\n",
                ";"
            ],
            "metadata": {
                "azdata_cell_guid": "1cbb8aeb-78b5-4350-aa45-e3202fdab85b",
                "language": "sql"
            },
            "outputs": [
                {
                    "output_type": "display_data",
                    "data": {
                        "text/html": "(8 rows affected)"
                    },
                    "metadata": {}
                },
                {
                    "output_type": "display_data",
                    "data": {
                        "text/html": "Total execution time: 00:00:00.032"
                    },
                    "metadata": {}
                },
                {
                    "output_type": "execute_result",
                    "execution_count": 21,
                    "data": {
                        "application/vnd.dataresource+json": {
                            "schema": {
                                "fields": [
                                    {
                                        "name": "Nev"
                                    },
                                    {
                                        "name": "felhasznalo_nev"
                                    }
                                ]
                            },
                            "data": [
                                {
                                    "Nev": "Kovács Imre",
                                    "felhasznalo_nev": "Kore"
                                },
                                {
                                    "Nev": "Horváth Emil",
                                    "felhasznalo_nev": "Hoil"
                                },
                                {
                                    "Nev": "Kapos Petra",
                                    "felhasznalo_nev": "Kara"
                                },
                                {
                                    "Nev": "Csóka Anna",
                                    "felhasznalo_nev": "Csna"
                                },
                                {
                                    "Nev": "Nyúl Tamás",
                                    "felhasznalo_nev": "Nyás"
                                },
                                {
                                    "Nev": "Ordasi Emma",
                                    "felhasznalo_nev": "Orma"
                                },
                                {
                                    "Nev": "Koppány Olga",
                                    "felhasznalo_nev": "Koga"
                                },
                                {
                                    "Nev": "Kozma Patrícia",
                                    "felhasznalo_nev": "Koia"
                                }
                            ]
                        },
                        "text/html": "<table><tr><th>Nev</th><th>felhasznalo_nev</th></tr><tr><td>Kovács Imre</td><td>Kore</td></tr><tr><td>Horváth Emil</td><td>Hoil</td></tr><tr><td>Kapos Petra</td><td>Kara</td></tr><tr><td>Csóka Anna</td><td>Csna</td></tr><tr><td>Nyúl Tamás</td><td>Nyás</td></tr><tr><td>Ordasi Emma</td><td>Orma</td></tr><tr><td>Koppány Olga</td><td>Koga</td></tr><tr><td>Kozma Patrícia</td><td>Koia</td></tr></table>"
                    },
                    "metadata": {}
                }
            ],
            "execution_count": 21
        },
        {
            "cell_type": "markdown",
            "source": [
                "9. Készítsünk listát a diákok adatairól, ahol a diákok neve úgy jelenik meg, hogy először a keresztnév, majd a vezetéknév, közöttük szóközzel!  \n",
                "\n",
                "a.  Ezen felül a születési idő három külön oszlopban jelenjen meg (év, hónap, nap). \n",
                "\n",
                "b.  Az oszlopokat nevezzük el értelemszerűen!"
            ],
            "metadata": {
                "azdata_cell_guid": "435e2860-2dd5-4877-90f4-34a43baeb53c"
            },
            "attachments": {}
        },
        {
            "cell_type": "code",
            "source": [
                "SELECT *\r\n",
                "FROM diak\r\n",
                ";"
            ],
            "metadata": {
                "azdata_cell_guid": "ce846351-ddbe-4d8e-b8fb-2a92c73ac80b",
                "language": "sql"
            },
            "outputs": [
                {
                    "output_type": "display_data",
                    "data": {
                        "text/html": "(10 rows affected)"
                    },
                    "metadata": {}
                },
                {
                    "output_type": "display_data",
                    "data": {
                        "text/html": "Total execution time: 00:00:00.032"
                    },
                    "metadata": {}
                },
                {
                    "output_type": "execute_result",
                    "execution_count": 23,
                    "data": {
                        "application/vnd.dataresource+json": {
                            "schema": {
                                "fields": [
                                    {
                                        "name": "DiakAz"
                                    },
                                    {
                                        "name": "Nev"
                                    },
                                    {
                                        "name": "Szulido"
                                    }
                                ]
                            },
                            "data": [
                                {
                                    "DiakAz": "1",
                                    "Nev": "Kos Péter",
                                    "Szulido": "1987-11-05 00:00:00.000"
                                },
                                {
                                    "DiakAz": "2",
                                    "Nev": "Port Imre",
                                    "Szulido": "1990-05-05 00:00:00.000"
                                },
                                {
                                    "DiakAz": "3",
                                    "Nev": "Kovács Imre",
                                    "Szulido": "1984-03-02 00:00:00.000"
                                },
                                {
                                    "DiakAz": "4",
                                    "Nev": "Horváth Emil",
                                    "Szulido": "1988-05-02 00:00:00.000"
                                },
                                {
                                    "DiakAz": "5",
                                    "Nev": "Kapos Petra",
                                    "Szulido": "1985-12-23 00:00:00.000"
                                },
                                {
                                    "DiakAz": "6",
                                    "Nev": "Csóka Anna",
                                    "Szulido": "1981-11-30 00:00:00.000"
                                },
                                {
                                    "DiakAz": "7",
                                    "Nev": "Nyúl Tamás",
                                    "Szulido": "1988-02-16 00:00:00.000"
                                },
                                {
                                    "DiakAz": "8",
                                    "Nev": "Ordasi Emma",
                                    "Szulido": "1989-01-03 00:00:00.000"
                                },
                                {
                                    "DiakAz": "9",
                                    "Nev": "Koppány Olga",
                                    "Szulido": "1984-02-28 00:00:00.000"
                                },
                                {
                                    "DiakAz": "10",
                                    "Nev": "Kozma Patrícia",
                                    "Szulido": "1983-06-01 00:00:00.000"
                                }
                            ]
                        },
                        "text/html": "<table><tr><th>DiakAz</th><th>Nev</th><th>Szulido</th></tr><tr><td>1</td><td>Kos Péter</td><td>1987-11-05 00:00:00.000</td></tr><tr><td>2</td><td>Port Imre</td><td>1990-05-05 00:00:00.000</td></tr><tr><td>3</td><td>Kovács Imre</td><td>1984-03-02 00:00:00.000</td></tr><tr><td>4</td><td>Horváth Emil</td><td>1988-05-02 00:00:00.000</td></tr><tr><td>5</td><td>Kapos Petra</td><td>1985-12-23 00:00:00.000</td></tr><tr><td>6</td><td>Csóka Anna</td><td>1981-11-30 00:00:00.000</td></tr><tr><td>7</td><td>Nyúl Tamás</td><td>1988-02-16 00:00:00.000</td></tr><tr><td>8</td><td>Ordasi Emma</td><td>1989-01-03 00:00:00.000</td></tr><tr><td>9</td><td>Koppány Olga</td><td>1984-02-28 00:00:00.000</td></tr><tr><td>10</td><td>Kozma Patrícia</td><td>1983-06-01 00:00:00.000</td></tr></table>"
                    },
                    "metadata": {}
                }
            ],
            "execution_count": 23
        },
        {
            "cell_type": "markdown",
            "source": [
                "10. Készítsünk listát a munkák azonosítójáról és megnevezéséről! Egy új oszlopban azt is jelenítsük meg, hogy melyik munka hetente mennyit fizet! \n",
                "\n",
                "a.  Az oszlop neve legyen Heti bér, az értéket kerekítsük 1000 forintra! \n",
                "\n",
                "b.  A listát szűrjük azon rekordokra, ahol a kerekített heti bér 10000 Ft felett van!"
            ],
            "metadata": {
                "azdata_cell_guid": "217c5772-afe2-4a7c-b913-e3a3e09d6411"
            },
            "attachments": {}
        },
        {
            "cell_type": "code",
            "source": [
                "SELECT munkaId, allas, ROUND(oradij*oraszam*5,-3) AS 'Heti_ber'\r\n",
                "FROM munka\r\n",
                "WHERE "
            ],
            "metadata": {
                "azdata_cell_guid": "a9cc0926-3dbd-4ed8-8179-1c39d64a0762",
                "language": "sql"
            },
            "outputs": [],
            "execution_count": null
        },
        {
            "cell_type": "markdown",
            "source": [
                "11. A diákok számára differenciált béremelést terveznek: a középiskolások esetében 33%, egyéb esetben 17% mértékben. Készítsünk listát, amely tartalmazza a munkák azonosítóját, az állás nevét, az eredeti óradíjat és a tervezett emelt óradíjat.\n",
                "\n",
                "  \n",
                "\n",
                "a.  Az oszlopoknak adjuk nevet értelemszerűen!\n",
                "\n",
                "b.  Az emelt óradíj összegét kerekítsük egészre! (Az esetlegesen megjelenő 0 tizedesjegyekkel ne foglalkozzunk)"
            ],
            "metadata": {
                "azdata_cell_guid": "d2340f5f-1614-473c-b937-85740d67f7c1"
            },
            "attachments": {}
        },
        {
            "cell_type": "code",
            "source": [
                ""
            ],
            "metadata": {
                "azdata_cell_guid": "e99c2c53-898f-4787-b0e6-182d106dc16f",
                "language": "sql"
            },
            "outputs": [],
            "execution_count": null
        },
        {
            "cell_type": "markdown",
            "source": [
                "12. A diákok számára próbaidőt írnak elő, amely a munka kezdetétől számítva 3 hónapig tart.    Jelenítsük meg a munka tábla adatait egy új oszloppal kiegészítve, amelyik a próbaidő    végének dátumát mutatja!  \n",
                "\n",
                "  \n",
                "\n",
                "a.  Az oszlop neve Próbaidő vége legyen! \n",
                "\n",
                "b.  A lista ne tartalmazza azokat a munkákat, ahol a diákok azonosítója nincs megadva!"
            ],
            "metadata": {
                "azdata_cell_guid": "a765e9d6-58b3-4171-872a-78f3118fd6e3"
            },
            "attachments": {}
        },
        {
            "cell_type": "code",
            "source": [
                ""
            ],
            "metadata": {
                "azdata_cell_guid": "422e8127-b652-4d3a-bfd7-9b1637b5781e",
                "language": "sql"
            },
            "outputs": [],
            "execution_count": null
        },
        {
            "cell_type": "markdown",
            "source": [
                "13. Készítsünk listát a munkák azonosítóiról és a megnevezésükről! A megnevezés allas-óraszám formában jelenjen meg, pl: eladó-4. \n",
                "\n",
                "  \n",
                "\n",
                "a.  Jelenítsük meg a dátumot is, de csak a évet és a hónapot, pl: 2003-07! \n",
                "\n",
                "b.  Ennek az oszlopnak 'Kezdés hónapja' legyen a neve! A listát szűrjük a nyári hónapokra!"
            ],
            "metadata": {
                "azdata_cell_guid": "3f9237ae-f109-401c-acb9-31d75e73331b"
            },
            "attachments": {}
        },
        {
            "cell_type": "code",
            "source": [
                ""
            ],
            "metadata": {
                "azdata_cell_guid": "4b31bb89-cfbc-46b1-8639-85c462877786",
                "language": "sql"
            },
            "outputs": [],
            "execution_count": null
        },
        {
            "cell_type": "markdown",
            "source": [
                "14. Készítsünk listát a diákok adatairól, amely a Nev oszlop helyén a diák monogramját jeleníti meg (keresztnév, illetve vezetéknév első betűje összefűzve). \n",
                "\n",
                "a.  A listát szűrjük 1983.01.01 és 1987.06.01 között született diákokra!"
            ],
            "metadata": {
                "azdata_cell_guid": "f634e09a-85ef-4e70-8ec6-ef355dfddaa7"
            },
            "attachments": {}
        },
        {
            "cell_type": "code",
            "source": [
                ""
            ],
            "metadata": {
                "azdata_cell_guid": "88abc55b-2c78-495b-a72f-3f8f4eb5fe70",
                "language": "sql"
            },
            "outputs": [],
            "execution_count": null
        },
        {
            "cell_type": "markdown",
            "source": [
                "15. A diákok a munkakezdés évének utolsó napján bónuszt kapnak, amennyiben az adott évben legalább 6 hónapot dolgoznak. \n",
                "\n",
                "  \n",
                "\n",
                "a.  Jelenítsük meg, hogy az egyes munkák adatait, egy új oszlopban az éves bónusz napját is 'Bónusz dátum' néven! \n",
                "\n",
                "b.  A lista csak a bónuszra jogosultak adatait tartalmazza!"
            ],
            "metadata": {
                "azdata_cell_guid": "4cbf2f0d-a65d-480a-8186-ccdb24498443"
            },
            "attachments": {}
        },
        {
            "cell_type": "code",
            "source": [
                ""
            ],
            "metadata": {
                "azdata_cell_guid": "c148aee8-bc85-40bf-b80a-a4898a6c05cb",
                "language": "sql"
            },
            "outputs": [],
            "execution_count": null
        }
    ]
}